{
  "cells": [
    {
      "cell_type": "markdown",
      "metadata": {},
      "source": [
        "\n# Comparing iterative, staggered and adiabatic coupling solutions\n\n<div class=\"alert alert-info\"><h4>Note</h4><p>Useful Documentation links:\n\n    #. `Uniaxial Tension Models`\n    #. :class:`~matcal.sierra.models.RoundUniaxialTensionModel`\n    #. :class:`~matcal.core.objective_results.ObjectiveResults`\n    #. :class:`~matcal.core.parameter_studies.ParameterStudy`\n    #. `304L annealed bar viscoplastic calibrations`</p></div>\n"
      ]
    },
    {
      "cell_type": "markdown",
      "metadata": {},
      "source": [
        "As discussed in `Uniaxial Tension Models`, three coupling options are available\nin MatCal when using MatCal standard models. The easiest to use is adiabatic coupling \nwhich relies primarily on the SIERRA/SM material model to handle the temperature \nevolution due to heating due to plastic work. The adiabatic coupling feature\nis well verified in LAME and SIERRA/SM\n:cite:p:`lame_manual,SierraSM2018`. The other two methods, staggered and iterative \ncoupling, rely on the MatCal generated input to properly setup the coupling \nschemes. In MatCal, we define staggered coupling as two-way coupling where\nfirst the solid mechanics solution is updated in a time step, the displacements \nand plastic work from the solid mechanics solution is passed to the thermal \nmodel, the updated temperature is calculated from the thermal model solve, and, finally, \nthe temperatures are passed to the solid mechanics model to finish the time step. There \nis no iteration on the staggered scheme. For the iterative coupling scheme, the\nstaggered scheme is repeated until the initial thermal model residual is below some threshold. \n\nTo verify our SIERRA input for these coupling methods, we compare \nengineering stress-strain curves, temperature histories and objective values \nfor the three different coupling methods applied to the same model. For the \niterative and staggered coupling methods, we will set the material thermal conductivity to zero \nso that they will also be modeling the adiabatic condition. \nSince adiabatic coupling is well verified, we use it as \nthe reference to which the iterative and staggered solutions will be compared.\nThis example is an extension of the \n`304L annealed bar viscoplastic calibrations` examples. \nWe use the calibrated parameters, \nthe study setup and the converged discretizations from \nthat set of examples here. \nWe then verify that the MatCal generated models produce the correct responses for the \ndifferent coupling options. \nWe also perform a simple time step convergence study on the model results to see the effect \nof improved time resolution.\n\nTo begin, we once again perform the data import, model preparation \nand objective specification for the tension model from the examples linked above.\n\n\n"
      ]
    },
    {
      "cell_type": "code",
      "execution_count": null,
      "metadata": {
        "collapsed": false
      },
      "outputs": [],
      "source": [
        "from matcal import *\nimport matplotlib.pyplot as plt\n\nplt.rc('text', usetex=True)\nplt.rc('font', family='serif')\nplt.rc('font', size=12)\nfigsize = (4,3)\n\n\ndata_collection = BatchDataImporter(\"ductile_failure_ASTME8_304L_data/*.dat\", file_type=\"csv\", \n    fixed_states={\"temperature\":530, \"displacement_rate\":2e-4}).batch\ndata_collection = scale_data_collection(data_collection, \"engineering_stress\", 1000)\ndata_collection.remove_field(\"time\")\n\nyield_stress = Parameter(\"Y_0\", 30, 40, 35)\nA = Parameter(\"A\", 100, 300, 200)\nb = Parameter(\"b\", 0, 3, 2.0)\nC = Parameter(\"C\", -3, -1)\n\nsierra_material = Material(\"304L_viscoplastic\", \"304L_viscoplastic_voce_hardening.inc\",\n                           \"j2_plasticity\")\n\ngeo_params = {\"extensometer_length\": 0.75,\n               \"gauge_length\": 1.25, \n               \"gauge_radius\": 0.125, \n               \"grip_radius\": 0.25, \n               \"total_length\": 4, \n               \"fillet_radius\": 0.188,\n               \"taper\": 0.0015,\n               \"necking_region\":0.375,\n               \"element_size\": 0.005,\n               \"mesh_method\":4, \n               \"grip_contact_length\":1}\n\nstaggered_coupling = RoundUniaxialTensionModel(sierra_material, **geo_params)            \nstaggered_coupling.add_boundary_condition_data(data_collection)\nfrom matcal.sandia.computing_platforms import is_sandia_cluster, get_sandia_computing_platform\nnum_cores = 24\nif is_sandia_cluster():\n    platform = get_sandia_computing_platform()\n    num_cores = platform.processors_per_node \n    staggered_coupling.run_in_queue(\"fy220213\", 4)\n    staggered_coupling.continue_when_simulation_fails()\nstaggered_coupling.set_number_of_cores(num_cores)\nstaggered_coupling.add_constants(ref_strain_rate=1e-5, coupling=\"coupled\",\n                                      density=0.000741, \n                                      specific_heat=4.13e+05)\nstaggered_coupling.set_allowable_load_drop_factor(0.15)\nstaggered_coupling.activate_thermal_coupling(thermal_conductivity=0.0,\n                                      density=0.000741, \n                                      specific_heat=4.13e+05, \n                                      plastic_work_variable=\"plastic_work_heat_rate\")\nstaggered_coupling.set_name(\"ASTME8_tension_model_staggered_coupling\")\n\nobjective = CurveBasedInterpolatedObjective(\"engineering_strain\", \"engineering_stress\")\nobjective.set_name(\"stress_objective\")"
      ]
    },
    {
      "cell_type": "markdown",
      "metadata": {},
      "source": [
        "Now to setup the different coupling models, we will use Python's copy\nmodule to copy the ``astme8_model_staggered_coupling model``, and the set \nthe correct coupling options \nfor the new models.\n\n"
      ]
    },
    {
      "cell_type": "code",
      "execution_count": null,
      "metadata": {
        "collapsed": false
      },
      "outputs": [],
      "source": [
        "from copy import deepcopy\niterative_coupling = deepcopy(staggered_coupling)\niterative_coupling.set_name(\"ASTME8_tension_model_iterative_coupling\")\niterative_coupling.use_iterative_coupling()\n\nadiabatic = RoundUniaxialTensionModel(sierra_material, **geo_params)            \nadiabatic.add_boundary_condition_data(data_collection)\nadiabatic.set_name(\"ASTME8_tension_model_adiabatic\")\nif is_sandia_cluster():\n    adiabatic.run_in_queue(\"fy220213\", 4)\n    adiabatic.continue_when_simulation_fails()\nadiabatic.set_number_of_cores(num_cores)\nadiabatic.add_constants(ref_strain_rate=1e-5, coupling=\"adiabatic\", density=0.000741, \n                                      specific_heat=4.13e+05)\nadiabatic.set_allowable_load_drop_factor(0.15)\nadiabatic.activate_thermal_coupling()"
      ]
    },
    {
      "cell_type": "markdown",
      "metadata": {},
      "source": [
        "Similar to what was done in the convergence study, \nwe will perform a :class:`~matcal.core.parameter_studies.ParameterStudy`\nwhere the only parameters\nto be evaluated are the calibrated parameters from the initial study.\nWe then add evaluation sets for each of the models with the different coupling\nmethods.\n\n\n"
      ]
    },
    {
      "cell_type": "code",
      "execution_count": null,
      "metadata": {
        "collapsed": false
      },
      "outputs": [],
      "source": [
        "param_study = ParameterStudy(yield_stress, A, b, C)\ncalibrated_params = {\"A\": 159.62781358, \"C\": -1.3987056852,  \n                     \"Y_0\": 33.008981584, \"b\": 1.9465943453}\nparam_study.add_parameter_evaluation(**calibrated_params)\nparam_study.set_working_directory(\"coupling_study\", remove_existing=True)\nparam_study.add_evaluation_set(staggered_coupling, objective, data_collection)\nparam_study.add_evaluation_set(iterative_coupling, objective, data_collection)\nparam_study.add_evaluation_set(adiabatic, objective, data_collection)\nparam_study.set_core_limit(112)"
      ]
    },
    {
      "cell_type": "markdown",
      "metadata": {},
      "source": [
        "We can now run the study, and  after it finishes, we can compare\nthe results from the different models. For our purposes, we want to ensure that \nthe objective value is the same for each model or has an acceptable error. As \na result, we manipulate the results output from this study \nto access the objective values for each model, and then \nuse Matplotlib :cite:p:`matplotlib` to plot\nthe raw simulation stress-strain and temperature-time curves.\n\nSince we will repeat the results manipulation \nfor repeated studies where these models have \nmore time steps, we put it into\na function that can be called on each of the additional \nstudy results. This function plots the desired simulation\nresults curves, and it also returns the different models'\nobjectives and number of time steps taken during the \nsimulation. We will use this data to plot time step\nconvergence plots for the objective once all the \nsimulations are completed.\n\n\n"
      ]
    },
    {
      "cell_type": "code",
      "execution_count": null,
      "metadata": {
        "collapsed": false
      },
      "outputs": [],
      "source": [
        "results = param_study.launch()\nstate = data_collection.state_names[0]\ndef get_and_plot_results(results):\n    iterative_coupling_objective = results.best_evaluation_set_objective(iterative_coupling, objective)\n    iterative_coupling_curves = results.best_simulation_data(iterative_coupling, state)\n\n    staggered_coupling_objective = results.best_evaluation_set_objective(staggered_coupling, objective)\n    staggered_coupling_curves = results.best_simulation_data(staggered_coupling, state)\n\n    adiabatic_objective = results.best_evaluation_set_objective(adiabatic, objective)\n    adiabatic_curves = results.best_simulation_data(adiabatic, state)\n\n    plt.figure(constrained_layout=True)\n    plt.plot(iterative_coupling_curves[\"engineering_strain\"], iterative_coupling_curves[\"engineering_stress\"], label=\"iterative coupling - $K=0$\")\n    plt.plot(staggered_coupling_curves[\"engineering_strain\"], staggered_coupling_curves[\"engineering_stress\"], label=\"staggered coupling - $K=0$\")\n    plt.plot(adiabatic_curves[\"engineering_strain\"], adiabatic_curves[\"engineering_stress\"], label=\"adiabatic\")\n    plt.xlabel(\"engineering strain\")\n    plt.ylabel(\"engineering stress (psi)\")\n    plt.legend()\n\n    plt.figure(constrained_layout=True)\n    plt.plot(iterative_coupling_curves[\"time\"], iterative_coupling_curves[\"low_temperature\"], '--', color=\"#4575b4\", label=\"iterative coupling - $K=0$\")\n    plt.plot(staggered_coupling_curves[\"time\"], staggered_coupling_curves[\"low_temperature\"], color=\"#4575b4\", label=\"staggered coupling - $K=0$\")\n    plt.plot(adiabatic_curves[\"time\"], adiabatic_curves[\"low_temperature\"], color=\"#4575b4\", label=\"adiabatic\")\n\n    plt.plot(iterative_coupling_curves[\"time\"], iterative_coupling_curves[\"med_temperature\"],  '--', color=\"#fee090\", label=\"iterative coupling - $K=0$\")\n    plt.plot(staggered_coupling_curves[\"time\"], staggered_coupling_curves[\"med_temperature\"], '-.', color=\"#fee090\", label=\"staggered coupling - $K=0$\")\n    plt.plot(adiabatic_curves[\"time\"], adiabatic_curves[\"med_temperature\"], color=\"#fee090\", label=\"adiabatic\")\n\n    plt.plot(iterative_coupling_curves[\"time\"], iterative_coupling_curves[\"high_temperature\"],  '--', color=\"#d73027\", label=\"iterative coupling - $K=0$\")\n    plt.plot(staggered_coupling_curves[\"time\"], staggered_coupling_curves[\"high_temperature\"], '-.', color=\"#d73027\", label=\"staggered coupling - $K=0$\")\n    plt.plot(adiabatic_curves[\"time\"], adiabatic_curves[\"high_temperature\"], color=\"#d73027\", label=\"adiabatic\")\n\n    plt.xlabel(\"time (s)\")\n    plt.ylabel(\"temperature (R)\")\n\n    plt.legend()\n\n    objective_results = [iterative_coupling_objective, \n                         staggered_coupling_objective,\n                         adiabatic_objective,\n                         len(iterative_coupling_curves[\"time\"]), \n                         len(staggered_coupling_curves[\"time\"]), \n                         len(adiabatic_curves[\"time\"])]\n\n    return objective_results\n\ncoarse_objective_results = get_and_plot_results(results)\niterative_objective_coarse = coarse_objective_results[0]\nstaggered_objective_coarse = coarse_objective_results[1]\nadiabatic_objective_coarse = coarse_objective_results[2]\niterative_coarse_time_steps = coarse_objective_results[3]\nstaggered_coarse_time_steps = coarse_objective_results[4]\nadiabatic_coarse_time_steps = coarse_objective_results[5]"
      ]
    },
    {
      "cell_type": "markdown",
      "metadata": {},
      "source": [
        "We now update the time steps for each model, \nand then we create a new study for the updated model.\nThe new study is launched and the results are once again \nplotted and stored for the objective time step \nconvergence plot.\n\n"
      ]
    },
    {
      "cell_type": "code",
      "execution_count": null,
      "metadata": {
        "collapsed": false
      },
      "outputs": [],
      "source": [
        "staggered_coupling.set_number_of_time_steps(600)\niterative_coupling.set_number_of_time_steps(600)\nadiabatic.set_number_of_time_steps(600)\n\nparam_study = ParameterStudy(yield_stress, A, b, C)\nparam_study.add_parameter_evaluation(**calibrated_params)\nparam_study.add_evaluation_set(staggered_coupling, objective, data_collection)\nparam_study.add_evaluation_set(iterative_coupling, objective, data_collection)\nparam_study.add_evaluation_set(adiabatic, objective, data_collection)\nparam_study.set_core_limit(112)\n\nresults = param_study.launch()\n\nmed_objective_results = get_and_plot_results(results)\niterative_objective_med = med_objective_results[0]\nstaggered_objective_med = med_objective_results[1]\nadiabatic_objective_med = med_objective_results[2]\niterative_med_time_steps = med_objective_results[3]\nstaggered_med_time_steps = med_objective_results[4]\nadiabatic_med_time_steps = med_objective_results[5]"
      ]
    },
    {
      "cell_type": "markdown",
      "metadata": {},
      "source": [
        "This process is completed one last time\nfor models with a target of 1200 time steps\nfor their simulations.\n\n"
      ]
    },
    {
      "cell_type": "code",
      "execution_count": null,
      "metadata": {
        "collapsed": false
      },
      "outputs": [],
      "source": [
        "staggered_coupling.set_number_of_time_steps(1200)\niterative_coupling.set_number_of_time_steps(1200)\nadiabatic.set_number_of_time_steps(1200)\n\nparam_study = ParameterStudy(yield_stress, A, b, C)\nparam_study.add_parameter_evaluation(**calibrated_params)\nparam_study.add_evaluation_set(staggered_coupling, objective, data_collection)\nparam_study.add_evaluation_set(iterative_coupling, objective, data_collection)\nparam_study.add_evaluation_set(adiabatic, objective, data_collection)\nparam_study.set_core_limit(112)\n\nresults = param_study.launch()\n\nfine_objective_results = get_and_plot_results(results)\niterative_objective_fine = fine_objective_results[0]\nstaggered_objective_fine = fine_objective_results[1]\nadiabatic_objective_fine = fine_objective_results[2]\niterative_fine_time_steps = fine_objective_results[3]\nstaggered_fine_time_steps = fine_objective_results[4]\nadiabatic_fine_time_steps = fine_objective_results[5]"
      ]
    },
    {
      "cell_type": "markdown",
      "metadata": {},
      "source": [
        "With all objective results complete, we can \nplot the objectives for each model as a function of time step and coupling method. \nThe goal is to see whether the objectives are converging to a common value.\n\n"
      ]
    },
    {
      "cell_type": "code",
      "execution_count": null,
      "metadata": {
        "collapsed": false
      },
      "outputs": [],
      "source": [
        "plt.figure(constrained_layout=True)\nimport numpy as np\nobjectives = np.array([staggered_objective_coarse, iterative_objective_coarse, adiabatic_objective_coarse, \n          staggered_objective_med, iterative_objective_med, adiabatic_objective_med, \n          staggered_objective_fine, iterative_objective_fine, adiabatic_objective_fine,])\nx_pos = np.arange(len(objectives))\n\nplt.plot(x_pos, \n         objectives/adiabatic_objective_fine, 'o-')\nxtick_lables = [f\"staggered {staggered_coarse_time_steps} time steps\", \n                f\"iterative {iterative_coarse_time_steps} time steps\", \n                f\"adiabatic {adiabatic_coarse_time_steps} time steps\", \n                f\"staggered {staggered_med_time_steps} time steps\", \n                f\"iterative {iterative_med_time_steps} time steps\", \n                f\"adiabatic {adiabatic_med_time_steps} time steps\",\n                f\"staggered {staggered_fine_time_steps} time steps\", \n                f\"iterative {iterative_fine_time_steps} time steps\", \n                f\"adiabatic {adiabatic_fine_time_steps} time steps\",\n                ]\n\nplt.xticks(x_pos, xtick_lables,rotation=90 )\nplt.ylabel(\"normalized objective\")\n\nplt.show()"
      ]
    },
    {
      "cell_type": "markdown",
      "metadata": {},
      "source": [
        "The results displayed in the plots are notable and \nindicate that the coupling\nmodels may need improvement. Although it is clear that the \nobjectives, engineering stress-strain curves and temperature-time\ncurves are converging as the number of time steps increase,\nthe convergence is rather slow. However, the results exhibit relatively low\nerror, and the models are useful for intermediate rates where they will \nbe used. With about 900 time steps, the objective errors for the coupled models are on the order of \n1\\% for this study when compared to the adiabatic model. Any errors introduced by the coupling scheme \nare expected to have less of an effect for simulations with conduction \nwithin the material because the overall increase in temperature and, therefore, the \nstructural softening due to temperature will be reduced. \nAs a result, the iterative and staggered coupling models are considered accurate for user\ncalibrations. \nWe are actively working with the SIERRA developers to identify and \ncorrect any issues and will update the models if an issue is found and resolved.\n\n\n"
      ]
    }
  ],
  "metadata": {
    "kernelspec": {
      "display_name": "Python 3",
      "language": "python",
      "name": "python3"
    },
    "language_info": {
      "codemirror_mode": {
        "name": "ipython",
        "version": 3
      },
      "file_extension": ".py",
      "mimetype": "text/x-python",
      "name": "python",
      "nbconvert_exporter": "python",
      "pygments_lexer": "ipython3",
      "version": "3.11.5"
    }
  },
  "nbformat": 4,
  "nbformat_minor": 0
}