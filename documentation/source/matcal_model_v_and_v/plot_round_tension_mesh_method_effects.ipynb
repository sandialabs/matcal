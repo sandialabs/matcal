{
  "cells": [
    {
      "cell_type": "markdown",
      "metadata": {},
      "source": [
        "\n# Effect of *mesh_method* on simulation results\n\n<div class=\"alert alert-info\"><h4>Note</h4><p>Useful Documentation links:\n\n    #. `Uniaxial Tension Models`\n    #. :class:`~matcal.sierra.models.RoundUniaxialTensionModel`\n    #. :class:`~matcal.core.objective_results.ObjectiveResults`\n    #. :class:`~matcal.core.parameter_studies.ParameterStudy`\n    #. `304L annealed bar viscoplastic calibrations`</p></div>\n"
      ]
    },
    {
      "cell_type": "markdown",
      "metadata": {},
      "source": [
        "As discussed in `Uniaxial Tension Models`, several meshing options are available\nin MatCal when using these models. Since changing the meshing scheme can result in small\nchanges to the results, we compare the\nengineering stress-strain curves and objective values \nfor all meshing methods applied to the same model for a common target element size of 0.0035. \n\n<div class=\"alert alert-info\"><h4>Note</h4><p>This size is chosen so that all meshing schemes can be used since\n  some methods have restrictions on what element size can be used. These limits are a function \n  of element size relative to the gauge radius.</p></div>\n\nThis example is an extension of the \n`304L annealed bar viscoplastic calibrations` examples. \nWe use the calibrated parameters and \nthe study setup from \nthat set of examples here. \nWe then quantify the changes to the model outputs based on *mesh_method* choice. \n\nTo begin, we once again perform the data import, model preparation \nand objective specification for the tension model from the example linked above.\n\n\n"
      ]
    },
    {
      "cell_type": "code",
      "execution_count": null,
      "metadata": {
        "collapsed": false
      },
      "outputs": [],
      "source": [
        "from matcal import *\nimport matplotlib.pyplot as plt\n\nplt.rc('text', usetex=True)\nplt.rc('font', family='serif')\nplt.rc('font', size=12)\nfigsize = (4,3)\n\ndata_collection = BatchDataImporter(\"ductile_failure_ASTME8_304L_data/*.dat\", file_type=\"csv\", fixed_states={\"temperature\":530, \"displacement_rate\":2e-4}).batch\ndata_collection = scale_data_collection(data_collection, \"engineering_stress\", 1000)\ndata_collection.remove_field(\"time\")\n\nyield_stress = Parameter(\"Y_0\", 30, 40, 35)\nA = Parameter(\"A\", 100, 300, 200)\nb = Parameter(\"b\", 0, 3, 2.0)\nC = Parameter(\"C\", -3, -1)\n\n\nsierra_material = Material(\"304L_viscoplastic\", \"304L_viscoplastic_voce_hardening.inc\",\n                           \"j2_plasticity\")\n\ngeo_params = {\"extensometer_length\": 0.75,\n               \"gauge_length\": 1.25, \n               \"gauge_radius\": 0.125, \n               \"grip_radius\": 0.25, \n               \"total_length\": 4, \n               \"fillet_radius\": 0.188,\n               \"taper\": 0.0015,\n               \"necking_region\":0.375,\n               \"element_size\": 0.125/36,\n               \"mesh_method\":1, \n               \"grip_contact_length\":1}\n\nmesh_method_1 = RoundUniaxialTensionModel(sierra_material, **geo_params)            \nmesh_method_1.add_boundary_condition_data(data_collection)       \nfrom matcal.sandia.computing_platforms import is_sandia_cluster, get_sandia_computing_platform\nnum_cores = 24\nmesh_method_1.set_number_of_cores(num_cores)\nif is_sandia_cluster():\n    platform = get_sandia_computing_platform()\n    num_cores = platform.processors_per_node \n    mesh_method_1.run_in_queue(\"fy220213\", 4)\n    mesh_method_1.continue_when_simulation_fails()\n    mesh_method_1.set_number_of_cores(num_cores*4)\nmesh_method_1.set_allowable_load_drop_factor(0.15)\nmesh_method_1.set_name(\"ASTME8_tension_model_mesh_method_1\")\nmesh_method_1.add_constants(ref_strain_rate=1e-5, coupling=\"coupled\")\n\nobjective = CurveBasedInterpolatedObjective(\"engineering_strain\", \"engineering_stress\")\nobjective.set_name(\"stress_objective\")\n\ndef remove_uncalibrated_data_from_residual(engineering_strains, engineering_stresses, residuals):\n    import numpy as np\n    weights = np.ones(len(residuals))\n    weights[engineering_stresses < 38e3] = 0\n    weights[engineering_strains > 0.75] = 0\n    return weights*residuals\n\nresidual_weights = UserFunctionWeighting(\"engineering_strain\", \"engineering_stress\", remove_uncalibrated_data_from_residual)\nobjective.set_field_weights(residual_weights)"
      ]
    },
    {
      "cell_type": "markdown",
      "metadata": {},
      "source": [
        "Now to setup the *mesh_method* study, we will use Python's copy\nmodule to copy the astme8_model_mesh_method_1 model and modify the *mesh_method* \ngeometry parameter\nfor the new models. This can be done with the \n:meth:`~matcal.sierra.models.RoundUniaxialTensionModel.add_constants`\nmethod which can be used to override geometry parameters if desired. \nWe also change the \nnumber of cores to be used for each model because the higher *mesh_method*\nschemes result in fewer elements being created for the meshed geometry.\n\n\n"
      ]
    },
    {
      "cell_type": "code",
      "execution_count": null,
      "metadata": {
        "collapsed": false
      },
      "outputs": [],
      "source": [
        "from copy import deepcopy\nmesh_method_2 = deepcopy(mesh_method_1)\nmesh_method_2.add_constants(mesh_method=2)\nmesh_method_2.set_name(\"ASTME8_tension_model_mesh_method_2\")\n\nmesh_method_3 = deepcopy(mesh_method_1)\nmesh_method_3.add_constants(mesh_method=3)\nif is_sandia_cluster():\n    mesh_method_3.set_number_of_cores(num_cores*3)\nmesh_method_3.set_name(\"ASTME8_tension_model_mesh_method_3\")\n\nmesh_method_4 = deepcopy(mesh_method_1)\nmesh_method_4.add_constants(mesh_method=4)\nif is_sandia_cluster():\n    mesh_method_4.set_number_of_cores(num_cores*2)\nmesh_method_4.set_name(\"ASTME8_tension_model_mesh_method_4\")\n\nmesh_method_5 = deepcopy(mesh_method_1)\nmesh_method_5.add_constants(mesh_method=5)\nif is_sandia_cluster():\n    mesh_method_5.set_number_of_cores(num_cores)\nmesh_method_5.set_name(\"ASTME8_tension_model_mesh_method_5\")"
      ]
    },
    {
      "cell_type": "markdown",
      "metadata": {},
      "source": [
        "Once again, we will perform a :class:`~matcal.core.parameter_studies.ParameterStudy` where the only parameters\nto be evaluated are the calibrated parameters from the initial study.\nThis *mesh_method* study will need to evaluate all models we created,\nso each is added to the study\nas their own evaluation set. Lastly, the study core limit is set appropriately.\n\n\n"
      ]
    },
    {
      "cell_type": "code",
      "execution_count": null,
      "metadata": {
        "collapsed": false
      },
      "outputs": [],
      "source": [
        "param_collection = ParameterCollection(\"my_parameters\", yield_stress, A, b, C)\ncalibrated_params = {\"A\": 159.62781358, \"C\": -1.3987056852, \n                     \"Y_0\": 33.008981584, \"b\": 1.9465943453}\nparam_collection.update_parameters(**calibrated_params)\nparam_study = ParameterStudy(param_collection)\nparam_study.set_working_directory(\"mesh_method_study\", remove_existing=True)\nparam_study.add_evaluation_set(mesh_method_1, objective, data_collection)\nparam_study.add_evaluation_set(mesh_method_2, objective, data_collection)\nparam_study.add_evaluation_set(mesh_method_3, objective, data_collection)\nparam_study.add_evaluation_set(mesh_method_4, objective, data_collection)\nparam_study.add_evaluation_set(mesh_method_5, objective, data_collection)\nparam_study.set_core_limit(112)\n\nparam_study.add_parameter_evaluation(**calibrated_params)"
      ]
    },
    {
      "cell_type": "markdown",
      "metadata": {},
      "source": [
        "We can now run the study. After it finishes, we can make our \nresults plots. We manipulate the results output from this study \nto access the objective values for each *mesh_method*. We then \nuse Matplotlib :cite:p:`matplotlib` to plot the values versus the different *mesh_method* \noptions numbers.\nWe also plot the raw simulation stress-strain curves. \n\n\n"
      ]
    },
    {
      "cell_type": "code",
      "execution_count": null,
      "metadata": {
        "collapsed": false
      },
      "outputs": [],
      "source": [
        "results = param_study.launch()\n\nstate = data_collection.state_names[0]\nmesh_method_1_objective_results = results.best_evaluation_set_objective(mesh_method_1, objective)\nmesh_method_1_curves = results.best_simulation_data(mesh_method_1, state)\n\nmesh_method_2_objective_results = results.best_evaluation_set_objective(mesh_method_2, objective)\nmesh_method_2_curves = results.best_simulation_data(mesh_method_2, state)\n\nmesh_method_3_objective_results = results.best_evaluation_set_objective(mesh_method_3, objective)\nmesh_method_3_curves = results.best_simulation_data(mesh_method_3, state)\n\nmesh_method_4_objective_results = results.best_evaluation_set_objective(mesh_method_4, objective)\nmesh_method_4_curves = results.best_simulation_data(mesh_method_4, state)\n\nmesh_method_5_objective_results = results.best_evaluation_set_objective(mesh_method_5, objective)\nmesh_method_5_curves = results.best_simulation_data(mesh_method_5, state)\n\nimport matplotlib.pyplot as plt\nimport numpy as np\n\nmethods = [1, 2, 3, 4, 5]\nobjectives = np.array([mesh_method_1_objective_results, \n                       mesh_method_2_objective_results, \n                       mesh_method_3_objective_results, \n                       mesh_method_4_objective_results, \n                       mesh_method_5_objective_results])\nplt.figure(constrained_layout=True)\nplt.plot(methods, objectives/mesh_method_1_objective_results, 'o-')\nplt.xlabel(\"mesh method\")\nplt.ylabel(\"normalized objective value\")\n\nplt.figure(constrained_layout=True)\nplt.plot(mesh_method_1_curves[\"engineering_strain\"], mesh_method_1_curves[\"engineering_stress\"], label=\"$mesh\\_method = 1$\")\nplt.plot(mesh_method_2_curves[\"engineering_strain\"], mesh_method_2_curves[\"engineering_stress\"], label=\"$mesh\\_method = 2$\")\nplt.plot(mesh_method_3_curves[\"engineering_strain\"], mesh_method_3_curves[\"engineering_stress\"], label=\"$mesh\\_method = 3$\")\nplt.plot(mesh_method_4_curves[\"engineering_strain\"], mesh_method_4_curves[\"engineering_stress\"], label=\"$mesh\\_method = 4$\")\nplt.plot(mesh_method_5_curves[\"engineering_strain\"], mesh_method_5_curves[\"engineering_stress\"], label=\"$mesh\\_method = 5$\")\nplt.xlabel(\"engineering strain\")\nplt.ylabel(\"engineering stress (psi)\")\nplt.legend()"
      ]
    },
    {
      "cell_type": "markdown",
      "metadata": {},
      "source": [
        "The plots show that for this element size \nthe results show strong agreement; however, measurable error exists especially \nfor *mesh_method* = 5 with an error around 3%.\nAs a result, when performing mesh convergence studies, the highest *mesh_method*\nnumber appropriate for the coarsest mesh should be used, and it should be held constant \nfor all meshes in the study. Note for very coarse meshes, it is most likely acceptable \nto use *mesh_method* = 1, 2, or 3 for the coarsest mesh as the discretization errors should be much larger \nthan the results changes due to *mesh_method* alone. However, for the remaining meshes that are better resolved,\na consistent value for *mesh_method* should be used. For example, in  \n`304L stainless steel mesh and time step convergence`\nwe use *mesh_method* = 1 for the coarsest mesh and *mesh_method* = 4 for the remaining\nsimulations. Also, *mesh_method* = 5 should be used with caution since the \nmesh size transition at the necking region border likely interferes with the \nonset of necking. \n\nTo test that assumption, we will perform a final assessment of the *mesh_method* = 5\noption on the simulation results. \nFor this last simulation, we change the *necking_region* value for the *mesh_method* = 5 \nmodel in an attempt to obtain better agreement. Since the primary difference in *mesh_method* = 5\nfrom the other methods is the mesh size reduction at the edge of the necking region, we increase\nthe size of the necking region to see if the results improve.\n\n\n"
      ]
    },
    {
      "cell_type": "code",
      "execution_count": null,
      "metadata": {
        "collapsed": false
      },
      "outputs": [],
      "source": [
        "mesh_method_5.add_constants(necking_region=0.80)\nif is_sandia_cluster():\n    mesh_method_5.set_number_of_cores(num_cores*2)"
      ]
    },
    {
      "cell_type": "markdown",
      "metadata": {},
      "source": [
        "We then run just this final model and compare the engineering stress-strain curve\nto the previous *mesh_method* = 5 model results and the *mesh_method* = 1 model results.\n\n"
      ]
    },
    {
      "cell_type": "code",
      "execution_count": null,
      "metadata": {
        "collapsed": false
      },
      "outputs": [],
      "source": [
        "updated_mesh_method_5_results = mesh_method_5.run(data_collection.states[\"batch_fixed_state\"], param_collection)\nupdated_mesh_method_5_results = updated_mesh_method_5_results.results_data\n\n\nplt.figure(constrained_layout=True)\nplt.plot(mesh_method_1_curves[\"engineering_strain\"], mesh_method_1_curves[\"engineering_stress\"], label=\"$mesh\\_method = 1$\")\nplt.plot(mesh_method_5_curves[\"engineering_strain\"], mesh_method_5_curves[\"engineering_stress\"], label=\"$mesh\\_method = 5$\")\nplt.plot(updated_mesh_method_5_results[\"engineering_strain\"], updated_mesh_method_5_results[\"engineering_stress\"], label=\"updated $mesh\\_method = 5$\")\n\nplt.xlabel(\"engineering strain\")\nplt.ylabel(\"engineering stress (psi)\")\nplt.legend()\nplt.show()"
      ]
    },
    {
      "cell_type": "markdown",
      "metadata": {},
      "source": [
        "The engineering stress-strain shows that the location of the *necking_region* border\ncan delay the necking for this mesh method. \nBy moving this transition higher into the gauge section and away from the\nnecking region, it has less of an overall effect on the necking process.\nThis is most likely due to the lower\nquality elements at the mesh size transition. This effect may be lessened with a less ductile material, but \nfor this study is not negligible. \n"
      ]
    }
  ],
  "metadata": {
    "kernelspec": {
      "display_name": "Python 3",
      "language": "python",
      "name": "python3"
    },
    "language_info": {
      "codemirror_mode": {
        "name": "ipython",
        "version": 3
      },
      "file_extension": ".py",
      "mimetype": "text/x-python",
      "name": "python",
      "nbconvert_exporter": "python",
      "pygments_lexer": "ipython3",
      "version": "3.11.5"
    }
  },
  "nbformat": 4,
  "nbformat_minor": 0
}