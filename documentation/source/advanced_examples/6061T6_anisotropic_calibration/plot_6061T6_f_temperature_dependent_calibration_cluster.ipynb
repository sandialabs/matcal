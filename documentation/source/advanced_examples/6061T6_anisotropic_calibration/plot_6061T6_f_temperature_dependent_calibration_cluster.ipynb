{
  "cells": [
    {
      "cell_type": "markdown",
      "metadata": {},
      "source": [
        "\n# 6061T6 aluminum temperature dependent calibration\nWith our model form chosen and initial point for the calibration \ndetermined, we can begin the final calibration\nfor the temperature dependence \nfunctions.\n\n<div class=\"alert alert-info\"><h4>Note</h4><p>Useful Documentation links:\n\n    #. `Uniaxial Tension Models`\n    #. :class:`~matcal.sierra.models.RoundUniaxialTensionModel`\n    #. :class:`~matcal.dakota.local_calibration_studies.GradientCalibrationStudy`\n    #. :class:`~matcal.core.residuals.UserFunctionWeighting`</p></div>\n\nSince the behavior for each temperature is independent, \nwe will actually be performing three subsequent calibrations, one \nfor each temperature. \nWe begin by importing the tools needed for the calibration and \nsetting our default plotting options.\n"
      ]
    },
    {
      "cell_type": "code",
      "execution_count": null,
      "metadata": {
        "collapsed": false
      },
      "outputs": [],
      "source": [
        "from matcal import *\nfrom matcal.sandia.computing_platforms import is_sandia_cluster, get_sandia_computing_platform\n\nimport numpy as np\nimport matplotlib.pyplot as plt\nfrom matplotlib import cm\n\nplt.rc('text', usetex=True)\nplt.rc('font', family='serif')\nplt.rc('font', size=12)\nfigsize = (6,4)"
      ]
    },
    {
      "cell_type": "markdown",
      "metadata": {},
      "source": [
        "Next, we import the data for the calibration. We \nonly import the high temperature data since \nwe are only calibrating the temperature \nscaling functions as described in the previous \nsteps from this example suite. We modify the data\nafter it is imported so that the stress units are in psi \nand remove the ``time`` field as it is not required\nfor the boundary condition determination for this calibration. \nSee `Uniaxial tension solid mechanics boundary conditions`.\n\n"
      ]
    },
    {
      "cell_type": "code",
      "execution_count": null,
      "metadata": {
        "collapsed": false
      },
      "outputs": [],
      "source": [
        "high_temp_data_collection = BatchDataImporter(\"ductile_failure_aluminum_6061_data/\"\n                                              \"uniaxial_tension/processed_data/*6061*.csv\",).batch\nhigh_temp_data_collection = scale_data_collection(high_temp_data_collection, \n                                                  \"engineering_stress\", 1000)\nhigh_temp_data_collection.remove_field(\"time\")"
      ]
    },
    {
      "cell_type": "markdown",
      "metadata": {},
      "source": [
        "We save the states from the data \nin a variable we will use later when setting up \nthe calibrations.\n\n"
      ]
    },
    {
      "cell_type": "code",
      "execution_count": null,
      "metadata": {
        "collapsed": false
      },
      "outputs": [],
      "source": [
        "all_states = high_temp_data_collection.states"
      ]
    },
    {
      "cell_type": "markdown",
      "metadata": {},
      "source": [
        "Next, we plot the data to verify the data imported as expected.\nSee\n:class:`~matcal.core.data.DataCollection` and `Data Importing and Manipulation` \nfor more information on importing, manipulating and storing data in MatCal.\n\nBecause MatCal is a Python library, you can still use all the existing Python tools and features\nto manipulate data and Python objects. Here we create functions that perform the plotting \nthat we want to do for each temperature and then call these functions to \ncreate the plots we want.\nFirst, we create a function that determines colors \nfor data in a data collection\nusing the ``RdYlBu`` color map. Using this function, colors \nare set such that\ncooler temperatures are blue and higher temperatures are red \nover the temperature range that we have data (533 - 1032 R).\n\n"
      ]
    },
    {
      "cell_type": "code",
      "execution_count": null,
      "metadata": {
        "collapsed": false
      },
      "outputs": [],
      "source": [
        "cmap = cm.get_cmap(\"RdYlBu\")\ndef get_colors(bc_data_dc):\n    colors = {}\n    for state_name in bc_data_dc.state_names:\n        temp = bc_data_dc.states[state_name][\"temperature\"]\n        colors[temp] = cmap(1.0-(temp-533.0)/(1032.0-533.0))\n    return colors \ncolors = get_colors(high_temp_data_collection)"
      ]
    },
    {
      "cell_type": "markdown",
      "metadata": {},
      "source": [
        "This next function plots each \ndirection for a given temperature \non a provided figure with colors and \noptions as desired.\n\n"
      ]
    },
    {
      "cell_type": "code",
      "execution_count": null,
      "metadata": {
        "collapsed": false
      },
      "outputs": [],
      "source": [
        "def plot_directions_for_temp(temp_str, fig):\n    temp = float(temp_str)\n    high_temp_data_collection.plot(\"engineering_strain\", \"engineering_stress\", figure=fig,\n                                    show=False, state=f\"temperature_{temp_str}_direction_R22\", \n                                    color=colors[temp], labels=f\"R22, {temp:0.0f} R\",\n                                    linestyle=\"-\")\n    high_temp_data_collection.plot(\"engineering_strain\", \"engineering_stress\", figure=fig,\n                                    show=False, state=f\"temperature_{temp_str}_direction_R11\", \n                                    color=colors[temp], labels=f\"R11, {temp:0.0f} R\", \n                                    linestyle=\"--\")\n    high_temp_data_collection.plot(\"engineering_strain\", \"engineering_stress\", figure=fig,\n                                    show=False, state=f\"temperature_{temp_str}_direction_R33\", \n                                    color=colors[temp], labels=f\"R33, {temp:0.0f} R\", \n                                    linestyle=\":\")"
      ]
    },
    {
      "cell_type": "markdown",
      "metadata": {},
      "source": [
        "With our plotting functions created, \nwe create a figure and then call the plotting function\nwith the appropriate data passed to it.\n\n"
      ]
    },
    {
      "cell_type": "code",
      "execution_count": null,
      "metadata": {
        "collapsed": false
      },
      "outputs": [],
      "source": [
        "all_data_fig = plt.figure(\"high temperature data\", figsize=figsize, constrained_layout=True)\nplot_directions_for_temp(\"6.716700e+02\", all_data_fig)\nplot_directions_for_temp(\"8.516700e+02\", all_data_fig)\nplot_directions_for_temp(\"1.031670e+03\", all_data_fig)\nplt.xlabel(\"engineering strain ()\")\nplt.ylabel(\"engineering stress (psi)\")\nplt.show()"
      ]
    },
    {
      "cell_type": "markdown",
      "metadata": {},
      "source": [
        "In the plot, we can see the data imported as \nexpected and is ready to be used \nin the calibration. \n\nWe now setup the material model files\nneeded for the calibration and create \nthe MatCal :class:`~matcal.core.parameters.Parameter`\nobjects that must be calibrated for this material \nmodel.\nFirst, we create the material model \ninput file that is needed by MatCal and SIERRA/SM\nfor the :class:`~matcal.sierra.models.RoundUniaxialTensionModel`\nthat will be used in this calibration. We will \ndo this using Python's string and \nfile tools. Before creating the \nstring that will be written as \nthe material model input deck, \nwe create some variables that will be\nused in the string. \n\n"
      ]
    },
    {
      "cell_type": "code",
      "execution_count": null,
      "metadata": {
        "collapsed": false
      },
      "outputs": [],
      "source": [
        "material_model = \"hill_plasticity\"\nmaterial_name = \"ductile_failure_6061T6\"\ndensity = 0.0975/(32.1741*12)\nyoungs_modulus=10.3e6\npoissons_ratio=0.33"
      ]
    },
    {
      "cell_type": "markdown",
      "metadata": {},
      "source": [
        "With the constants defined above, we can \ncreate the material model input deck \nstring. This is a modified version of the file \nfrom `6061T6 aluminum calibration with anisotropic yield`\nwith the addition of temperature \ndependent functions for the yield and Voce hardening \nparameters.\n\n"
      ]
    },
    {
      "cell_type": "code",
      "execution_count": null,
      "metadata": {
        "collapsed": false
      },
      "outputs": [],
      "source": [
        "material_file_string = f\"\"\"\n  begin definition for function al6061T6_yield_temp_dependence\n    type is piecewise linear\n    begin values\n         533.07, 1\n         671.67,  {{Y_scale_factor_672}}\n         851.67,  {{Y_scale_factor_852}}\n        1031.67, {{Y_scale_factor_1032}}\n        1391.67, 0.01\n    end\n  end\n\n  begin definition for function al6061T6_hardening_mod_temp_dependence\n    type is piecewise linear\n    begin values\n         533.07, 1\n         671.67,  {{A_scale_factor_672}}\n         851.67,  {{A_scale_factor_852}}\n        1031.67, {{A_scale_factor_1032}}\n        1391.67, 0.01\n    end\n  end\n\n  begin definition for function al6061T6_hardening_exp_coeff_temp_dependence\n    type is piecewise linear\n    begin values\n         533.07, 1\n         671.67,  {{b_scale_factor_672}}\n         851.67,  {{b_scale_factor_852}}\n        1031.67, {{b_scale_factor_1032}}\n        1391.67, 0.01\n    end\n  end\n\n  begin material {material_name}\n    density = {density}\n    begin parameters for model {material_model}\n      poissons ratio                = {poissons_ratio}\n      youngs modulus                = {youngs_modulus}\n\n      yield stress                  = {{yield_stress*1e3}}\n      yield stress function = al6061T6_yield_temp_dependence\n\n      r11                           =   1\n      r22                           =   {{R22}}\n      r33                           =   {{R33}}\n      r12                           =   {{R12}}\n      r23                           =   {{R23}}\n      r31                           =   {{R31}}\n      coordinate system             =   rectangular_coordinate_system\n      \n      {{if(direction==\"R11\")}}\n      direction for rotation        = 3\n      alpha                         = 90.0\n      {{elseif((direction==\"R33\") || (direction==\"R31\"))}}\n      direction for rotation        = 1\n      alpha                         = -90.0\n      {{elseif(direction==\"R23\")}}\n      direction for rotation        = 2\n      alpha                         = 90.0\n      {{endif}}\n\n      hardening model = flow_stress_parameter\n      isotropic hardening model = voce_parameter\n\n      hardening modulus = {{hardening*1e3}}\n      hardening modulus function = al6061T6_hardening_mod_temp_dependence\n\n      exponential coefficient = {{b}}\n      exponential coefficient function = al6061T6_hardening_exp_coeff_temp_dependence\n\n      rate multiplier = rate_independent\n    end\n  end\n\"\"\""
      ]
    },
    {
      "cell_type": "markdown",
      "metadata": {},
      "source": [
        "Next, we write the string to a\nfile, so MatCal can import it and \nadd it to the models. \n\n"
      ]
    },
    {
      "cell_type": "code",
      "execution_count": null,
      "metadata": {
        "collapsed": false
      },
      "outputs": [],
      "source": [
        "material_filename = \"hill_plasticity_temperature_dependent.inc\"\nwith open(material_filename, 'w') as fn:\n    fn.write(material_file_string)"
      ]
    },
    {
      "cell_type": "markdown",
      "metadata": {},
      "source": [
        "Then, we create the :class:`~matcal.sierra.material.Material`\nobject that will be used by the \n:class:`~matcal.sierra.models.RoundUniaxialTensionModel` \nto correctly assign the material to the finite element model.  \n\n"
      ]
    },
    {
      "cell_type": "code",
      "execution_count": null,
      "metadata": {
        "collapsed": false
      },
      "outputs": [],
      "source": [
        "sierra_material = Material(material_name, material_filename, material_model)"
      ]
    },
    {
      "cell_type": "markdown",
      "metadata": {},
      "source": [
        "Now we create the 9 MatCal parameters\nthat will be calibrated for the material \nmodel setup above. We use the \nestimates for the parameters from \n`6061T6 aluminum temperature calibration initial point estimation`\nas the initial points for the calibration. We define \nthem as variable below.\n\n"
      ]
    },
    {
      "cell_type": "code",
      "execution_count": null,
      "metadata": {
        "collapsed": false
      },
      "outputs": [],
      "source": [
        "temp_param_ips = matcal_load(\"temperature_parameters_initial.serialized\")\ny_scale_factor_672_ip = temp_param_ips[\"Y_scale_factor_672\"]\ny_scale_factor_852_ip = temp_param_ips[\"Y_scale_factor_852\"]\ny_scale_factor_1032_ip = temp_param_ips[\"Y_scale_factor_1032\"]\n\nA_scale_factor_672_ip = temp_param_ips[\"A_scale_factor_672\"]\nA_scale_factor_852_ip = temp_param_ips[\"A_scale_factor_852\"]\nA_scale_factor_1032_ip = temp_param_ips[\"A_scale_factor_1032\"]\n\nb_scale_factor_672_ip = temp_param_ips[\"b_scale_factor_672\"]\nb_scale_factor_852_ip = temp_param_ips[\"b_scale_factor_852\"]\nb_scale_factor_1032_ip = temp_param_ips[\"b_scale_factor_1032\"]"
      ]
    },
    {
      "cell_type": "markdown",
      "metadata": {},
      "source": [
        "Since yield is relatively well characterized using MatFit, \nwe create the parameters for the yield function with fairly \nclose bounds and the current value set to the initial point \nestimate from the previous example. \n\n"
      ]
    },
    {
      "cell_type": "code",
      "execution_count": null,
      "metadata": {
        "collapsed": false
      },
      "outputs": [],
      "source": [
        "Y_scale_factor_672  = Parameter(\"Y_scale_factor_672\", 0.85, 1, y_scale_factor_672_ip)\nY_scale_factor_852  = Parameter(\"Y_scale_factor_852\", 0.45, 0.85, y_scale_factor_852_ip)\nY_scale_factor_1032 = Parameter(\"Y_scale_factor_1032\", 0.05, 0.45, y_scale_factor_1032_ip)"
      ]
    },
    {
      "cell_type": "markdown",
      "metadata": {},
      "source": [
        "The hardening parameter initial guesses are likely less \noptimal. As a result, we set the bounds fairly wide for these parameters and again \nset the current value as the initial point estimate from the previous\nexample.\n\n"
      ]
    },
    {
      "cell_type": "code",
      "execution_count": null,
      "metadata": {
        "collapsed": false
      },
      "outputs": [],
      "source": [
        "A_scale_factor_672  = Parameter(\"A_scale_factor_672\", 0.0, \n                                2*A_scale_factor_672_ip, A_scale_factor_672_ip)\nA_scale_factor_852  = Parameter(\"A_scale_factor_852\", 0.0, \n                                2*A_scale_factor_852_ip, A_scale_factor_852_ip)\nA_scale_factor_1032 = Parameter(\"A_scale_factor_1032\", 0.0, \n                                2*A_scale_factor_1032_ip, A_scale_factor_1032_ip)\n\nb_scale_factor_672  = Parameter(\"b_scale_factor_672\", 0.1, \n                                2*b_scale_factor_672_ip, b_scale_factor_672_ip)\nb_scale_factor_852  = Parameter(\"b_scale_factor_852\", 0.1, \n                                2*b_scale_factor_852_ip, b_scale_factor_852_ip)\nb_scale_factor_1032 = Parameter(\"b_scale_factor_1032\", 0.1, \n                                2*b_scale_factor_1032_ip, b_scale_factor_1032_ip)"
      ]
    },
    {
      "cell_type": "markdown",
      "metadata": {},
      "source": [
        "With the parameters, material model and data available, \nwe can create the :class:`~matcal.sierra.models.RoundUniaxialTensionModel`\nthat will be calibrated to the data. \nFirst, we define the geometry and mesh discretization options for the model.\nThese parameters are saved in a dictionary that will \nbe passed into the model initialization function.  \n\n"
      ]
    },
    {
      "cell_type": "code",
      "execution_count": null,
      "metadata": {
        "collapsed": false
      },
      "outputs": [],
      "source": [
        "gauge_radius = 0.125\nelement_size = gauge_radius/8\ngeo_params = {\"extensometer_length\": 0.5,\n               \"gauge_length\": 0.75, \n               \"gauge_radius\": gauge_radius, \n               \"grip_radius\": 0.25, \n               \"total_length\": 3.2, \n               \"fillet_radius\": 0.25,\n               \"taper\": 0.0015,\n               \"necking_region\":0.375,\n               \"element_size\": element_size,\n               \"mesh_method\":3, \n               \"grip_contact_length\":0.8}"
      ]
    },
    {
      "cell_type": "markdown",
      "metadata": {},
      "source": [
        "With the geometry defined, we can create the model \nand, if desired, assign a name.\n\n"
      ]
    },
    {
      "cell_type": "code",
      "execution_count": null,
      "metadata": {
        "collapsed": false
      },
      "outputs": [],
      "source": [
        "model = RoundUniaxialTensionModel(sierra_material, **geo_params)            \nmodel.set_name(\"tension_model\")"
      ]
    },
    {
      "cell_type": "markdown",
      "metadata": {},
      "source": [
        "In order for the model to run for each state, \nwe must pass boundary condition information to the model. \n\n"
      ]
    },
    {
      "cell_type": "code",
      "execution_count": null,
      "metadata": {
        "collapsed": false
      },
      "outputs": [],
      "source": [
        "model.add_boundary_condition_data(high_temp_data_collection)"
      ]
    },
    {
      "cell_type": "markdown",
      "metadata": {},
      "source": [
        "To save some simulation time, we apply an \nallowable load drop factor. Since at high temperatures the \ntest data unloads significantly, we conservatively set the \nallowable load drop factor to 0.7. This will \nkill the simulation after its load has dropped 70% from peak load. \n\n"
      ]
    },
    {
      "cell_type": "code",
      "execution_count": null,
      "metadata": {
        "collapsed": false
      },
      "outputs": [],
      "source": [
        "model.set_allowable_load_drop_factor(0.70)"
      ]
    },
    {
      "cell_type": "markdown",
      "metadata": {},
      "source": [
        "We now set computer platform options \nfor this model. Since we may run this example on \nHPC clusters or non-HPC computers, we \ndetermine the platform and choose the \nplatform options accordingly. \n\n"
      ]
    },
    {
      "cell_type": "code",
      "execution_count": null,
      "metadata": {
        "collapsed": false
      },
      "outputs": [],
      "source": [
        "if is_sandia_cluster():    \n    platform = get_sandia_computing_platform()   \n    model.set_number_of_cores(platform.get_processors_per_node())\n    model.run_in_queue(\"fy220213\", 0.5)\n    model.continue_when_simulation_fails()\nelse:\n    model.set_number_of_cores(8)"
      ]
    },
    {
      "cell_type": "markdown",
      "metadata": {},
      "source": [
        "We finish the model by adding model constants \nto the model. For this calibration, the model \nconstants are the calibrated material parameters \nfrom `6061T6 aluminum calibration with anisotropic yield`\n\n"
      ]
    },
    {
      "cell_type": "code",
      "execution_count": null,
      "metadata": {
        "collapsed": false
      },
      "outputs": [],
      "source": [
        "RT_calibrated_params = matcal_load(\"anisotropy_parameters.serialized\")\nmodel.add_constants(**RT_calibrated_params)"
      ]
    },
    {
      "cell_type": "markdown",
      "metadata": {},
      "source": [
        "Next, we define the objective for the calibration. \nWe will use the :class:`~matcal.core.objective.CurveBasedInterpolatedObjective`\nfor this calibration to calibrate to the material \nengineering stress/strain curves.\n\n"
      ]
    },
    {
      "cell_type": "code",
      "execution_count": null,
      "metadata": {
        "collapsed": false
      },
      "outputs": [],
      "source": [
        "objective = CurveBasedInterpolatedObjective(\"engineering_strain\", \"engineering_stress\")"
      ]
    },
    {
      "cell_type": "markdown",
      "metadata": {},
      "source": [
        "To help ensure a successful calibration, \nwe create a function to be used as a \n:class:`~matcal.core.residuals.UserFunctionWeighting` \nresidual weighting object. The function below \nwill effectively remove the elastic region data \nand high strain data where failure is likely from the calibration. \nIt does this by setting the residuals in these regions to zero. \nSince these regions vary somewhat by state, we can access state \nvariables from the residuals and perform our NumPy \nslicing differently according to state. In this case, \nthe state temperature is used to inform \nwhere the residuals should be set to zero.\n\n"
      ]
    },
    {
      "cell_type": "code",
      "execution_count": null,
      "metadata": {
        "collapsed": false
      },
      "outputs": [],
      "source": [
        "def remove_uncalibrated_data_from_residual(engineering_strains, engineering_stresses, \n                                           residuals):\n    import numpy as np\n    weights = np.ones(len(residuals))\n    min_strains = {671.67:0.006, 851.67:0.0055, 1031.67:0.0025}\n    max_strains = {671.67:0.18, 851.67:0.2, 1031.67:0.2}\n    temp=residuals.state[\"temperature\"]\n    weights[engineering_strains < min_strains[temp]] = 0\n    weights[engineering_strains > max_strains[temp]] = 0\n    return weights*residuals"
      ]
    },
    {
      "cell_type": "markdown",
      "metadata": {},
      "source": [
        "With the weighting function created, \nwe create the :class:`~matcal.core.residuals.UserFunctionWeighting` \nobject and add it to the objective.\n\n"
      ]
    },
    {
      "cell_type": "code",
      "execution_count": null,
      "metadata": {
        "collapsed": false
      },
      "outputs": [],
      "source": [
        "residual_weights = UserFunctionWeighting(\"engineering_strain\", \"engineering_stress\",\n                                          remove_uncalibrated_data_from_residual)\nobjective.set_field_weights(residual_weights)"
      ]
    },
    {
      "cell_type": "markdown",
      "metadata": {},
      "source": [
        "We are now ready to create and run our calibration \nstudies. As stated previously, \nwe will perform an independent calibration \nfor each temperature. For each temperature, \nwe calibrate to each direction. Although  \nwe would have a successful calibration only \ncalibrating to the $R_{11}$ direction, it is important \nthat we find a true local minima with all data of interest. \nThis local minima is required to support our follow-on uncertainty quantification\nactivity with a :class:`~matcal.core.parameter_studies.LaplaceStudy`. \nEach calibration uses \na :class:`~matcal.dakota.local_calibration_studies.GradientCalibrationStudy`. \nWe initialize the study with the parameters governing the behavior for the  \ntemperature of interest. \n\n"
      ]
    },
    {
      "cell_type": "code",
      "execution_count": null,
      "metadata": {
        "collapsed": false
      },
      "outputs": [],
      "source": [
        "calibration = GradientCalibrationStudy(Y_scale_factor_672, A_scale_factor_672, \n                                       b_scale_factor_672)"
      ]
    },
    {
      "cell_type": "markdown",
      "metadata": {},
      "source": [
        "Next, we create a :class:`~matcal.core.state.StateCollection`\nincluding only the states desired for the current temperature. \n\n"
      ]
    },
    {
      "cell_type": "code",
      "execution_count": null,
      "metadata": {
        "collapsed": false
      },
      "outputs": [],
      "source": [
        "temp_672_states = StateCollection(\"temp 672 states\", \n                                  all_states[\"temperature_6.716700e+02_direction_R11\"], \n                                  all_states[\"temperature_6.716700e+02_direction_R22\"], \n                                  all_states[\"temperature_6.716700e+02_direction_R33\"])"
      ]
    },
    {
      "cell_type": "markdown",
      "metadata": {},
      "source": [
        "We then add an evaluation set with our desired \nmodel, objective, data and the states of interest for this calibration. \n\n"
      ]
    },
    {
      "cell_type": "code",
      "execution_count": null,
      "metadata": {
        "collapsed": false
      },
      "outputs": [],
      "source": [
        "calibration.add_evaluation_set(model, objective, high_temp_data_collection,\n                               temp_672_states)"
      ]
    },
    {
      "cell_type": "markdown",
      "metadata": {},
      "source": [
        "We finish the calibration setup by setting\nthe number of cores for the calibration, and \nassigning a work directory subfolder for the calibration.\n\n"
      ]
    },
    {
      "cell_type": "code",
      "execution_count": null,
      "metadata": {
        "collapsed": false
      },
      "outputs": [],
      "source": [
        "if is_sandia_cluster():  \n    calibration.set_core_limit(4*3+1)\nelse:\n    calibration.set_core_limit(60)\ncalibration.set_working_directory(\"672R_calibration\", remove_existing=True)"
      ]
    },
    {
      "cell_type": "markdown",
      "metadata": {},
      "source": [
        "The calibration is run and the results are \nsaved to be plotted when all calibrations are complete.\n\n"
      ]
    },
    {
      "cell_type": "code",
      "execution_count": null,
      "metadata": {
        "collapsed": false
      },
      "outputs": [],
      "source": [
        "temp_672_results = calibration.launch()\nall_results = temp_672_results.best.to_dict()"
      ]
    },
    {
      "cell_type": "markdown",
      "metadata": {},
      "source": [
        "The model is then updated to include model constants \nfrom the calibration results. \n\n"
      ]
    },
    {
      "cell_type": "code",
      "execution_count": null,
      "metadata": {
        "collapsed": false
      },
      "outputs": [],
      "source": [
        "model.add_constants(**all_results)"
      ]
    },
    {
      "cell_type": "markdown",
      "metadata": {},
      "source": [
        "The two remaining calibrations are setup and run \nthe same way. \n\n"
      ]
    },
    {
      "cell_type": "code",
      "execution_count": null,
      "metadata": {
        "collapsed": false
      },
      "outputs": [],
      "source": [
        "calibration = GradientCalibrationStudy(Y_scale_factor_852, A_scale_factor_852, \n                                       b_scale_factor_852)\n\ntemp_852_states = StateCollection(\"temp 852 states\", \n                                  all_states[\"temperature_8.516700e+02_direction_R11\"], \n                                  all_states[\"temperature_8.516700e+02_direction_R22\"], \n                                  all_states[\"temperature_8.516700e+02_direction_R33\"])\n\ncalibration.add_evaluation_set(model, objective, high_temp_data_collection,\n                               temp_852_states)\nif is_sandia_cluster():  \n    calibration.set_core_limit(4*3+1)\nelse:\n    calibration.set_core_limit(60)\ncalibration.set_working_directory(\"852R_calibration\", remove_existing=True)\ntemp_852_results = calibration.launch()\nall_results.update(temp_852_results.best.to_dict())\nmodel.add_constants(**all_results)\n\ntemp_1032_states = StateCollection(\"temp 1032 states\", \n                                  all_states[\"temperature_1.031670e+03_direction_R11\"], \n                                  all_states[\"temperature_1.031670e+03_direction_R22\"], \n                                  all_states[\"temperature_1.031670e+03_direction_R33\"])\ncalibration = GradientCalibrationStudy(Y_scale_factor_1032, A_scale_factor_1032, \n                                       b_scale_factor_1032)\ncalibration.add_evaluation_set(model, objective, high_temp_data_collection,\n                               temp_1032_states)\nif is_sandia_cluster():  \n    calibration.set_core_limit(4*3+1)\nelse:\n    calibration.set_core_limit(60)\ncalibration.set_working_directory(\"1032R_calibration\", remove_existing=True)\ntemp_1032_results = calibration.launch()\nall_results.update(temp_1032_results.best.to_dict())\nmatcal_save(\"temperature_dependent_parameters.serialized\", all_results)"
      ]
    },
    {
      "cell_type": "markdown",
      "metadata": {},
      "source": [
        "With all the calibrations completed, we can \nplot the final temperature \ndependence function for each parameter and \nthe calibrated material model with the \ndata for each state.\nFirst, we extract and organize the calibrated parameters \nvalues from the calibration results. \n\n"
      ]
    },
    {
      "cell_type": "code",
      "execution_count": null,
      "metadata": {
        "collapsed": false
      },
      "outputs": [],
      "source": [
        "y_temp_dependence = [1, \n                     all_results[\"Y_scale_factor_672\"], \n                     all_results[\"Y_scale_factor_852\"], \n                     all_results[\"Y_scale_factor_1032\"]] \nA_temp_dependence = [1, \n                     all_results[\"A_scale_factor_672\"], \n                     all_results[\"A_scale_factor_852\"], \n                     all_results[\"A_scale_factor_1032\"]] \nb_temp_dependence = [1, \n                     all_results[\"b_scale_factor_672\"], \n                     all_results[\"b_scale_factor_852\"], \n                     all_results[\"b_scale_factor_1032\"]] \n\nprint(y_temp_dependence)\nprint(A_temp_dependence)\nprint(b_temp_dependence)"
      ]
    },
    {
      "cell_type": "markdown",
      "metadata": {},
      "source": [
        "We then organize the initial point estimates \nsimilarly for a comparison to the calibrated values.\n\n"
      ]
    },
    {
      "cell_type": "code",
      "execution_count": null,
      "metadata": {
        "collapsed": false
      },
      "outputs": [],
      "source": [
        "y_temp_dependence_ip = [1, y_scale_factor_672_ip, y_scale_factor_852_ip,\n                         y_scale_factor_1032_ip]\nA_temp_dependence_ip = [1, A_scale_factor_672_ip, A_scale_factor_852_ip,\n                         A_scale_factor_1032_ip]\nb_temp_dependence_ip = [1, b_scale_factor_672_ip, b_scale_factor_852_ip,\n                         b_scale_factor_1032_ip]"
      ]
    },
    {
      "cell_type": "markdown",
      "metadata": {},
      "source": [
        "Now, we plot the functions as we did \nin `6061T6 aluminum temperature calibration initial point estimation`.\n\n"
      ]
    },
    {
      "cell_type": "code",
      "execution_count": null,
      "metadata": {
        "collapsed": false
      },
      "outputs": [],
      "source": [
        "temperatures = [533, 672, 852, 1032]\nplt.figure()\nplt.plot(temperatures, y_temp_dependence, label='yield stress', color=\"tab:blue\")\nplt.plot(temperatures, y_temp_dependence_ip, label='yield stress initial', \n         color=\"tab:blue\", linestyle=\"--\")\nplt.plot(temperatures, A_temp_dependence, label='Voce hardening modulus',\n          color=\"tab:orange\")\nplt.plot(temperatures, A_temp_dependence_ip, label='Voce hardening modulus initial', \n         color=\"tab:orange\", linestyle=\"--\")\nplt.plot(temperatures, b_temp_dependence, label='Voce exponential coefficient', \n         color=\"tab:green\")\nplt.plot(temperatures, b_temp_dependence_ip, label='Voce exponential coefficient initial', \n         color=\"tab:green\", linestyle=\"--\")\nplt.ylabel(\"temperature scaling function (.)\")\nplt.xlabel(\"temperature (R)\")\nplt.legend()\nplt.show()\n\ntemperatures = [533, 672, 852, 1032]\nplt.figure()\nplt.plot(temperatures, y_temp_dependence, label='yield stress', \n         color=\"tab:blue\")\nplt.plot(temperatures, A_temp_dependence, label='Voce hardening modulus', \n         color=\"tab:orange\")\nplt.plot(temperatures, b_temp_dependence, label='Voce exponential coefficient', \n         color=\"tab:green\")\nplt.ylabel(\"temperature scaling function (.)\")\nplt.xlabel(\"temperature (R)\")\nplt.legend()\nplt.show()"
      ]
    },
    {
      "cell_type": "markdown",
      "metadata": {},
      "source": [
        "From these plots, we can see that the calibration \nchanged the Voce exponent parameters \nsignificantly from the initial point while the yield \nand Voce saturation stress were only slightly adjusted. \nAs expected and desired, the yield \nand saturation stress are monotonically decreasing as \nthe temperature increases. However, the Voce \nexponent decreases before increasing sharply\nand does not monotonically increase or \ndecrease as the temperature changes. In the \nnext example\n`6061T6 aluminum temperature dependence verification`,\nwe will investigate whether this causes any \nissues for temperatures between the temperatures to which \nthe model was calibrated. \n\nNext, we compare the calibrated model against the data.\n\n"
      ]
    },
    {
      "cell_type": "code",
      "execution_count": null,
      "metadata": {
        "collapsed": false
      },
      "outputs": [],
      "source": [
        "best_indx_672 = temp_672_results.best_evaluation_index\nsim_hist_672 = temp_672_results.simulation_history[model.name]\n\nbest_indx_852 = temp_852_results.best_evaluation_index\nsim_hist_852 = temp_852_results.simulation_history[model.name]\n\nbest_indx_1032 = temp_1032_results.best_evaluation_index\nsim_hist_1032 =  temp_1032_results.simulation_history[model.name]\n\ndef plot_comparison_by_temperature(temp_str, eval_data, best_index):\n    fig = plt.figure(f\"{temp_str} results\", figsize=figsize, constrained_layout=True)\n    high_temp_data_collection.plot(\"engineering_strain\", \"engineering_stress\", \n                                   state=f\"temperature_{temp_str}_direction_R22\", \n                                   show=False, figure=fig,\n                                   color=\"tab:red\", alpha=0.33, \n                                   labels=\"$R_{22}$ direction data\",\n                                   markevery=0.01)\n    high_temp_data_collection.plot(\"engineering_strain\", \"engineering_stress\", \n                                   state=f\"temperature_{temp_str}_direction_R11\", \n                                   show=False, figure=fig,\n                                   color=\"tab:blue\", alpha=0.33, \n                                   labels=\"$R_{11}$ direction data\",\n                                   markevery=0.01)\n    high_temp_data_collection.plot(\"engineering_strain\", \"engineering_stress\", \n                                   state=f\"temperature_{temp_str}_direction_R33\", \n                                   show=False, figure=fig,\n                                   color=\"tab:green\", alpha=0.33, \n                                   labels=\"$R_{33}$ direction data\", \n                                   markevery=0.01)\n    data = eval_data[f\"temperature_{temp_str}_direction_R22\"][best_index]\n    plt.plot(data[\"engineering_strain\"], data[\"engineering_stress\"],\n             color=\"tab:red\", label=\"$R_{22}$ direction sim\")\n    data = eval_data[f\"temperature_{temp_str}_direction_R11\"][best_index]\n    plt.plot(data[\"engineering_strain\"], data[\"engineering_stress\"],\n             color=\"tab:blue\", label=\"$R_{11}$ direction sim\")\n    data = eval_data[f\"temperature_{temp_str}_direction_R33\"][0]\n    plt.plot(data[\"engineering_strain\"], data[\"engineering_stress\"],\n             color=\"tab:green\", label=\"$R_{33}$ direction sim\")\n    plt.xlabel(\"engineering strain (.)\")\n    plt.ylabel(\"engineering stress (psi)\")\n    plt.legend()\n    plt.show()\n\nplot_comparison_by_temperature(\"6.716700e+02\", sim_hist_672, best_indx_672)\nplot_comparison_by_temperature(\"8.516700e+02\", sim_hist_852, best_indx_852)\nplot_comparison_by_temperature(\"1.031670e+03\", sim_hist_1032, best_indx_1032)"
      ]
    },
    {
      "cell_type": "markdown",
      "metadata": {},
      "source": [
        "From these plots, we can see that the calbirated models\nmatch the experimental data well for each direction and \neven perform well after strains of 0.2 where the model \nis technically not calibrated.\n"
      ]
    }
  ],
  "metadata": {
    "kernelspec": {
      "display_name": "Python 3",
      "language": "python",
      "name": "python3"
    },
    "language_info": {
      "codemirror_mode": {
        "name": "ipython",
        "version": 3
      },
      "file_extension": ".py",
      "mimetype": "text/x-python",
      "name": "python",
      "nbconvert_exporter": "python",
      "pygments_lexer": "ipython3",
      "version": "3.11.5"
    }
  },
  "nbformat": 4,
  "nbformat_minor": 0
}