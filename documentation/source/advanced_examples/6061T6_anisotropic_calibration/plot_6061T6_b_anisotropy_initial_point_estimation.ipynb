{
  "cells": [
    {
      "cell_type": "markdown",
      "metadata": {},
      "source": [
        "\n# 6061T6 aluminum anisotropy calibration initial point estimation\n\nIn this example, we use MatFit and engineering judgement to estimate the \ninitial point for our calibration in \n`6061T6 aluminum calibration with anisotropic yield`.\nSee that example for more detail on material model \nchoice and experimental data review for the material.\n\n<div class=\"alert alert-info\"><h4>Note</h4><p>Useful Documentation links:\n\n    #. `Running MatFit`\n    #. :class:`~matcal.core.data_importer.FileData`</p></div>\n\nFirst import all needed tools. \nWe will be using tools from NumPy, \nMatPlotLib, MatFit and MatCal for this \nexample.\n"
      ]
    },
    {
      "cell_type": "code",
      "execution_count": null,
      "metadata": {
        "collapsed": false
      },
      "outputs": [],
      "source": [
        "import numpy as np\nimport matplotlib.pyplot as plt\n\nfrom matcal import *\nfrom matfit.models import Voce\nfrom matfit.fitting import MatFit\n# sphinx_gallery_thumbnail_number = 2\nplt.rc('text', usetex=True)\nplt.rc('font', family='serif')\nplt.rc('font', size=12)"
      ]
    },
    {
      "cell_type": "markdown",
      "metadata": {},
      "source": [
        "First, we use the \n:func:`~matcal.core.data_importer.FileData` \nfunction to read in the relevant engineering\nstress-strain curves.  \nMatFit will use these to estimate the Voce \nhardening parameters for the data.\nMatFit's algorithms need the 0.2% offset yield stress, \nthe ultimate stress, the strain at the\nultimate stress and the failure strain.\nWe estimated these values by manipulating the \nthe raw engineering stress-strain data,\nand saving the quantities in CSV files.\nSee the `6061T6 aluminum data analysis`\nexample to see how we extracted these data \nfrom the engineering stress strain curves. \n\n"
      ]
    },
    {
      "cell_type": "code",
      "execution_count": null,
      "metadata": {
        "collapsed": false
      },
      "outputs": [],
      "source": [
        "all_RD_metrics_CA = FileData(\"aluminum_6061_data/uniaxial_tension/\"\n                             \"RD_aluminum_AL_6061_tension_stress_metrics_CA.csv\")\nall_LT_metrics_CA = FileData(\"aluminum_6061_data/uniaxial_tension/\"\n                             \"LT_aluminum_AL_6061_tension_stress_metrics_CA.csv\")\nall_ST_metrics_CA = FileData(\"aluminum_6061_data/uniaxial_tension/\"\n                             \"ST_aluminum_AL_6061_tension_stress_metrics_CA.csv\")\nall_RD_metrics_NM = FileData(\"aluminum_6061_data/uniaxial_tension/\"\n                             \"RD_aluminum_AL_6061_tension_stress_metrics_NM.csv\")\nall_LT_metrics_NM = FileData(\"aluminum_6061_data/uniaxial_tension/\"\n                             \"LT_aluminum_AL_6061_tension_stress_metrics_NM.csv\")\nall_ST_metrics_NM = FileData(\"aluminum_6061_data/uniaxial_tension/\"\n                             \"ST_aluminum_AL_6061_tension_stress_metrics_NM.csv\")"
      ]
    },
    {
      "cell_type": "markdown",
      "metadata": {},
      "source": [
        "With the necessary data loaded, \nwe create a function to estimate \nthe Voce hardening material parameters from  \ntension test metrics \nusing MatFit.\nThis function takes in a single set of \nmaterial data metrics and returns \na single MatFit solution for the \nVoce hardening parameters.\n\n"
      ]
    },
    {
      "cell_type": "code",
      "execution_count": null,
      "metadata": {
        "collapsed": false
      },
      "outputs": [],
      "source": [
        "def get_voce_params(metrics):\n    material_specification = dict(\n        ultimate_strength=metrics[\"ultimate_stress\"],\n        strain_at_ultimate=metrics[\"strain_at_ultimate_stress\"],\n        elongation=metrics['max_strain'],\n        yield_stress=metrics['yield'],\n        youngs_modulus=10e3,\n        poissons_ratio=0.33,\n        density=0.00026)\n    \n    voce_parameters = dict(\n        hardening_modulus=dict(value=1.0, lower=0, upper=3000.0, calibrate=True),\n        exponential_coefficient=dict(value=15.0, lower=0.0, upper=100, calibrate=True),\n        )\n    voce_model = Voce(material_specification, voce_parameters, name='Voce')\n    MF = MatFit(voce_model)\n    MF.fit(solver_settings=dict(method='trf'))\n    solution = MF.get_solution()\n    return solution"
      ]
    },
    {
      "cell_type": "markdown",
      "metadata": {},
      "source": [
        "With the preceding function available, \nwe create an additional function to \nloop over a set of uniaxial tension \ndata metrics, pass them to the \n``get_voce_params`` function and then \nextract the desired\nmaterial parameters from the \nMatFit result. The yield stress and \nhardening parameters are stored in lists\nfor later processing.\n\n"
      ]
    },
    {
      "cell_type": "code",
      "execution_count": null,
      "metadata": {
        "collapsed": false
      },
      "outputs": [],
      "source": [
        "def get_voce_params_for_metric_list(metric_list):\n    Ys =[]\n    As = []\n    bs = []\n    for metrics in metric_list:\n        solution = get_voce_params(metrics)\n        As.append(solution['hardening_modulus'])\n        bs.append(solution['exponential_coefficient'])\n        Ys.append(metrics[\"yield\"])\n    return Ys,As,bs"
      ]
    },
    {
      "cell_type": "markdown",
      "metadata": {},
      "source": [
        "Next, we apply the ``get_voce_params_for_metric_list``` \nfunction to our\nengineering stress-strain metrics.\n\n"
      ]
    },
    {
      "cell_type": "code",
      "execution_count": null,
      "metadata": {
        "collapsed": false
      },
      "outputs": [],
      "source": [
        "rd_Ys_CA, rd_As_CA, rd_bs_CA = get_voce_params_for_metric_list(all_RD_metrics_CA)\nlt_Ys_CA, lt_As_CA, lt_bs_CA = get_voce_params_for_metric_list(all_LT_metrics_CA)\nst_Ys_CA, st_As_CA, st_bs_CA= get_voce_params_for_metric_list(all_ST_metrics_CA)\n\nrd_Ys_NM, rd_As_NM, rd_bs_NM = get_voce_params_for_metric_list(all_RD_metrics_NM)\nlt_Ys_NM, lt_As_NM, lt_bs_NM = get_voce_params_for_metric_list(all_LT_metrics_NM)\nst_Ys_NM, st_As_NM, st_bs_NM= get_voce_params_for_metric_list(all_ST_metrics_NM)"
      ]
    },
    {
      "cell_type": "markdown",
      "metadata": {},
      "source": [
        "Although it may be interesting to compare \nthe results from the different test labs (CA vs NM), \nwe assume the test lab has no affect on the \ntension data results and combine the\ndata using list summation.\n\n"
      ]
    },
    {
      "cell_type": "code",
      "execution_count": null,
      "metadata": {
        "collapsed": false
      },
      "outputs": [],
      "source": [
        "rd_Ys = rd_Ys_CA+rd_Ys_NM\nlt_Ys = lt_Ys_CA+lt_Ys_NM\nst_Ys = st_Ys_CA+st_Ys_NM\n\nrd_As = rd_As_CA+rd_As_NM\nlt_As = lt_As_CA+lt_As_NM\nst_As = st_As_CA+st_As_NM\n\nrd_bs = rd_Ys_CA+rd_bs_NM\nlt_bs = lt_Ys_CA+lt_bs_NM\nst_bs = st_Ys_CA+st_bs_NM"
      ]
    },
    {
      "cell_type": "markdown",
      "metadata": {},
      "source": [
        "We can now estimate some \nof the Hill yield parameters. \nIf we assume the yield stress \nfrom the LT tests (aligned with the R11 direction)\nis the reference stress for the Hill\nratios, we can set $R_{11}=1.0$ \nand can estimate $R_{22}$ and $R_{33}$ from \nthe yield stress values in the RD and ST directions, respectively. \nSee `6061T6 aluminum data analysis` for more information \non the chosen material coordinate system.\n\n"
      ]
    },
    {
      "cell_type": "code",
      "execution_count": null,
      "metadata": {
        "collapsed": false
      },
      "outputs": [],
      "source": [
        "R22s = []\nR33s = []\nfor lt_Y in lt_Ys:\n    for rd_Y in rd_Ys:\n        R22s.append(rd_Y/lt_Y)\n    for st_Y in st_Ys:\n        R33s.append(st_Y/lt_Y)"
      ]
    },
    {
      "cell_type": "markdown",
      "metadata": {},
      "source": [
        "By looping over each yield stress for each direction, we get\nmany estimates for the Hill $R_{22}$ and $R_{33}$\nratios.\nSince we need \none value for our\ncalibration initial point,\nwe average the values to arrive at our initial point\nestimate.\n\n"
      ]
    },
    {
      "cell_type": "code",
      "execution_count": null,
      "metadata": {
        "collapsed": false
      },
      "outputs": [],
      "source": [
        "print(\"Y estimate:\", np.average(lt_Ys))\nprint(\"R11 estimate:\", 1.0) \nprint(\"R22 estimate:\", np.average(R22s)) \nprint(\"R33 estimate:\", np.average(R33s))\nprint(\"A estimate:\", np.average(rd_As+lt_As+st_As))\nprint(\"b estimate:\", np.average(rd_bs+lt_bs+st_bs))"
      ]
    },
    {
      "cell_type": "markdown",
      "metadata": {},
      "source": [
        "We can also plot histograms \nof the estimated parameters \nto see if there are any apparent trends \nor modes in the data.\n\n"
      ]
    },
    {
      "cell_type": "code",
      "execution_count": null,
      "metadata": {
        "collapsed": false
      },
      "outputs": [],
      "source": [
        "figsize=[4,3]\nplt.figure(\"Ys\", figsize, constrained_layout=True)  \nplt.hist(lt_Ys, density=True, alpha=0.8)\nplt.xlabel(\"Y (MPa)\")\nplt.ylabel(\"PDF\")\n\nplt.figure(\"R22,R33\", figsize, constrained_layout=True)  \nplt.hist(R22s, density=True, alpha=0.8, label=\"$R_{22}$\")\nplt.hist(R33s, density=True, alpha=0.8, label=\"$R_{33}$\")\nplt.xlabel(\"Hill normal ratio values\")\nplt.ylabel(\"PDF\")\nplt.legend()\n\nplt.figure(\"As\", figsize, constrained_layout=True)  \nplt.hist(rd_As+lt_As+st_As, density=True, alpha=0.8)\nplt.xlabel(\"A (MPa)\")\nplt.ylabel(\"PDF\")\n\nplt.figure(\"bs\", figsize, constrained_layout=True)  \nplt.hist(rd_bs+lt_bs+st_bs, density=True, alpha=0.8)\nplt.xlabel(\"b\")\nplt.ylabel(\"PDF\")"
      ]
    },
    {
      "cell_type": "markdown",
      "metadata": {},
      "source": [
        "The most apparent feature of the data\nis the bimodal distribution for the Voce \nexponent $b$. This is likely due to anisotropy \nin the hardening and failure of this material. For the \nsake of this example, we are ignoring this feature in \nthe data. However, \ndepending on the application, \nthe material model and calibration may need to account \nfor this behavior.\n\nThe only three remaining parameters are the \nHill shear ratios $R_{12}$, $R_{23}$ and \n$R_{31}$. Estimating these ratios\ncannot be done analytically because\nthe shear yield strength cannot be analytically determined \nfrom the top hat shear tests used to characterize the material's \nshear behavior.\nHowever, we can make a rough guess for the ratios in \na similar fashion to what was done for the normal \nHill ratios.\nWe will look at the load for each specimen when the load-displacement\nslope begins to deviate from linear. By inspecting \nthe data, the deviation from linear appears to occur around a displacement of \n0.005 inches. We extract the loads at this displacement \nfor each specimen and categorize them by their loading direction. \nWe then assume that the $R_{12}$ ratio\n(aligned with the RTS/TRS directions) will have a value of 1.0 since \nit has the highest load at this displacement.\nNow we can estimate what the $R_{23}$ and $R_{31}$ Hill shear ratio values\nwill be relative to $R_{12}$ by dividing the\nextracted loads for the STR/TSR and RST/SRT directions \nby the RTS/TRS load.\nThe load at 0.005\" displacement extracted in the previous example \nis saved to a file.  \nOnce again, we import that data using :func:`~matcal.core.data_importer.FileData`. \n\n"
      ]
    },
    {
      "cell_type": "code",
      "execution_count": null,
      "metadata": {
        "collapsed": false
      },
      "outputs": [],
      "source": [
        "all_top_hat_12_metrics = FileData(\"aluminum_6061_data/top_hat_shear/\"\n                                   \"RTS_TRS_aluminum_AL_6061_top_hat_metrics.csv\")\nall_top_hat_23_metrics = FileData(\"aluminum_6061_data/top_hat_shear/\"\n                                   \"RST_SRT_aluminum_AL_6061_top_hat_metrics.csv\")\nall_top_hat_31_metrics = FileData(\"aluminum_6061_data/top_hat_shear/\"\n                                   \"STR_TSR_aluminum_AL_6061_top_hat_metrics.csv\")"
      ]
    },
    {
      "cell_type": "markdown",
      "metadata": {},
      "source": [
        "With the load data imported, we estimate  $R_{23}$ and  $R_{31}$ similarly to how \nR22 and R33 were estimated.\n\n"
      ]
    },
    {
      "cell_type": "code",
      "execution_count": null,
      "metadata": {
        "collapsed": false
      },
      "outputs": [],
      "source": [
        "R23s = []\nR31s = []\nfor load_R12 in all_top_hat_12_metrics[\"load_at_0.005_in\"]:\n    for load_23 in all_top_hat_23_metrics[\"load_at_0.005_in\"]:\n        R23s.append(load_23/load_R12)\n    for load_31 in all_top_hat_31_metrics[\"load_at_0.005_in\"]:\n        R31s.append(load_31/load_R12)"
      ]
    },
    {
      "cell_type": "markdown",
      "metadata": {},
      "source": [
        "We then plot the histograms\nand output an average to obtain \na single initial point.\n\n"
      ]
    },
    {
      "cell_type": "code",
      "execution_count": null,
      "metadata": {
        "collapsed": false
      },
      "outputs": [],
      "source": [
        "plt.figure(\"R23,R31\", figsize, constrained_layout=True)  \nplt.hist(R23s, density=True, alpha=0.8, label=\"$R_{23}$\")\nplt.hist(R31s, density=True, alpha=0.8, label=\"$R_{31}$\")\nplt.ylabel(\"Hill shear ratio values\")\nplt.ylabel(\"PDF\")\nplt.legend()\nplt.show()\n\nprint(\"R23 estimate:\", np.average(R23s))\nprint(\"R31 estimate:\", np.average(R31s))"
      ]
    },
    {
      "cell_type": "markdown",
      "metadata": {},
      "source": [
        "We now have a complete initial point \nfor our calibration using the finite element \nmodels that MatCal provides for a uniaxial \ntension test and shear top hat test. We will \nperform this calibration in the next example. \nSee `6061T6 aluminum calibration with anisotropic yield`\n\n"
      ]
    }
  ],
  "metadata": {
    "kernelspec": {
      "display_name": "Python 3",
      "language": "python",
      "name": "python3"
    },
    "language_info": {
      "codemirror_mode": {
        "name": "ipython",
        "version": 3
      },
      "file_extension": ".py",
      "mimetype": "text/x-python",
      "name": "python",
      "nbconvert_exporter": "python",
      "pygments_lexer": "ipython3",
      "version": "3.11.5"
    }
  },
  "nbformat": 4,
  "nbformat_minor": 0
}