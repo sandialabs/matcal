{
  "cells": [
    {
      "cell_type": "markdown",
      "metadata": {},
      "source": [
        "\n# 6061T6 aluminum temperature dependent data analysis\nWith the room temperature anisotropic yield model parameterized \nfor this material (see `6061T6 aluminum calibration with anisotropic yield`),\nwe now investigate the material's temperature dependence.\nPrimarily, we are concerned about the following:\n\n#. How the material anisotropy is affected by temperature.\n#. How the material plasticity is affected by temperature.\n\n<div class=\"alert alert-info\"><h4>Note</h4><p>Useful Documentation links:\n\n    #. :class:`~matcal.core.data_importer.BatchDataImporter`\n    #. :meth:`~matcal.core.data.DataCollection.plot`</p></div>\n\nWe will investigate these two issues by plotting material \nfeatures by temperature. The features we are concerned with \nare the 0.2% offset yield stress, the ultimate stress, \nthe strain at the ultimate stress and the failure strain. \n\nWe begin by importing the tools we need to perform \nthis analysis which includes our MatCal tools, \nNumPy, and matplotlib. We also setup our \nour plotting defaults.\n"
      ]
    },
    {
      "cell_type": "code",
      "execution_count": null,
      "metadata": {
        "collapsed": false
      },
      "outputs": [],
      "source": [
        "import numpy as np\nfrom matcal import *\nimport matplotlib.pyplot as plt\n# sphinx_gallery_thumbnail_number = 3\nplt.rc('text', usetex=True)\nplt.rc('font', family='serif')\nplt.rc('font', size=12)\nfigsize = (4,3)"
      ]
    },
    {
      "cell_type": "markdown",
      "metadata": {},
      "source": [
        "With our tools imported, we now\nimport the data of interest. Similar to the data \nimport in `6061T6 aluminum data analysis`, \nwe import the data using our \n:class:`~matcal.core.data_importer.BatchDataImporter` \nwhich assigns states to the file according to the state \ndata prepopulated in the data files. \n\n"
      ]
    },
    {
      "cell_type": "code",
      "execution_count": null,
      "metadata": {
        "collapsed": false
      },
      "outputs": [],
      "source": [
        "tension_data_collection = BatchDataImporter(\"aluminum_6061_data/\" \n                                              \"uniaxial_tension/processed_data/cleaned_[CANM]*.csv\",).batch\nhigh_temp_data_collection = BatchDataImporter(\"aluminum_6061_data/\"\n                                              \"uniaxial_tension/processed_data/*6061*.csv\",).batch\nall_data = tension_data_collection+high_temp_data_collection"
      ]
    },
    {
      "cell_type": "markdown",
      "metadata": {},
      "source": [
        "Once the data is imported, we perform some data \npreprocessing which includes scaling the data to \nbe in psi units and removing the unnecessary ``time`` field.\n\n"
      ]
    },
    {
      "cell_type": "code",
      "execution_count": null,
      "metadata": {
        "collapsed": false
      },
      "outputs": [],
      "source": [
        "all_data = scale_data_collection(all_data, \"engineering_stress\", 1000)\nall_data.remove_field(\"time\")"
      ]
    },
    {
      "cell_type": "markdown",
      "metadata": {},
      "source": [
        "Since the states are automatically generated, \nwe store the states in variable \nfor later use.\n\n"
      ]
    },
    {
      "cell_type": "code",
      "execution_count": null,
      "metadata": {
        "collapsed": false
      },
      "outputs": [],
      "source": [
        "all_states = all_data.states"
      ]
    },
    {
      "cell_type": "markdown",
      "metadata": {},
      "source": [
        "Next, we plot the data that we will analyze.\nSince we are interested in its anisotropy and temperature dependence, \nwe will plot all data on one figure. Using \nMatCal's :meth:`~matcal.core.data.DataCollection.plot` \nmethod, we can organize, label and mark the different data sets \non the plot in a useful manner. \nBecause MatCal is a Python library, you can use all \nthe existing Python tools and features\nto manipulate data and Python objects.\nHere we create a function that performs the plotting \nthat we want to do for each temperature.\n\n"
      ]
    },
    {
      "cell_type": "code",
      "execution_count": null,
      "metadata": {
        "collapsed": false
      },
      "outputs": [],
      "source": [
        "def plot_directions_for_temp(temp, fig, linestyle):\n    all_data.plot(\"engineering_strain\", \"engineering_stress\", figure=fig,\n                   show=False, state=f\"temperature_{temp}_direction_R22\", \n                   color='tab:red', labels=f\"R22, {float(temp):0.0f} R\",\n                   linestyle=linestyle)\n    all_data.plot(\"engineering_strain\", \"engineering_stress\", figure=fig,\n                   show=False, state=f\"temperature_{temp}_direction_R11\", \n                   color='tab:blue', labels=f\"R11, {float(temp):0.0f} R\", \n                   linestyle=linestyle)\n    all_data.plot(\"engineering_strain\", \"engineering_stress\", figure=fig,\n                   show=False, state=f\"temperature_{temp}_direction_R33\", \n                   color='tab:green', labels=f\"R33, {float(temp):0.0f} R\", \n                   linestyle=linestyle)"
      ]
    },
    {
      "cell_type": "markdown",
      "metadata": {},
      "source": [
        "With our plotting function created, \nwe create a figure and then call the plotting function\nwith the appropriate data passed to it.\n\n"
      ]
    },
    {
      "cell_type": "code",
      "execution_count": null,
      "metadata": {
        "collapsed": false
      },
      "outputs": [],
      "source": [
        "all_data_fig = plt.figure(\"all data\", figsize=(6,4))\nplot_directions_for_temp(\"5.330700e+02\", all_data_fig, '-')\nplot_directions_for_temp(\"6.716700e+02\", all_data_fig, '--')\nplot_directions_for_temp(\"8.516700e+02\", all_data_fig, '-.')\nplot_directions_for_temp(\"1.031670e+03\", all_data_fig, ':')\nplt.show()"
      ]
    },
    {
      "cell_type": "markdown",
      "metadata": {},
      "source": [
        "The resulting figure shows \neach temperature plotted with the different \ndirections clearly identified.  \nThe overall stress strain behavior is clearly \ntemperature dependent over this temperature range\nwith the yield and hardening \nchanging significantly as the temperature increases.\nQualitatively it  appears that \nthe anisotropy is fairly constant \nthrough the lower temperatures, however, the trends \nare not clearly identified by this plot.\nAs a result, we will quantitatively assess the anisotropy with \nbox-and-whisker plots as we did in `6061T6 aluminum data analysis`. \n\nFirst, we must extract the quantities \nwe need for the box-and-whisker plots \nfrom the stress strain curves. We \nextract the yield stress using \n:func:`~matcal.core.data_analysis.determine_pt2_offset_yield`. \nThe ultimate stress is determined using NumPy tools \nand NumPy array slicing. \nWe apply these to the data by looping over each state in the data collection \nand applying them to each data set in each state. \n\nWe store the values in dictionaries according to state \nto aid in the box-and-whisker plot creature. \nWe create and use a function to update the dictionary \nfor each state since we will be doing this \nmultiple times for each metric of interest. \n\n"
      ]
    },
    {
      "cell_type": "code",
      "execution_count": null,
      "metadata": {
        "collapsed": false
      },
      "outputs": [],
      "source": [
        "def save_state_data(data_dict, state_name, data_value):\n    if state_name in data_dict:\n        data_dict[state_name].append(data_value)\n    else:\n        data_dict.update({state_name:[data_value]})\n\n    return data_dict"
      ]
    },
    {
      "cell_type": "markdown",
      "metadata": {},
      "source": [
        "To guarantee order for plotting \npurposes, we will store the values \nin ordered dictionaries that will \nsave the data in the order that it is added.\n\n"
      ]
    },
    {
      "cell_type": "code",
      "execution_count": null,
      "metadata": {
        "collapsed": false
      },
      "outputs": [],
      "source": [
        "from collections import OrderedDict\nyield_stresses = OrderedDict()\nult_stresses = OrderedDict()\nstrains_at_ult_stresses = OrderedDict()\nfail_strains = OrderedDict()"
      ]
    },
    {
      "cell_type": "markdown",
      "metadata": {},
      "source": [
        "We then create a list from \nthat state names that is ordered \naccording to how we would like \nthe data displayed in the box-and-whisker plots.\nWe arrange the data by increasing temperature \nand then  \nby the direction so the temperature and direction \ndependencies can be easily interpreted.\n\n"
      ]
    },
    {
      "cell_type": "code",
      "execution_count": null,
      "metadata": {
        "collapsed": false
      },
      "outputs": [],
      "source": [
        "print(all_states.keys())\nordered_state_names = [\n    'temperature_5.330700e+02_direction_R11', \n    'temperature_5.330700e+02_direction_R22', \n    'temperature_5.330700e+02_direction_R33',\n    'temperature_6.716700e+02_direction_R11', \n    'temperature_6.716700e+02_direction_R22', \n    'temperature_6.716700e+02_direction_R33', \n    'temperature_8.516700e+02_direction_R11', \n    'temperature_8.516700e+02_direction_R22', \n    'temperature_8.516700e+02_direction_R33', \n    'temperature_1.031670e+03_direction_R11', \n    'temperature_1.031670e+03_direction_R22', \n    'temperature_1.031670e+03_direction_R33']"
      ]
    },
    {
      "cell_type": "markdown",
      "metadata": {},
      "source": [
        "With the data storage objects \navailable, we now loop over the data \nand extract our metrics for the \ndata analysis.\n\n"
      ]
    },
    {
      "cell_type": "code",
      "execution_count": null,
      "metadata": {
        "collapsed": false
      },
      "outputs": [],
      "source": [
        "for state_name in ordered_state_names:\n    for data in all_data[state_name]:\n        yield_pt = determine_pt2_offset_yield(data, 10e6)\n        yield_stress = yield_pt[1]\n        yield_stresses = save_state_data(yield_stresses, state_name, yield_stress)\n        ult_stress_arg = np.argmax(data[\"engineering_stress\"])\n        ult_stress = data[\"engineering_stress\"][ult_stress_arg]\n        ult_stresses = save_state_data(ult_stresses, state_name, ult_stress)\n\n        strain_at_ult_stress = data[\"engineering_strain\"][ult_stress_arg]\n        strains_at_ult_stresses = save_state_data(strains_at_ult_stresses, \n                                                  state_name, strain_at_ult_stress)\n\n        fail_strain = data[\"engineering_strain\"][-1]\n        fail_strains = save_state_data(fail_strains, state_name, fail_strain)"
      ]
    },
    {
      "cell_type": "markdown",
      "metadata": {},
      "source": [
        "To appropriately judge the anisotropy at each temperature, \nwe normalize the stress values by the average of the $R_{11}$\nvalues for each quantity. A simple function is written to perform this \nnormalization.\n\n"
      ]
    },
    {
      "cell_type": "code",
      "execution_count": null,
      "metadata": {
        "collapsed": false
      },
      "outputs": [],
      "source": [
        "def normalize_data(dataset):\n    normalized_data = OrderedDict()\n    for temp in [\"5.330700e+02\", \"6.716700e+02\", \"8.516700e+02\", \"1.031670e+03\"]:\n        normalizing_state = f\"temperature_{temp}_direction_R11\"\n        normalizing_constant = np.average(dataset[normalizing_state])\n        for direction in [\"R11\", \"R22\", \"R33\"]:\n            active_state = f\"temperature_{temp}_direction_{direction}\"\n            normalized_values = [val/normalizing_constant for val in dataset[active_state]]\n            normalized_data[active_state] = normalized_values\n    return normalized_data\n\nnormalized_yield_stresses = normalize_data(yield_stresses)\nnormalized_ult_stresses = normalize_data(ult_stresses)"
      ]
    },
    {
      "cell_type": "markdown",
      "metadata": {},
      "source": [
        "Now we make the box-and-whisker plots \nwith the appropriate labels. \nFirst we plot the yield stresses. \n\n"
      ]
    },
    {
      "cell_type": "code",
      "execution_count": null,
      "metadata": {
        "collapsed": false
      },
      "outputs": [],
      "source": [
        "boxplot_labels = [\n    \"$R_{11}$, 533 R\",\n    \"$R_{22}$, 533 R\", \n    \"$R_{33}$, 533 R\",\n    \"$R_{11}$, 672 R\",\n    \"$R_{22}$, 672 R\",\n    \"$R_{33}$, 672 R\",\n    \"$R_{11}$, 852 R\",\n    \"$R_{22}$, 852 R\",\n    \"$R_{33}$, 852 R\",\n    \"$R_{11}$, 1032 R\",\n    \"$R_{22}$, 1032 R\",\n    \"$R_{33}$, 1032 R\",\n    ]\nplt.figure(constrained_layout=True)\nplt.boxplot(normalized_yield_stresses.values(), labels=boxplot_labels)\nplt.xlabel(\"direction\")\nplt.xticks(rotation=90)\nplt.ylabel(\"normalized yield stress (.)\")\nplt.show()"
      ]
    },
    {
      "cell_type": "markdown",
      "metadata": {},
      "source": [
        "The plot above shows that for \nthe lower temperatures the yield anisotropy \nremains relatively consistent. Only \nat the highest temperature does the \nanisotropy appear to change, but this change is \naccompanied by a large amount of uncertainty. \nThe normalized ultimate stresses are plotted next.\n\n"
      ]
    },
    {
      "cell_type": "code",
      "execution_count": null,
      "metadata": {
        "collapsed": false
      },
      "outputs": [],
      "source": [
        "plt.figure(constrained_layout=True)\nplt.boxplot(normalized_ult_stresses.values(), labels=boxplot_labels)\nplt.xlabel(\"direction\")\nplt.xticks(rotation=90)\nplt.ylabel(\"normalized ultimate stress (.)\")\nplt.show()"
      ]
    },
    {
      "cell_type": "markdown",
      "metadata": {},
      "source": [
        "This plot shows that \nthe ultimate stress \nbehavior is similar to the \nyield stress. As noted in \n`6061T6 aluminum data analysis`, the anisotropy \nis generally less prominent higher strains for this material\nindicating anisotropic hardening. \nWe will continue to ignore anisotropic hardening for this example\nfor simplicity. \n\nNext, we plot the strains at the ultimate stress and\nthe failure strains of the data on box-and-whisker plots.\n\n"
      ]
    },
    {
      "cell_type": "code",
      "execution_count": null,
      "metadata": {
        "collapsed": false
      },
      "outputs": [],
      "source": [
        "plt.figure(constrained_layout=True)\nplt.boxplot(strains_at_ult_stresses.values(), labels=boxplot_labels)\nplt.xlabel(\"direction\")\nplt.xticks(rotation=90)\nplt.ylabel(\"strain at ultimate stress (.)\")\nplt.show()\n\nplt.figure(constrained_layout=True)\nplt.boxplot(fail_strains.values(), labels=boxplot_labels)\nplt.xlabel(\"direction\")\nplt.xticks(rotation=90)\nplt.ylabel(\"failure strains (.)\")\nplt.show()"
      ]
    },
    {
      "cell_type": "markdown",
      "metadata": {},
      "source": [
        "These two plots show that \nthe hardening is significantly \naffected by temperature as expected. \nThe material increases in ductility \nand reaches its ultimate stress \nmore quickly as the temperature increases.\n\nWith the above plots as guidance, \nwe choose to model the material with the anisotropy\ncalibrated to only the room temperature data. \nThe base material model parameters at room temperature (533 R) will come \nfrom `6061T6 aluminum calibration with anisotropic yield`.\nHowever, this fit will be modified so that the yield and hardening parameters \nwill include temperature dependence. Essentially, \nthe yield and Voce hardening parameters will vary \nas a function of temperature. They will be given a piecewise-linear \ntemperature dependence where the values will be calibrated at each temperature \nthe material was tested and linear interpolation will be used to predict behavior between \nthis temperatures. \n\nIn `6061T6 aluminum temperature calibration initial point estimation`,\nwe calculate initial estimates\nfor these functions using MatFit. To support this, \nwe save the data required to use MatFit. We use \nthe function below to save the yield stresses, \nultimate stresses, strains at ultimate stress and failure strains \nfor each data set in a file for each state. \n\n"
      ]
    },
    {
      "cell_type": "code",
      "execution_count": null,
      "metadata": {
        "collapsed": false
      },
      "outputs": [],
      "source": [
        "for state in yield_stresses:\n    zipped_data = zip(yield_stresses[state],\n                      ult_stresses[state], \n                      strains_at_ult_stresses[state], \n                      fail_strains[state])\n    with open(f\"{state}_matfit_metrics.csv\", \"w\") as file_handle:\n        file_handle.write(\"yield_stress, ultimate_stress, \"\n                          \"strain_at_ultimate_stress, failure_strain\\n\")\n        for yield_str, ult_str, strain_at_ult, fail_strain in zipped_data:\n            file_handle.write(f\"{yield_str}, {ult_str}, {strain_at_ult}, {fail_strain}\\n\")"
      ]
    }
  ],
  "metadata": {
    "kernelspec": {
      "display_name": "Python 3",
      "language": "python",
      "name": "python3"
    },
    "language_info": {
      "codemirror_mode": {
        "name": "ipython",
        "version": 3
      },
      "file_extension": ".py",
      "mimetype": "text/x-python",
      "name": "python",
      "nbconvert_exporter": "python",
      "pygments_lexer": "ipython3",
      "version": "3.11.5"
    }
  },
  "nbformat": 4,
  "nbformat_minor": 0
}