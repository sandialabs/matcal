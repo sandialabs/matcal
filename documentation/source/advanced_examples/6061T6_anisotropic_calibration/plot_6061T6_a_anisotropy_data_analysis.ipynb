{
  "cells": [
    {
      "cell_type": "markdown",
      "metadata": {},
      "source": [
        "\n# 6061T6 aluminum data analysis\nIn this example, we use MatCal and python tools \nto plot our data and verify our assumption \nthat the material exhibits orthotropic plasticity \nbehavior. The tests that were performed for this material that are relevant \nto this example include ASTME8 uniaxial tension testing in three \ndirections relative to the material rolling direction and \nSandia's shear top hat testing :cite:p:`top_hat_sand,top_hat_paper` \nin six orientations relative to the \nmaterial rolling direction. \n\n<div class=\"alert alert-info\"><h4>Note</h4><p>Useful Documentation links:\n\n    #. :class:`~matcal.core.data_importer.BatchDataImporter`\n    #. :meth:`~matcal.core.data.DataCollection.plot` \n    #. :func:`~matcal.core.data_analysis.determine_pt2_offset_yield`</p></div>\n\nTo use this data for calibrating the Hill48 \nyield surface :cite:p:`hill1948theory`, we must first \ndefine our material coordinate \nsystem. The local material directions will be denoted by numbers to \nadopt the convention of the Hill yield ratios in :cite:p:`lame_manual`.\nSince the material is extruded through rollers, the material \ncoordinate system is a cartesian system aligned with the \nrolled plate.\nWe decided that the material 22 direction aligns with the test rolling \ndirection (RD), \nthe material 11 direction will align with the long transverse  \ndirection (LT), \nand the material 33 direction aligns with the \nshort transverse test direction (ST).\n\nWith the material coordinate system defined, \nwe should determine which pairs of the six shear tests \nrepresent the same stress state for characterization \nof the Hill yield surface shear ratios. \nFor each shear test, we  \ncreate a free-body diagram of a \nmaterial point with the test loading directions \nshown along with our chosen material directions. \nWith \nthis diagram we can see which tests \nare probing which shear stresses for \ncalibrating the Hill yield shear ratios. This \ndiagram is shown in :numref:`shear_stress_states`.\n\n.. figure:: ../../figures/ductile_failure_6061_anisotropic_calibration/top_hat_shear_diagram.png\n  :scale: 12%\n  :align: center\n\n  The shear stress states for each test \n  are shown here on free body diagrams of \n  a material point on the top hat specimen where\n  the shear bands \n  form.\n\n:numref:`shear_stress_states` shows \nthat the first two letters  \nin the test name determine the stress state \nthat is being probed by the test. \nSince $\\sigma_{ij}$ and $\\sigma_{ji}$ \nare equal for a quasistatic material point, the stress \nstate is independent of the \norder of the first two letters. For example, the RST and SRT \ntests both impose a primarily $\\sigma_{23}$/$\\sigma_{32}$ stress \nin the shear band and can be used to calibrate the Hill ratio $R_{23}$. \nAs a result, we will be assigning the data one of \nthe three shear Hill ratios depending upon which Hill ratio they can be used to calibrate. \nThe RTS/TRS tests will be assigned\n``R12``, the SRT/RST tests will be assigned ``R23``\nand the STR/TSR tests will be assigned ``R31``. \nSimilarly, the tension tests will be assigned ``R11``, ``R22``\nand ``R33`` for the LT, RD and ST tests, respectively.\nThese assignments will be done under a ``direction`` state \nvariable as described later in this example.\n\nWith the material directions and test names \ncorrelated to the Hill ratios, we can analyze the data\nand determine if we can calibrate a Hill yield \nsurface for the material.\n\nWe begin by importing MatCal, NumPy and matplotlib, and\nsetting global plotting options to our preferences.      \n"
      ]
    },
    {
      "cell_type": "code",
      "execution_count": null,
      "metadata": {
        "collapsed": false
      },
      "outputs": [],
      "source": [
        "import numpy as np\nfrom matcal import *\nimport matplotlib.pyplot as plt\n# sphinx_gallery_thumbnail_number = 3\nplt.rc('text', usetex=True)\nplt.rc('font', family='serif')\nplt.rc('font', size=12)\nfigsize = (4,3)"
      ]
    },
    {
      "cell_type": "markdown",
      "metadata": {},
      "source": [
        "Next, we use MatCal's\n:class:`~matcal.core.data_importer.BatchDataImporter`\nto import our preprocessed data files. These have been \nformatted such that the importer will assign unique states to each test. \nThese states\nare predetermined and assigned with a data preprocessing tool (not shown here).\nThe assignment is made by writing the state \ninformation as the first line in each data \nfile according to `CSV file data importing details`.\nThis allows us to easily import the data using \nthe :class:`~matcal.core.data_importer.BatchDataImporter`\nwith the correct states already assigned. \n\nThe tension data is imported first and scaled \nso that the units are in psi.\n\n"
      ]
    },
    {
      "cell_type": "code",
      "execution_count": null,
      "metadata": {
        "collapsed": false
      },
      "outputs": [],
      "source": [
        "tension_data_collection = BatchDataImporter(\"aluminum_6061_data/\" \n                                              \"uniaxial_tension/processed_data/\"\n                                              \"cleaned_[CANM]*.csv\",).batch\ntension_data_collection = scale_data_collection(tension_data_collection, \n                                                  \"engineering_stress\", 1000)"
      ]
    },
    {
      "cell_type": "markdown",
      "metadata": {},
      "source": [
        "Tension testing was performed \nat multiple temperatures in addition \nto the multiple directions. As a result, \nthere are both ``temperature`` and ``direction`` state \nvariables for these test. To see the states \nof the data sets uploaded, \nprint the :meth:`~matcal.core.data.DataCollection.state_names`\nso that you can use these state names for manipulating the data. \n\n"
      ]
    },
    {
      "cell_type": "code",
      "execution_count": null,
      "metadata": {
        "collapsed": false
      },
      "outputs": [],
      "source": [
        "print(tension_data_collection.state_names)"
      ]
    },
    {
      "cell_type": "markdown",
      "metadata": {},
      "source": [
        "We then import the top hat shear data \nusing the :class:`~matcal.core.data_importer.BatchDataImporter`.\nThis testing was only completed at room temperature \nand only has the ``direction`` state variable.\n\n"
      ]
    },
    {
      "cell_type": "code",
      "execution_count": null,
      "metadata": {
        "collapsed": false
      },
      "outputs": [],
      "source": [
        "top_hat_data_collection = BatchDataImporter(\"aluminum_6061_data/\" \n                                              \"top_hat_shear/processed_data/cleaned_*.csv\").batch\nprint(top_hat_data_collection.state_names)"
      ]
    },
    {
      "cell_type": "markdown",
      "metadata": {},
      "source": [
        "Next, we use the :meth:`~matcal.core.data.DataCollection.plot`\nand matplotlib tools to plot the data on two figures according to \nthe test geometry with their color determined by state. \n\n"
      ]
    },
    {
      "cell_type": "code",
      "execution_count": null,
      "metadata": {
        "collapsed": false
      },
      "outputs": [],
      "source": [
        "tension_fig = plt.figure(figsize=figsize, constrained_layout=True)\ntension_data_collection.plot(\"engineering_strain\", \"engineering_stress\", \n                             state=\"temperature_5.330700e+02_direction_R22\", \n                             show=False, labels=\"$R_{22}$\", figure=tension_fig, \n                             color='tab:red')\ntension_data_collection.plot(\"engineering_strain\", \"engineering_stress\", \n                             state=\"temperature_5.330700e+02_direction_R11\", \n                             show=False, labels=\"$R_{11}$\", figure=tension_fig,\n                             color='tab:blue')\ntension_data_collection.plot(\"engineering_strain\", \"engineering_stress\", \n                             state=\"temperature_5.330700e+02_direction_R33\", \n                             labels=\"$R_{33}$\", figure=tension_fig, \n                             color='tab:green')\ntension_data_collection.remove_field(\"time\")\n\ntop_hat_fig = plt.figure(figsize=figsize, constrained_layout=True)\ntop_hat_data_collection.plot(\"displacement\", \"load\", show=False,\n                             state=\"direction_R12\", labels=\"$R_{12}$\",\n                             figure=top_hat_fig, color='tab:cyan')\ntop_hat_data_collection.plot(\"displacement\", \"load\", show=False,\n                             state=\"direction_R23\", labels=\"$R_{23}$\",\n                             figure=top_hat_fig, color='tab:orange')\ntop_hat_data_collection.plot(\"displacement\", \"load\",\n                             state=\"direction_R31\", labels=\"$R_{31}$\", \n                             figure=top_hat_fig, color='tab:purple')"
      ]
    },
    {
      "cell_type": "markdown",
      "metadata": {},
      "source": [
        "Looking at the tension stress/strain and top hat load/displacement \ndata, it seems that the material is anisotropic. However, \nthe material exhibits significant variability even within \ndirection. As a result, we want a more quantitative measure \nfrom which to judge anisotropy. One way to do this \nis to statistically quantify differences in the stress or load\nat different strain or displacement values between each direction. This can \nbe done easily using NumPy data manipulation and \nplotting these data with box-and-whisker plots. Since we are most interested \nin anisotropic yield for this material, we will look at the \n0.2% offset yield stress for the tension data. \n\nIn order to look at the 0.2% offset yield values, \nwe need to extract those values from the data. We \ndo that by generating\nelastic stress data with a 0.2% strain offset and determining \nwhere these generated data \ncross \nthe experimental data. The MatCal function \n:func:`~matcal.core.data_analysis.determine_pt2_offset_yield`\nperforms this calculation. \nWe can apply it to all of our data sets \nand create a box-and-whisker plot comparing the yield stresses\nfor the different loading directions.\nWe do that by looping over each state in the data collection \nand applying that function to each data set in each state. \nWe store those values in a dictionary according to state \nand create the box-and-whisker plot.\n\n"
      ]
    },
    {
      "cell_type": "code",
      "execution_count": null,
      "metadata": {
        "collapsed": false
      },
      "outputs": [],
      "source": [
        "yield_stresses = {\"temperature_5.330700e+02_direction_R11\":[], \n                  \"temperature_5.330700e+02_direction_R22\":[], \n                  \"temperature_5.330700e+02_direction_R33\":[]}\nfor state, data_sets in tension_data_collection.items():\n    for data in data_sets:\n        yield_pt = determine_pt2_offset_yield(data, 10e6)\n        yield_stresses[state.name].append(yield_pt[1])\n\nplt.figure(figsize=figsize, constrained_layout=True)\nplt.boxplot(yield_stresses.values(), labels=[\"$R_{11}$\", \"$R_{22}$\", \"$R_{33}$\"])\nplt.xlabel(\"direction\")\nplt.ylabel(\"yield stress (psi)\")\nplt.show()"
      ]
    },
    {
      "cell_type": "markdown",
      "metadata": {},
      "source": [
        "This plot shows that the median yield stress \nvalues for the different directions are measurably \ndifferent. In fact, the medians fall outside the maximums \nand minimums for the other direction data sets except for the single \noutlier in the $R_{11}$ data. Also, there \nis little overlap for the different direction maximums and minimums \nThis plot \nsupports the assumption that an anisotropic \nyield function should be used to model the data. \nThe overall \nspread in the medians for the yield stress \nin different directions is approximately ~10%. \n\n"
      ]
    },
    {
      "cell_type": "code",
      "execution_count": null,
      "metadata": {
        "collapsed": false
      },
      "outputs": [],
      "source": [
        "r11_median = np.average(yield_stresses[\"temperature_5.330700e+02_direction_R11\"])\nr22_median = np.average(yield_stresses[\"temperature_5.330700e+02_direction_R22\"])\nr33_median = np.average(yield_stresses[\"temperature_5.330700e+02_direction_R33\"])\nmedians = [r11_median, r22_median, r33_median]\nnormalized_median_range = (np.max(medians)-np.min(medians))/np.average(medians)\nprint(normalized_median_range)"
      ]
    },
    {
      "cell_type": "markdown",
      "metadata": {},
      "source": [
        "Note that there appears to be significant \nanisotropic hardening early in the stress strain curve. This \nis shown by comparing stresses at slightly higher strains. \nNow we create box-and-whisker plots and \nlook at the normalized range of the medians for \nthe engineering stress at 3% strain.\n\n"
      ]
    },
    {
      "cell_type": "code",
      "execution_count": null,
      "metadata": {
        "collapsed": false
      },
      "outputs": [],
      "source": [
        "stresses = {\"temperature_5.330700e+02_direction_R11\":[], \n                  \"temperature_5.330700e+02_direction_R22\":[], \n                  \"temperature_5.330700e+02_direction_R33\":[]}\nfor state, data_sets in tension_data_collection.items():\n    for data in data_sets:\n        stress = np.interp(0.03, data[\"engineering_strain\"], data[\"engineering_stress\"])\n        stresses[state.name].append(stress)\n\nplt.figure(figsize=figsize, constrained_layout=True)\nplt.boxplot(stresses.values(), labels=[\"$R_{11}$\", \"$R_{22}$\", \"$R_{33}$\"])\nplt.xlabel(\"direction\")\nplt.ylabel(\"stress at 3\\% strain (psi)\")\nplt.show()\n\nr11_median = np.average(stresses[\"temperature_5.330700e+02_direction_R11\"])\nr22_median = np.average(stresses[\"temperature_5.330700e+02_direction_R22\"])\nr33_median = np.average(stresses[\"temperature_5.330700e+02_direction_R33\"])\nmedians = [r11_median, r22_median, r33_median]\nnormalized_median_range = (np.max(medians)-np.min(medians))/np.average(medians)\nprint(normalized_median_range)"
      ]
    },
    {
      "cell_type": "markdown",
      "metadata": {},
      "source": [
        "We can see that the spread in the medians has reduced\nsignificantly to 2.5%. \nHowever, a measurable difference still exists. \nAlthough a more complex material model with anisotropic \nhardening could capture this behavior, we will continue \nwith our chosen model form for the purpose of this example.\n\nWe now complete a similar plot for the top hat \ndata. We will compare the load at a 0.005\" displacement \nwhich is where the data appears to become nonlinear.\n\n"
      ]
    },
    {
      "cell_type": "code",
      "execution_count": null,
      "metadata": {
        "collapsed": false
      },
      "outputs": [],
      "source": [
        "top_hat_yield_load = {\"direction_R12\":[], \"direction_R23\":[], \"direction_R31\":[]}\nfor state, data_sets in top_hat_data_collection.items():\n    for data in data_sets:\n        estimated_yield_load = np.interp(0.005, data[\"displacement\"], data[\"load\"])\n        top_hat_yield_load[state.name].append(estimated_yield_load)\n\nplt.figure(figsize=figsize, constrained_layout=True)\nplt.boxplot(top_hat_yield_load.values(), labels=[\"$R_{12}$\", \"$R_{23}$\", \"$R_{31}$\"])\nplt.xlabel(\"direction\")\nplt.ylabel(\"load at 0.005\\\" displacement (lbs)\")\nplt.show()"
      ]
    },
    {
      "cell_type": "markdown",
      "metadata": {},
      "source": [
        "Similarly to the tension data, \nthe top hat data also shows\nmild anisotropy according to this \nmeasure. With this evidence to \nsupport our material model choice, \nwe now move on to the next example where \nwe use this data to estimate the initial \npoint that will be used in our full \nfinite element calibration for the material model. \n\n"
      ]
    }
  ],
  "metadata": {
    "kernelspec": {
      "display_name": "Python 3",
      "language": "python",
      "name": "python3"
    },
    "language_info": {
      "codemirror_mode": {
        "name": "ipython",
        "version": 3
      },
      "file_extension": ".py",
      "mimetype": "text/x-python",
      "name": "python",
      "nbconvert_exporter": "python",
      "pygments_lexer": "ipython3",
      "version": "3.11.5"
    }
  },
  "nbformat": 4,
  "nbformat_minor": 0
}