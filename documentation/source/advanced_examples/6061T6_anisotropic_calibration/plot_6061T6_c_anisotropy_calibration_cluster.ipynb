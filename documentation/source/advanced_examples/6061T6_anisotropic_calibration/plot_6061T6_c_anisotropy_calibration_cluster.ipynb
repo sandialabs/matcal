{
  "cells": [
    {
      "cell_type": "markdown",
      "metadata": {},
      "source": [
        "\n# 6061T6 aluminum calibration with anisotropic yield\nWith the material model choice justified (See `6061T6 aluminum data analysis`)\nand an initial point determined \n(See `6061T6 aluminum anisotropy calibration initial point estimation`), \nwe can set up the calibration for this material. \nThe items needed for the calibration include the data, the \nmodels for the tests, the objectives for the calibration, and the MatCal\ncalibration study object with the parameters that will be calibrated.\n\n<div class=\"alert alert-info\"><h4>Note</h4><p>Useful Documentation links:\n\n    #. `Uniaxial Tension Models`\n    #. :class:`~matcal.sierra.models.RoundUniaxialTensionModel`\n    #. :class:`~matcal.dakota.local_calibration_studies.GradientCalibrationStudy`\n    #. :class:`~matcal.core.residuals.UserFunctionWeighting`</p></div>\n\nFirst, we import the tools that will be used \nfor this example and setup our \npreferred plotting options.   \n"
      ]
    },
    {
      "cell_type": "code",
      "execution_count": null,
      "metadata": {
        "collapsed": false
      },
      "outputs": [],
      "source": [
        "import numpy as np\nfrom matcal import *\nfrom matcal.sandia.computing_platforms import is_sandia_cluster, get_sandia_computing_platform\n\nimport matplotlib.pyplot as plt\n\nplt.rc('text', usetex=True)\nplt.rc('font', family='serif')\nplt.rc('font', size=12)\nfigsize = (4,3)"
      ]
    },
    {
      "cell_type": "markdown",
      "metadata": {},
      "source": [
        "Next, we import the data\nwe will calibrate to. This includes \nthe uniaxial tension data and top hat shear data. \nLike in the preceding examples, we\nuse MatCal's :class:`~matcal.core.data_importer.BatchDataImporter`\nto perform the import and categorize the data according to states.\nSee `Data Importing and Manipulation` and \n`6061T6 aluminum data analysis` for more information \nabout how these data files were setup to be imported \ncorrectly by the data importer.\n\n"
      ]
    },
    {
      "cell_type": "code",
      "execution_count": null,
      "metadata": {
        "collapsed": false
      },
      "outputs": [],
      "source": [
        "tension_data_collection = BatchDataImporter(\"ductile_failure_aluminum_6061_data/\" \n                                              \"uniaxial_tension/processed_data/\"\n                                              \"cleaned_[CANM]*.csv\",).batch\ntop_hat_data_collection = BatchDataImporter(\"ductile_failure_aluminum_6061_data/\" \n                                              \"top_hat_shear/processed_data/cleaned_*.csv\").batch"
      ]
    },
    {
      "cell_type": "markdown",
      "metadata": {},
      "source": [
        "We now modify the data to fit our calibration \nneeds. For the tension data, \nwe convert the engineering stress from\nksi units to psi units using the \n:func:`~matcal.core.data.scale_data_collection` function.\n\n"
      ]
    },
    {
      "cell_type": "code",
      "execution_count": null,
      "metadata": {
        "collapsed": false
      },
      "outputs": [],
      "source": [
        "tension_data_collection = scale_data_collection(tension_data_collection, \n                                                  \"engineering_stress\", 1000)"
      ]
    },
    {
      "cell_type": "markdown",
      "metadata": {},
      "source": [
        "The top hat data needs more specialized \nmodifications. Since some of these \ntests were not run to complete failure, \nwe must remove the data after peak load. \nWe do this by removing the time steps \nin the data after peak load. This will \nsuccessfully remove unloading data from \nspecimens that were not loaded until failure.\nAlso, since this calibration is calibrating a\nplasticity model, we remove data after a displacement \nof 0.02\". This is required because cracks can \ninitiate well before peak load for these specimens \nand such cracks are likely not present before this displacement. \nSince most specimens have reached a region of linear \nload-displacement behavior by 0.02\", the data up to this point should \nbe sufficient for our calibration. \nWe use NumPy array slicing to perform\nthe data modification for each data set \nin each state.\n\n"
      ]
    },
    {
      "cell_type": "code",
      "execution_count": null,
      "metadata": {
        "collapsed": false
      },
      "outputs": [],
      "source": [
        "for state, state_data_list in top_hat_data_collection.items():\n    for index, data in enumerate(state_data_list):\n        max_load_arg = np.argmax(data[\"load\"])\n        # This slicing procedure removes the data after peak load.\n        data = data[data[\"time\"] < data[\"time\"][max_load_arg]]\n        # This one removes the data after a displacement of 0.02\"\n        # and reassigns the modified data to the \n        # DataCollection\n        top_hat_data_collection[state][index] = data[data[\"displacement\"] < 0.02]\ntop_hat_data_collection.remove_field(\"time\")"
      ]
    },
    {
      "cell_type": "markdown",
      "metadata": {},
      "source": [
        "We now plot the data to verify that \nwe have modified it as desired for the calibration.\n\n"
      ]
    },
    {
      "cell_type": "code",
      "execution_count": null,
      "metadata": {
        "collapsed": false
      },
      "outputs": [],
      "source": [
        "tension_fig = plt.figure(figsize=figsize, constrained_layout=True)\ntension_data_collection.plot(\"engineering_strain\", \"engineering_stress\", \n                             state=\"temperature_5.330700e+02_direction_R22\", \n                             show=False, labels=\"$R_{22}$\", figure=tension_fig, \n                             color='tab:red')\ntension_data_collection.plot(\"engineering_strain\", \"engineering_stress\", \n                             state=\"temperature_5.330700e+02_direction_R11\", \n                             show=False, labels=\"$R_{11}$\", figure=tension_fig,\n                             color='tab:blue')\ntension_data_collection.plot(\"engineering_strain\", \"engineering_stress\", \n                             state=\"temperature_5.330700e+02_direction_R33\", \n                             labels=\"$R_{33}$\", figure=tension_fig, \n                             color='tab:green')\nplt.xlabel(\"engineering strain (.)\")\nplt.ylabel(\"engineering stress (psi)\")\n\ntension_data_collection.remove_field(\"time\")\n\ntop_hat_fig = plt.figure(figsize=figsize, constrained_layout=True)\ntop_hat_data_collection.plot(\"displacement\", \"load\", show=False,\n                             state=\"direction_R12\", labels=\"$R_{12}$\",\n                             figure=top_hat_fig, color='tab:cyan')\ntop_hat_data_collection.plot(\"displacement\", \"load\", show=False,\n                             state=\"direction_R23\", labels=\"$R_{23}$\",\n                             figure=top_hat_fig, color='tab:orange')\ntop_hat_data_collection.plot(\"displacement\", \"load\",\n                             state=\"direction_R31\", labels=\"$R_{31}$\", \n                             figure=top_hat_fig, color='tab:purple')\nplt.xlabel(\"displacement (in)\")\nplt.ylabel(\"displacement (lbs)\")"
      ]
    },
    {
      "cell_type": "markdown",
      "metadata": {},
      "source": [
        "With the data prepared, we move on to \nbuilding the models. \nThe first step is to prepare the material model \ninput deck file that is required by SIERRA/SM.\nWe do this within python because the \nfile is relatively short and simple. It also \nmakes it easy to ensure naming is consistent \nin the SIERRA/SM input deck files and our \nMatCal objects. We create a string \nwith the material model syntax that SIERRA/SM \nexpects and the Aprepro variables \nthat MatCal will populate with study and \nstate parameters when running a study. \n\n"
      ]
    },
    {
      "cell_type": "code",
      "execution_count": null,
      "metadata": {
        "collapsed": false
      },
      "outputs": [],
      "source": [
        "material_name = \"6061T6_anisotropic_yield\"\nmaterial_string = f\"\"\"\n  begin material {material_name}\n    density = 0.00026\n    begin parameters for model hill_plasticity\n      youngs modulus                = 10e6\n      poissons ratio                = 0.33\n      yield stress                  = {{yield_stress*1e3}}\n\n      hardening model = voce\n      hardening modulus = {{hardening*1e3}}\n      exponential coefficient = {{b}}\n\n      r11                           =   1\n      r22                           =   {{R22}}\n      r33                           =   {{R33}}\n      r12                           =   {{R12}}\n      r23                           =   {{R23}}\n      r31                           =   {{R31}}\n      coordinate system             =   rectangular_coordinate_system\n      \n      {{if(direction==\"R11\")}}\n      direction for rotation        = 3\n      alpha                         = 90.0\n      {{elseif((direction==\"R33\") || (direction==\"R31\"))}}\n      direction for rotation        = 1\n      alpha                         = -90.0\n      {{elseif(direction==\"R23\")}}\n      direction for rotation        = 2\n      alpha                         = 90.0\n      {{endif}}\n    end\n  end\n\"\"\""
      ]
    },
    {
      "cell_type": "markdown",
      "metadata": {},
      "source": [
        "We save that string to a file, so \nMatCal can add it to the model files \nthat we generate for the tension and top hat \nshear test models.\n\n"
      ]
    },
    {
      "cell_type": "code",
      "execution_count": null,
      "metadata": {
        "collapsed": false
      },
      "outputs": [],
      "source": [
        "material_filename = \"hill_plasticity.inc\"\nwith open(material_filename, 'w') as fn:\n    fn.write(material_string)"
      ]
    },
    {
      "cell_type": "markdown",
      "metadata": {},
      "source": [
        "MatCal communicates all required material \nmodel information to its MatCal generated\nfinite element models through a :class:`~matcal.sierra.material.Material`\nobject, so we create the required object.\n\n"
      ]
    },
    {
      "cell_type": "code",
      "execution_count": null,
      "metadata": {
        "collapsed": false
      },
      "outputs": [],
      "source": [
        "material = Material(material_name, material_filename, \"hill_plasticity\")"
      ]
    },
    {
      "cell_type": "markdown",
      "metadata": {},
      "source": [
        "Now we create our tension model \nwhich requires the specimen geometry and model \ndiscretization options.\nWe create a dictionary with all the \nrequired key words for \ncreating the tension model mesh.\n\n"
      ]
    },
    {
      "cell_type": "code",
      "execution_count": null,
      "metadata": {
        "collapsed": false
      },
      "outputs": [],
      "source": [
        "tension_geo_params = {\"extensometer_length\": 1.0,\n            \"gauge_length\": 1.25,\n            \"gauge_radius\": 0.125,\n            \"grip_radius\": 0.25,\n            \"total_length\": 4,\n            \"fillet_radius\": 0.188,\n            \"taper\": 0.0015,\n            \"necking_region\":0.375,\n            \"element_size\": 0.0125,\n            \"mesh_method\":3,\n            \"grip_contact_length\":1}"
      ]
    },
    {
      "cell_type": "markdown",
      "metadata": {},
      "source": [
        "Then we create a :class:`~matcal.sierra.models.RoundUniaxialTensionModel`\nthat takes the material and geometry as input.\n\n"
      ]
    },
    {
      "cell_type": "code",
      "execution_count": null,
      "metadata": {
        "collapsed": false
      },
      "outputs": [],
      "source": [
        "ASTME8_tension_model = RoundUniaxialTensionModel(material, **tension_geo_params)"
      ]
    },
    {
      "cell_type": "markdown",
      "metadata": {},
      "source": [
        "A name is specified so that \nresults information can be easily accessed \nand associated with this model. MatCal will \ngenerate a name for the model, but it may \nbe convenient to supply your own.\n\n"
      ]
    },
    {
      "cell_type": "code",
      "execution_count": null,
      "metadata": {
        "collapsed": false
      },
      "outputs": [],
      "source": [
        "ASTME8_tension_model.set_name('tension_specimen')"
      ]
    },
    {
      "cell_type": "markdown",
      "metadata": {},
      "source": [
        "To ensure the model does not run longer than required for our \ncalibration, we use the\n:meth:`~matcal.sierra.models.RoundUniaxialTensionModel.set_allowable_load_drop_factor`\nmethod. \nThis will end the simulation when the load in the simulation \nhas decreased by 25% from peak load.\n\n"
      ]
    },
    {
      "cell_type": "code",
      "execution_count": null,
      "metadata": {
        "collapsed": false
      },
      "outputs": [],
      "source": [
        "ASTME8_tension_model.set_allowable_load_drop_factor(0.25)"
      ]
    },
    {
      "cell_type": "markdown",
      "metadata": {},
      "source": [
        "To complete the model, MatCal needs boundary condition \ninformation so that the model is deformed appropriately \nfor each data set that is of interest to the calibration. \nWe pass the uniaxial tension data collection to the model,\nso that it can form the correct boundary conditions for each state.\n\n"
      ]
    },
    {
      "cell_type": "code",
      "execution_count": null,
      "metadata": {
        "collapsed": false
      },
      "outputs": [],
      "source": [
        "ASTME8_tension_model.add_boundary_condition_data(tension_data_collection)"
      ]
    },
    {
      "cell_type": "markdown",
      "metadata": {},
      "source": [
        "Next, we set optional platform options. \nSince we will run this calibration on either an HPC cluster\nor a local machine, we setup the model \nwith the appropriate platform specific options. \n\n"
      ]
    },
    {
      "cell_type": "code",
      "execution_count": null,
      "metadata": {
        "collapsed": false
      },
      "outputs": [],
      "source": [
        "my_wcid = \"fy220213\"\nif is_sandia_cluster():\n  ASTME8_tension_model.run_in_queue(my_wcid, 0.25)\n  ASTME8_tension_model.continue_when_simulation_fails()\n  platform = get_sandia_computing_platform()\n  num_cores = platform.get_processors_per_node()\nelse:\n  num_cores = 8\nASTME8_tension_model.set_number_of_cores(num_cores)"
      ]
    },
    {
      "cell_type": "markdown",
      "metadata": {},
      "source": [
        "The model for the top hat shear test \nis built next. The same inputs \nare required for this model. \nFirst, we build a dictionary \nwith all the needed geometry and discretization parameters.\n\n"
      ]
    },
    {
      "cell_type": "code",
      "execution_count": null,
      "metadata": {
        "collapsed": false
      },
      "outputs": [],
      "source": [
        "top_hat_geo_params = {\"total_height\":1.25,\n        \"base_height\":0.75,\n        \"trapezoid_angle\": 10.0,\n        \"top_width\": 0.417*2,\n        \"base_width\": 1.625, \n        \"base_bottom_height\": (0.75-0.425),\n        \"thickness\":0.375, \n        \"external_radius\": 0.05,\n        \"internal_radius\": 0.05,\n        \"hole_height\": 0.3,\n        \"lower_radius_center_width\":0.390*2,\n        \"localization_region_scale\":0.0,\n        \"element_size\":0.005, \n        \"numsplits\":1}"
      ]
    },
    {
      "cell_type": "markdown",
      "metadata": {},
      "source": [
        "Next, we create the :class:`~matcal.sierra.models.TopHatShearModel`\nand give it a name.\n\n"
      ]
    },
    {
      "cell_type": "code",
      "execution_count": null,
      "metadata": {
        "collapsed": false
      },
      "outputs": [],
      "source": [
        "top_hat_model = TopHatShearModel(material, **top_hat_geo_params)\ntop_hat_model.set_name('top_hat_shear')"
      ]
    },
    {
      "cell_type": "markdown",
      "metadata": {},
      "source": [
        "We set its allowable load drop factor \nand provide boundary condition data. \n\n"
      ]
    },
    {
      "cell_type": "code",
      "execution_count": null,
      "metadata": {
        "collapsed": false
      },
      "outputs": [],
      "source": [
        "top_hat_model.set_allowable_load_drop_factor(0.05)\ntop_hat_model.add_boundary_condition_data(top_hat_data_collection)"
      ]
    },
    {
      "cell_type": "markdown",
      "metadata": {},
      "source": [
        "Lastly, we setup the platform information \nfor running the model. \n\n"
      ]
    },
    {
      "cell_type": "code",
      "execution_count": null,
      "metadata": {
        "collapsed": false
      },
      "outputs": [],
      "source": [
        "top_hat_model.set_number_of_cores(num_cores*2)\nif is_sandia_cluster():\n  top_hat_model.run_in_queue(my_wcid, 30.0/60)\n  top_hat_model.continue_when_simulation_fails()"
      ]
    },
    {
      "cell_type": "markdown",
      "metadata": {},
      "source": [
        "We now create the objectives for the \ncalibration. \nBoth models are compared to the data \nusing a :class:`~matcal.core.objective.CurveBasedInterpolatedObjective`. \nThe tension specimen is calibrated to the engineering stress/strain data\nand the top hat specimen is calibrated to the load-displacement data.\n\n"
      ]
    },
    {
      "cell_type": "code",
      "execution_count": null,
      "metadata": {
        "collapsed": false
      },
      "outputs": [],
      "source": [
        "tension_objective = CurveBasedInterpolatedObjective(\"engineering_strain\", \"engineering_stress\")\ntop_hat_objective = CurveBasedInterpolatedObjective(\"displacement\", \"load\")"
      ]
    },
    {
      "cell_type": "markdown",
      "metadata": {},
      "source": [
        "With the objectives ready, \nwe create :class:`~matcal.core.residuals.UserFunctionWeighting`\nobjects that will remove data points from the data sets \nthat we do not want included in the calibration objective. \nFor the tension data, we remove the data in the elastic regime \nand data near failure. \nThe following function does this by setting the residuals \nthat correspond to these features in the data to zero.\n\n"
      ]
    },
    {
      "cell_type": "code",
      "execution_count": null,
      "metadata": {
        "collapsed": false
      },
      "outputs": [],
      "source": [
        "def remove_failure_points_from_residual(eng_strains, eng_stresses, residuals):\n    import numpy as np\n    weights = np.ones(len(residuals))\n    peak_index = np.argmax(eng_stresses)\n    peak_strain = eng_strains[peak_index]\n    peak_stress = eng_stresses[peak_index]\n    weights[(eng_strains > peak_strain) & (eng_stresses < 0.89*peak_stress)  ] = 0\n    weights[(eng_strains < 0.005) ] = 0\n    return weights*residuals"
      ]
    },
    {
      "cell_type": "markdown",
      "metadata": {},
      "source": [
        "The preceding function is used to create \nthe :class:`~matcal.core.residuals.UserFunctionWeighting` object\nfor the tension objective and then added to the \nobjective as a weight.\n\n"
      ]
    },
    {
      "cell_type": "code",
      "execution_count": null,
      "metadata": {
        "collapsed": false
      },
      "outputs": [],
      "source": [
        "tension_residual_weights = UserFunctionWeighting(\"engineering_strain\", \n                                                 \"engineering_stress\", \n                                                 remove_failure_points_from_residual)\ntension_objective.set_field_weights(tension_residual_weights)"
      ]
    },
    {
      "cell_type": "markdown",
      "metadata": {},
      "source": [
        "A similar modification is required for the top hat data. \nSince the data in the failure region has been removed \nfrom the data itself, we only remove the data in \nthe elastic region with the following function.\n\n"
      ]
    },
    {
      "cell_type": "code",
      "execution_count": null,
      "metadata": {
        "collapsed": false
      },
      "outputs": [],
      "source": [
        "def remove_elastic_region_from_top_hat(displacements, loads, residuals):\n    import numpy as np\n    weights = np.ones(len(residuals))\n    weights[(displacements < 0.005) ] = 0\n    return weights*residuals"
      ]
    },
    {
      "cell_type": "markdown",
      "metadata": {},
      "source": [
        "Then we create our \n:class:`~matcal.core.residuals.UserFunctionWeighting` object\nand apply it to the top hat objective.\n\n"
      ]
    },
    {
      "cell_type": "code",
      "execution_count": null,
      "metadata": {
        "collapsed": false
      },
      "outputs": [],
      "source": [
        "top_hat_residual_weights = UserFunctionWeighting(\"displacement\", \"load\", \n                                                 remove_elastic_region_from_top_hat)\ntop_hat_objective.set_field_weights(top_hat_residual_weights)"
      ]
    },
    {
      "cell_type": "markdown",
      "metadata": {},
      "source": [
        "Now we create the study parameters that \nwill be calibrated. We provide\nreasonable bounds and assign their \ncurrent value to be the initial point\nthat we determined in `6061T6 aluminum anisotropy \ncalibration initial point estimation`.\n\n"
      ]
    },
    {
      "cell_type": "code",
      "execution_count": null,
      "metadata": {
        "collapsed": false
      },
      "outputs": [],
      "source": [
        "yield_stress = Parameter(\"yield_stress\", 15, 50, 42)\nhardening = Parameter(\"hardening\", 0, 60, 10.1)\nb = Parameter(\"b\", 10, 40, 35.5)\nR22 = Parameter(\"R22\", 0.8, 1.15, 1.05)\nR33 = Parameter(\"R33\", 0.8, 1.15, 0.95)\nR12 = Parameter(\"R12\", 0.8, 1.15, 1.0)\nR23 = Parameter(\"R23\", 0.8, 1.15, 0.97)\nR31 = Parameter(\"R31\", 0.8, 1.15, 0.94)"
      ]
    },
    {
      "cell_type": "markdown",
      "metadata": {},
      "source": [
        "Finally, we can create our study. For\nThis calibration we use a \n:class:`~matcal.dakota.local_calibration_studies.GradientCalibrationStudy`.\n\n"
      ]
    },
    {
      "cell_type": "code",
      "execution_count": null,
      "metadata": {
        "collapsed": false
      },
      "outputs": [],
      "source": [
        "study = GradientCalibrationStudy(yield_stress, hardening, b, R22, R33, R12, R23, R31)\nstudy.set_results_storage_options(results_save_frequency=9)"
      ]
    },
    {
      "cell_type": "markdown",
      "metadata": {},
      "source": [
        "We run the study in a subdirectory named ``6061T6_anisotropy``\nto keep the current directory cleaner.\n\n"
      ]
    },
    {
      "cell_type": "code",
      "execution_count": null,
      "metadata": {
        "collapsed": false
      },
      "outputs": [],
      "source": [
        "study.set_working_directory(\"6061T6_anisotropy\", remove_existing=True)"
      ]
    },
    {
      "cell_type": "markdown",
      "metadata": {},
      "source": [
        "We set the core limit so that it runs all model concurrently. \nMatCal knows if the models will be run in a queue on a remote node and will only \nassign one core to each model that is run in a queue. \nSince there are two models with three states and eight \nparameters we need to run a maximum of 54 concurrent models. On a cluster, \nwe ensure that we can run all concurrently. On a local platform, we allow MatCal\nto use all processors that are available.\n\n"
      ]
    },
    {
      "cell_type": "code",
      "execution_count": null,
      "metadata": {
        "collapsed": false
      },
      "outputs": [],
      "source": [
        "if is_sandia_cluster():\n  study.set_core_limit(6*9+1)\nelse:\n  study.set_core_limit(60)"
      ]
    },
    {
      "cell_type": "markdown",
      "metadata": {},
      "source": [
        "We add evaluation sets for each model and data set and \nset the output verbosity to the desired level. \n\n"
      ]
    },
    {
      "cell_type": "code",
      "execution_count": null,
      "metadata": {
        "collapsed": false
      },
      "outputs": [],
      "source": [
        "study.add_evaluation_set(ASTME8_tension_model, tension_objective, tension_data_collection)\nstudy.add_evaluation_set(top_hat_model, top_hat_objective, top_hat_data_collection)\nstudy.set_output_verbosity(\"normal\")"
      ]
    },
    {
      "cell_type": "markdown",
      "metadata": {},
      "source": [
        "The study is then launched and the \nbest fit parameters will be printed \nand written to a file after it finished. \n\n"
      ]
    },
    {
      "cell_type": "code",
      "execution_count": null,
      "metadata": {
        "collapsed": false
      },
      "outputs": [],
      "source": [
        "results = study.launch()\nprint(results.best.to_dict())\nmatcal_save(\"anisotropy_parameters.serialized\", results.best.to_dict())"
      ]
    },
    {
      "cell_type": "markdown",
      "metadata": {},
      "source": [
        "We use MatCal's plotting features to \nplot the results and verify a satisfactory \ncalibration has been achieved.\n\n"
      ]
    },
    {
      "cell_type": "code",
      "execution_count": null,
      "metadata": {
        "collapsed": false
      },
      "outputs": [],
      "source": [
        "import os\ninit_dir = os.getcwd()\nos.chdir(\"6061T6_anisotropy\")\nmake_standard_plots(\"displacement\", \"engineering_strain\")\nos.chdir(init_dir)"
      ]
    }
  ],
  "metadata": {
    "kernelspec": {
      "display_name": "Python 3",
      "language": "python",
      "name": "python3"
    },
    "language_info": {
      "codemirror_mode": {
        "name": "ipython",
        "version": 3
      },
      "file_extension": ".py",
      "mimetype": "text/x-python",
      "name": "python",
      "nbconvert_exporter": "python",
      "pygments_lexer": "ipython3",
      "version": "3.11.5"
    }
  },
  "nbformat": 4,
  "nbformat_minor": 0
}