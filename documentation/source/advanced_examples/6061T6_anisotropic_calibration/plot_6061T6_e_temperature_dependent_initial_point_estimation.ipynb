{
  "cells": [
    {
      "cell_type": "markdown",
      "metadata": {},
      "source": [
        "\n# 6061T6 aluminum temperature calibration initial point estimation\nIn this example, we use MatFit to estimate the initial point for our \nmaterial model temperature dependence functions. For more on the chosen \nmodel form see `6061T6 aluminum temperature dependent data analysis`.\n\n<div class=\"alert alert-info\"><h4>Note</h4><p>Useful Documentation links:\n\n    #. `Running MatFit`\n    #. :class:`~matcal.core.data_importer.FileData`</p></div>\n\nWe begin by importing the data metrics that are required for MatFit\nthat were calculated in the previously referenced example.  \nWe will use the FileData tool to perform the import, so we import \nall of MatCal's tools. We also import MatFit tools, NumPy, matplotlib and glob before \nsetting our preferred plotting defaults. \n"
      ]
    },
    {
      "cell_type": "code",
      "execution_count": null,
      "metadata": {
        "collapsed": false
      },
      "outputs": [],
      "source": [
        "from matcal import *\nfrom matfit.models import Voce\nfrom matfit.fitting import MatFit\n\nfrom glob import glob\nimport numpy as np\nimport matplotlib.pyplot as plt\n\nplt.rc('text', usetex=True)\nplt.rc('font', family='serif')\nplt.rc('font', size=12)\nfigsize = (4,3)"
      ]
    },
    {
      "cell_type": "markdown",
      "metadata": {},
      "source": [
        "Since we want to keep these data identifiable by state, \nwe write a function to perform the import, create the correct \nstate from the filename and then add the data to a \n:class:`~matcal.core.data.DataCollection`.\n\n"
      ]
    },
    {
      "cell_type": "code",
      "execution_count": null,
      "metadata": {
        "collapsed": false
      },
      "outputs": [],
      "source": [
        "files = glob(\"*_matfit_metrics.csv\")\nmetrics_collection = DataCollection(\"matfit metrics\")\nfor filename in files:\n    filename_split = filename.split(\"_\")\n    temperature = float(filename_split[1])\n    direction = filename_split[3]\n    new_state = State(f\"temperature_{temperature:0.0f}_direction_{direction}\", \n                      temperature=temperature, direction=direction)\n    new_data = FileData(filename, state=new_state)\n    metrics_collection.add(new_data)"
      ]
    },
    {
      "cell_type": "markdown",
      "metadata": {},
      "source": [
        "With all the required data available, \nwe can perform the MatFit initial point \nestimate. For MatFit, three steps \nare required. We must put the material \ndata metrics into the correct data form, \nspecify the parameters we want to \ncalibrate and, finally, run the \nMatFit calibration. \nWe perform each of these steps in separate \nfunctions as shown below. \nIn the first function, we define the \nrequired material data metrics and \nproperties that MatFit needs in a dictionary \nwith the correct keys. \nThe elastic constants will not be \ncalibrated so they are specified \nas global constants. The remaining \nmaterial data metrics are averaged \nfrom all the data for a given state. \nWe are not concerned with uncertainty quantification \nat this point and the average should give \nan acceptable initial point for the full \nMatCal calibration to follow.\n\n"
      ]
    },
    {
      "cell_type": "code",
      "execution_count": null,
      "metadata": {
        "collapsed": false
      },
      "outputs": [],
      "source": [
        "youngs_modulus=10.3e6\npoissons_ratio=0.33\ndef prepare_material_metrics(state):\n    state_data = metrics_collection[state][0]\n    material_metrics = {\"ultimate_strength\":np.average(state_data[\"ultimate_stress\"]),\n    \"strain_at_ultimate\":np.average(state_data[\"strain_at_ultimate_stress\"]),\n    \"elongation\":np.average(state_data[\"failure_strain\"]),\n    \"yield_stress\":np.average(state_data[\"yield_stress\"]),\n    \"youngs_modulus\":youngs_modulus,\n    \"poissons_ratio\":poissons_ratio}\n    \n    return material_metrics"
      ]
    },
    {
      "cell_type": "markdown",
      "metadata": {},
      "source": [
        "The next function defines the parameters \nwe wish to calibrate using MatFit. Since we want to \ndefine temperature dependent functions for \nthe yield and Voce hardening parameters, \nthese are the three parameters for which we \ndefine MatFit parameters. \n\n<div class=\"alert alert-info\"><h4>Note</h4><p>The MatFit parameters are defined as dictionaries \n      where certain keywords are required \n      in order to be valid. See :cite:p:`matfit`.</p></div>\n\n"
      ]
    },
    {
      "cell_type": "code",
      "execution_count": null,
      "metadata": {
        "collapsed": false
      },
      "outputs": [],
      "source": [
        "def prepare_matfit_parameters():\n    hardening_modulus = dict(value=1.0, lower=0, upper=100.0e6, \n                            calibrate=True)\n    exponential_coefficient=dict(value=15.0, lower=0.0, upper=300, \n                                calibrate=True)\n    yield_stress=dict(value=40e3, lower=0.0, upper=100e3, \n                                     calibrate=True)\n    voce_parameters = dict(hardening_modulus=hardening_modulus,\n                           exponential_coefficient=exponential_coefficient,\n                           yield_stress=yield_stress)\n    return voce_parameters"
      ]
    },
    {
      "cell_type": "markdown",
      "metadata": {},
      "source": [
        "In the final function, \nWe run MatFit for our Voce hardening model. \nFirst it calls the preceding two functions \nto prepare the material metrics and parameters. \nIt then calibrates the Voce material model parameters\nand returns the calibration results.\n\n"
      ]
    },
    {
      "cell_type": "code",
      "execution_count": null,
      "metadata": {
        "collapsed": false
      },
      "outputs": [],
      "source": [
        "def matfit_single_state(state):\n    material_metrics = prepare_material_metrics(state)\n    voce_parameters = prepare_matfit_parameters()\n    voce_model = Voce(material_metrics, voce_parameters, name='Voce')\n    MF = MatFit(voce_model)\n    MF.fit(solver_settings=dict(method='trf'))\n    solution = MF.get_solution()\n    param_return_tuple = (solution[\"yield_stress\"], \n                          solution[\"hardening_modulus\"], \n                          solution[\"exponential_coefficient\"])\n    return param_return_tuple"
      ]
    },
    {
      "cell_type": "markdown",
      "metadata": {},
      "source": [
        "We now are able to estimate the Voce hardening \nparameters and yield stresses for our material at \nthe higher temperatures.  We will only use the \ndata for the $R_{11}$ direction since\nthis direction's yield stress is the reference stress\nfor the material's Hill yield. Any small errors in the other \ndirections' Voce hardening parameters will be corrected\nwhen the full calibration is performed. \nWe call the ``matfit_single_state`` function \non each temperature for the $R_{11}$\nmaterial direction and store the parameters for each \ntemperature.\n\n"
      ]
    },
    {
      "cell_type": "code",
      "execution_count": null,
      "metadata": {
        "collapsed": false
      },
      "outputs": [],
      "source": [
        "y_672_ip, A_672_ip,  b_672_ip  = matfit_single_state(\"temperature_672_direction_R11\")\ny_852_ip, A_852_ip,  b_852_ip  = matfit_single_state(\"temperature_852_direction_R11\")\ny_1032_ip, A_1032_ip, b_1032_ip = matfit_single_state(\"temperature_1032_direction_R11\")"
      ]
    },
    {
      "cell_type": "markdown",
      "metadata": {},
      "source": [
        "The temperature dependence functions for the parameters \nwill scale the room temperature values using a piecewise-linear \nfunction. \nAs a result, we will need the room temperature (533 R)\nparameter values, so we create a dictionary storing these parameters \nthat resulted from the calibration in\n`6061T6 aluminum calibration with anisotropic yield`.\n\n"
      ]
    },
    {
      "cell_type": "code",
      "execution_count": null,
      "metadata": {
        "collapsed": false
      },
      "outputs": [],
      "source": [
        "RT_calibrated_params = matcal_load(\"anisotropy_parameters.serialized\")"
      ]
    },
    {
      "cell_type": "markdown",
      "metadata": {},
      "source": [
        "Now we can use the MatFit data and the room temperature \nparameters to create our temperature dependent scaling functions for the \nyield stress and Voce hardening parameters.\nFor each parameter, we created an array that contains the room temperature \ncalibration value and the MatFit estimates for the high temperature \nordered from lowest temperature to highest. The array for each parameter\nis normalized by the room temperature value for that parameter. \nThe resulting array is the scaling value for each parameter at each \ntemperature where data are available.\n\n"
      ]
    },
    {
      "cell_type": "code",
      "execution_count": null,
      "metadata": {
        "collapsed": false
      },
      "outputs": [],
      "source": [
        "yields = np.array([RT_calibrated_params[\"yield_stress\"]*1e3, y_672_ip, y_852_ip, y_1032_ip])\nyield_scale_factors = yields/1000/RT_calibrated_params[\"yield_stress\"]\n\nAs = np.array([RT_calibrated_params[\"hardening\"]*1e3, A_672_ip, A_852_ip, A_1032_ip])\nA_scale_factors=As/1000/RT_calibrated_params[\"hardening\"]\n\nbs = np.array([RT_calibrated_params[\"b\"], b_672_ip, b_852_ip, b_1032_ip])\nb_scale_factors=bs/RT_calibrated_params[\"b\"]"
      ]
    },
    {
      "cell_type": "markdown",
      "metadata": {},
      "source": [
        "We now plot the scaling functions to verify \nthey meet our expectations. \n\n"
      ]
    },
    {
      "cell_type": "code",
      "execution_count": null,
      "metadata": {
        "collapsed": false
      },
      "outputs": [],
      "source": [
        "plt.figure()\nplt.plot([533, 672, 852, 1032], yield_scale_factors, label='yield stress')\nplt.plot([533, 672, 852, 1032], A_scale_factors, label='Voce hardening modulus')\nplt.plot([533, 672, 852, 1032], b_scale_factors, label='Voce exponential coefficient')\nplt.ylabel(\"temperature scaling function (.)\")\nplt.xlabel(\"temperature (R)\")\nplt.legend()\nplt.show()"
      ]
    },
    {
      "cell_type": "markdown",
      "metadata": {},
      "source": [
        "In the plot, we can see that the yield and Voce saturation stress \n(referred to as hardening modulus in LAME and MatFit)\ngenerally decrease wth increasing temperature as expected. \nThe Voce exponential coefficient generally increases as the temperature \nincreases. At 852 R, the exponential coefficient function increases significantly \nbefore reducing again at 1032 R. Ideally, this function should be \nmonotonically increasing, however, this may not be an issue. \nWe will move forward with this as our initial estimate for the functions \nand verify this does not cause undesirable behavior once the MatCal \ncalibration is complete. We print the scale factors at each function \nbelow and write them to a file\nso that they can be seen and imported into `6061T6 aluminum temperature dependent calibration`\nas the initial point for the calibration.\n\n"
      ]
    },
    {
      "cell_type": "code",
      "execution_count": null,
      "metadata": {
        "collapsed": false
      },
      "outputs": [],
      "source": [
        "print(yield_scale_factors)\nprint(A_scale_factors)\nprint(b_scale_factors)\noutput_params = {\"Y_scale_factor_672\":yield_scale_factors[1] ,\n                 \"Y_scale_factor_852\":yield_scale_factors[2], \n                 \"Y_scale_factor_1032\":yield_scale_factors[3],\n                 \"A_scale_factor_672\":A_scale_factors[1], \n                 \"A_scale_factor_852\":A_scale_factors[2], \n                 \"A_scale_factor_1032\":A_scale_factors[3],\n                 \"b_scale_factor_672\":b_scale_factors[1], \n                 \"b_scale_factor_852\":b_scale_factors[2], \n                 \"b_scale_factor_1032\":b_scale_factors[3]}\nmatcal_save(\"temperature_parameters_initial.serialized\", output_params)"
      ]
    }
  ],
  "metadata": {
    "kernelspec": {
      "display_name": "Python 3",
      "language": "python",
      "name": "python3"
    },
    "language_info": {
      "codemirror_mode": {
        "name": "ipython",
        "version": 3
      },
      "file_extension": ".py",
      "mimetype": "text/x-python",
      "name": "python",
      "nbconvert_exporter": "python",
      "pygments_lexer": "ipython3",
      "version": "3.11.5"
    }
  },
  "nbformat": 4,
  "nbformat_minor": 0
}