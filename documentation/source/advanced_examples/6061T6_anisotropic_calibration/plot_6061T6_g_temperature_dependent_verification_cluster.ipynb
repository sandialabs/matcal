{
  "cells": [
    {
      "cell_type": "markdown",
      "metadata": {},
      "source": [
        "\n# 6061T6 aluminum temperature dependence verification\nIn this example, we verify our calibrated temperature dependence \nfunctions do not produce unwanted behavior between \nthe temperatures at which they were calibrated.\n\n<div class=\"alert alert-info\"><h4>Note</h4><p>Useful Documentation links:\n\n    #. `Uniaxial Tension Models`\n    #. :class:`~matcal.sierra.models.RoundUniaxialTensionModel`\n    #. :class:`~matcal.core.parameter_studies.ParameterStudy`</p></div>\nWe will perform this verification by running the model at \nmany temperatures over our temperature range and inspecting the results. \nTo do this, we will generate fictitious boundary condition data at \nall temperatures of interest with independent states. As with the calibrations\nin this example suite, these data will have state variables of \n``temperature`` and ``direction``. We will then run a \n:class:`~matcal.core.parameter_studies.ParameterStudy` with \nthe appropriate \n:class:`~matcal.sierra.models.RoundUniaxialTensionModel`\nin the evaluation set. The study will run a single evaluation \nwith parameter values from the results of \n`6061T6 aluminum temperature dependent calibration`\nand\n`6061T6 aluminum calibration with anisotropic yield`.\nOnce all states are complete, we will plot the result and \nvisually inspect the curves to verify the behavior is as desired.\n\nOnce again, we begin by importing the tools needed for the calibration and \nsetting our default plotting options.\n"
      ]
    },
    {
      "cell_type": "code",
      "execution_count": null,
      "metadata": {
        "collapsed": false
      },
      "outputs": [],
      "source": [
        "from matcal import *\nfrom site_matcal.sandia.computing_platforms import is_sandia_cluster, get_sandia_computing_platform\nfrom site_matcal.sandia.tests.utilities import MATCAL_WCID\n\nimport numpy as np\nimport matplotlib.pyplot as plt\nfrom matplotlib import cm\n\nplt.rc('text', usetex=True)\nplt.rc('font', family='serif')\nplt.rc('font', size=12)\nfigsize = (4,3)"
      ]
    },
    {
      "cell_type": "markdown",
      "metadata": {},
      "source": [
        "Next, we create our fictitious data using NumPy and \nthe MatCal :func:`~matcal.core.data.convert_dictionary_to_data` function. \nWe want to sample the material model at many \ntemperatures over our temperature range and\nchoose to run the model from 533 to 1033 R in \nintervals of 10 R. We create a data set \nfor each temperature that strains the material \nto an engineering strain of approximately 0.3\nand has zero values for engineering stress.\nThe stress values will not be used but are required\nfor the evaluation set. We only create states for the $R_{11}$\ndirection since the other directions will have similar \nresponses.\n\n"
      ]
    },
    {
      "cell_type": "code",
      "execution_count": null,
      "metadata": {
        "collapsed": false
      },
      "outputs": [],
      "source": [
        "temps = np.linspace(533.0, 1033.0, 51)\nbc_data = DataCollection(\"bc data\")\nfor temp in temps:\n    state = State(f\"temperature_{temp}\", temperature=temp, direction=\"R11\")\n    data =  convert_dictionary_to_data({\"engineering_strain\":[0.0, 0.3], \n                                        \"engineering_stress\":[0.0, 0.0]})\n    data.set_state(state)\n    bc_data.add(data)"
      ]
    },
    {
      "cell_type": "markdown",
      "metadata": {},
      "source": [
        "With the fictitious boundary condition data created, \nwe create the :class:`~matcal.sierra.models.RoundUniaxialTensionModel`\nas we did in `6061T6 aluminum temperature dependent calibration`\nand add the :class:`~matcal.core.data.DataCollection` that we created\nas the model model boundary condition data.   \n\n"
      ]
    },
    {
      "cell_type": "code",
      "execution_count": null,
      "metadata": {
        "collapsed": false
      },
      "outputs": [],
      "source": [
        "material_filename = \"hill_plasticity_temperature_dependent.inc\"\nmaterial_model = \"hill_plasticity\"\nmaterial_name = \"ductile_failure_6061T6\"\nsierra_material = Material(material_name, material_filename, material_model)\n\ngauge_radius = 0.125\nelement_size = gauge_radius/8\ngeo_params = {\"extensometer_length\": 0.5,\n               \"gauge_length\": 0.75, \n               \"gauge_radius\": gauge_radius, \n               \"grip_radius\": 0.25, \n               \"total_length\": 3.2, \n               \"fillet_radius\": 0.25,\n               \"taper\": 0.0015,\n               \"necking_region\":0.375,\n               \"element_size\": element_size,\n               \"mesh_method\":3, \n               \"grip_contact_length\":0.8}\n\nmodel = RoundUniaxialTensionModel(sierra_material, **geo_params)            \nmodel.set_name(\"tension_model\")\nmodel.add_boundary_condition_data(bc_data)\nmodel.set_allowable_load_drop_factor(0.70)\n\nif is_sandia_cluster():       \n    platform = get_sandia_computing_platform()   \n    model.set_number_of_cores(platform.get_processors_per_node())\n    model.run_in_queue(MATCAL_WCID, 0.5)\n    model.continue_when_simulation_fails()\nelse:\n    model.set_number_of_cores(8)"
      ]
    },
    {
      "cell_type": "markdown",
      "metadata": {},
      "source": [
        "We now create our parameters for our parameter \nstudy. The parameters are the parameters \nfrom `6061T6 aluminum temperature dependent calibration`\nand\n`6061T6 aluminum calibration with anisotropic yield` with \ntheir current value set to their calibration values.\n\n"
      ]
    },
    {
      "cell_type": "code",
      "execution_count": null,
      "metadata": {
        "collapsed": false
      },
      "outputs": [],
      "source": [
        "RT_calibrated_params = matcal_load(\"anisotropy_parameters.serialized\")\n\nyield_stress = Parameter(\"yield_stress\", 15, 50, \n                         RT_calibrated_params[\"yield_stress\"])\nhardening = Parameter(\"hardening\", 0, 60, \n        RT_calibrated_params[\"hardening\"])\nb = Parameter(\"b\", 10, 40,\n        RT_calibrated_params[\"b\"])\nR22 = Parameter(\"R22\", 0.8, 1.15,\n        RT_calibrated_params[\"R22\"])\nR33 = Parameter(\"R33\", 0.8, 1.15,\n        RT_calibrated_params[\"R33\"])\nR12 = Parameter(\"R12\", 0.8, 1.15,\n        RT_calibrated_params[\"R12\"])\nR23 = Parameter(\"R23\", 0.8, 1.15,\n        RT_calibrated_params[\"R23\"])\nR31 = Parameter(\"R31\", 0.8, 1.15, \n        RT_calibrated_params[\"R31\"])\n\nhigh_temp_calibrated_params = matcal_load(\"temperature_dependent_parameters.serialized\")\n\ny_scale_factor_672_calibrated = high_temp_calibrated_params[\"Y_scale_factor_672\"]\ny_scale_factor_852_calibrated = high_temp_calibrated_params[\"Y_scale_factor_852\"]\ny_scale_factor_1032_calibrated = high_temp_calibrated_params[\"Y_scale_factor_1032\"]\n\nY_scale_factor_672  = Parameter(\"Y_scale_factor_672\", 0.85, 1, \n                                y_scale_factor_672_calibrated)\nY_scale_factor_852  = Parameter(\"Y_scale_factor_852\", 0.45, 0.85, \n                                y_scale_factor_852_calibrated)\nY_scale_factor_1032 = Parameter(\"Y_scale_factor_1032\", 0.05, 0.45, \n                                y_scale_factor_1032_calibrated)\n\nA_scale_factor_672_calibrated = high_temp_calibrated_params[\"A_scale_factor_672\"]\nA_scale_factor_852_calibrated = high_temp_calibrated_params[\"A_scale_factor_852\"]\nA_scale_factor_1032_calibrated = high_temp_calibrated_params[\"A_scale_factor_1032\"]\n\nA_scale_factor_672  = Parameter(\"A_scale_factor_672\", 0.0, \n                                2*A_scale_factor_672_calibrated)\nA_scale_factor_852  = Parameter(\"A_scale_factor_852\", 0.0, \n                                2*A_scale_factor_852_calibrated)\nA_scale_factor_1032 = Parameter(\"A_scale_factor_1032\", 0.0, \n                                2*A_scale_factor_1032_calibrated)\n\nb_scale_factor_672_calibrated = high_temp_calibrated_params[\"b_scale_factor_672\"]\nb_scale_factor_852_calibrated = high_temp_calibrated_params[\"b_scale_factor_852\"]\nb_scale_factor_1032_calibrated = high_temp_calibrated_params[\"b_scale_factor_1032\"]\n\nb_scale_factor_672  = Parameter(\"b_scale_factor_672\", 0.0, \n                                3*b_scale_factor_672_calibrated, \n                                b_scale_factor_672_calibrated)\nb_scale_factor_852  = Parameter(\"b_scale_factor_852\", 0.0, \n                                3*b_scale_factor_852_calibrated, \n                                b_scale_factor_852_calibrated)\nb_scale_factor_1032 = Parameter(\"b_scale_factor_1032\", 0.0, \n                                3*b_scale_factor_1032_calibrated, \n                                b_scale_factor_1032_calibrated)"
      ]
    },
    {
      "cell_type": "markdown",
      "metadata": {},
      "source": [
        "To simplify setting up the parameter study, \nwe put all the parameters in a :class:`~matcal.core.parameters.ParameterCollection`.\n\n"
      ]
    },
    {
      "cell_type": "code",
      "execution_count": null,
      "metadata": {
        "collapsed": false
      },
      "outputs": [],
      "source": [
        "pc = ParameterCollection(\"all_params\", \n                         yield_stress, \n                         hardening,\n                         b,\n                         R22,\n                         R33,\n                         R12,\n                         R23, \n                         R31,\n                         Y_scale_factor_672, \n                         A_scale_factor_672, \n                         b_scale_factor_672, \n                         Y_scale_factor_852, \n                         A_scale_factor_852, \n                         b_scale_factor_852, \n                         Y_scale_factor_1032, \n                         A_scale_factor_1032, \n                         b_scale_factor_1032)"
      ]
    },
    {
      "cell_type": "markdown",
      "metadata": {},
      "source": [
        "Now we can create our parameter study\nand add an evaluation set. An objective \nis required, but will not be used for this example except \nfor results access by name when the study is complete. \n\n"
      ]
    },
    {
      "cell_type": "code",
      "execution_count": null,
      "metadata": {
        "collapsed": false
      },
      "outputs": [],
      "source": [
        "study = ParameterStudy(pc)\nstudy.set_core_limit(60)\nobj = CurveBasedInterpolatedObjective(\"engineering_strain\", \"engineering_stress\")\nobj.set_name('objective')\nstudy.add_evaluation_set(model, obj, bc_data)"
      ]
    },
    {
      "cell_type": "markdown",
      "metadata": {},
      "source": [
        "Parameter studies require the user to set \nparameter sets to be evaluated and will not \nrun the parameter current values by default. \nAs a result, we pass the current values \nfrom our parameter collection as a parameter set \nto be evaluated and then run the study. \n\n"
      ]
    },
    {
      "cell_type": "code",
      "execution_count": null,
      "metadata": {
        "collapsed": false
      },
      "outputs": [],
      "source": [
        "study.add_parameter_evaluation(**pc.get_current_value_dict())\nresults = study.launch()"
      ]
    },
    {
      "cell_type": "markdown",
      "metadata": {},
      "source": [
        "When the study finishes, \nwe retrieve the simulation \nresults\n\n"
      ]
    },
    {
      "cell_type": "code",
      "execution_count": null,
      "metadata": {
        "collapsed": false
      },
      "outputs": [],
      "source": [
        "sim_dc = results.simulation_history[model.name]"
      ]
    },
    {
      "cell_type": "markdown",
      "metadata": {},
      "source": [
        "We then can plot the results \nusing :meth:`~matcal.core.data.DataCollection.plot` \nand color the results according to temperature \nas was done in `6061T6 aluminum temperature dependent calibration`.\n\n"
      ]
    },
    {
      "cell_type": "code",
      "execution_count": null,
      "metadata": {
        "collapsed": false
      },
      "outputs": [],
      "source": [
        "cmap = cm.get_cmap(\"RdYlBu\")\ndef get_colors(data_dc):\n    colors = {}\n    for state_name in data_dc.state_names:\n        temp = data_dc.states[state_name][\"temperature\"]\n        colors[temp] = cmap(1.0-(temp-533.0)/(1032.0-533.0))\n    return colors \ncolors = get_colors(sim_dc)\n\nfig = plt.figure(constrained_layout=True)\nfor state_name in sim_dc.state_names:\n    state = sim_dc.states[state_name]\n    temperature = state[\"temperature\"]\n    sim_dc.plot(\"engineering_strain\", \"engineering_stress\", labels=\"suppress\",\n                state=state, color=colors[temperature], show=False, figure=fig, \n                linestyle=\"-\")\nplt.xlabel(\"engineering strain (.)\")\nplt.ylabel(\"engineering stress (psi)\")\n  \nplt.show()"
      ]
    },
    {
      "cell_type": "markdown",
      "metadata": {},
      "source": [
        "As can be seen in the plot, the curves at the different\ntemperatures do not cross which would result if  \nthe material was stronger at a higher temperature than \nsome lower temperature. Since the results\ndo not exhibit this crossing behavior, the fit \nis acceptable. Although, this is not a rigorous check to ensure\nthe material is always weaker at lower temperatures, it is \nenough to provide some confidence that the fit is useable \nfor most circumstances.\n\n"
      ]
    }
  ],
  "metadata": {
    "kernelspec": {
      "display_name": "Python 3",
      "language": "python",
      "name": "python3"
    },
    "language_info": {
      "codemirror_mode": {
        "name": "ipython",
        "version": 3
      },
      "file_extension": ".py",
      "mimetype": "text/x-python",
      "name": "python",
      "nbconvert_exporter": "python",
      "pygments_lexer": "ipython3",
      "version": "3.11.5"
    }
  },
  "nbformat": 4,
  "nbformat_minor": 0
}