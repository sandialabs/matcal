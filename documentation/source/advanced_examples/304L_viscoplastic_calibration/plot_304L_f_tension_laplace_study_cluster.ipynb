{
  "cells": [
    {
      "cell_type": "markdown",
      "metadata": {},
      "source": [
        "\n# 304L stainless steel viscoplastic calibration uncertainty quantification\n\n<div class=\"alert alert-info\"><h4>Note</h4><p>Useful Documentation links:\n\n    #. `Uniaxial Tension Models`\n    #. :class:`~matcal.core.models.PythonModel`\n    #. :class:`~matcal.core.parameter_studies.LaplaceStudy`</p></div>\nIn this example, we will use MatCal's :class:`~matcal.core.parameter_studies.LaplaceStudy`\nto estimate the parameter uncertainty for the calibration. \n\n<div class=\"alert alert-danger\"><h4>Warning</h4><p>The LaplaceStudy is still in development and may not accurately attribute uncertainty to \n    to the parameters. Always verify results before use.</p></div>\nTo begin, we once again reuse the data import, model preparation \nand objective specification for the tension model and rate \nmodels from the original calibration.    \n"
      ]
    },
    {
      "cell_type": "code",
      "execution_count": null,
      "metadata": {
        "collapsed": false
      },
      "outputs": [],
      "source": [
        "import numpy as np\nimport matplotlib.pyplot as plt\nfrom matcal import *\n\nplt.rc('text', usetex=True)\nplt.rc('font', family='serif')\nplt.rc('font', size=12)\nfigsize = (4,3)\n\ntension_data = BatchDataImporter(\"ductile_failure_ASTME8_304L_data/*.dat\", \n                                    file_type=\"csv\", \n                                    fixed_states={\"displacement_rate\":2e-4, \n                                                  \"temperature\":530}).batch"
      ]
    },
    {
      "cell_type": "markdown",
      "metadata": {},
      "source": [
        "We then manipulate the data to fit our needs and modeling choices. First, \nwe scale the data from ksi to psi units. Then we remove the time field \nas this has consequences for the finite element model boundary conditions. \nSee `Uniaxial tension solid mechanics boundary conditions`.\n\n"
      ]
    },
    {
      "cell_type": "code",
      "execution_count": null,
      "metadata": {
        "collapsed": false
      },
      "outputs": [],
      "source": [
        "tension_data = scale_data_collection(tension_data, \"engineering_stress\", 1000)\ntension_data.remove_field(\"time\")\n\ndown_selected_data = DataCollection(\"down selected data\")\nfor state in tension_data.keys():\n   for index, data in enumerate(tension_data[state]):\n      down_selected_data.add(data[(data[\"engineering_stress\"] > 36000) &\n                                  (data[\"engineering_strain\"] < 0.75)])"
      ]
    },
    {
      "cell_type": "markdown",
      "metadata": {},
      "source": [
        "Next, we plot the data to verify we imported the data as expected.\n\n"
      ]
    },
    {
      "cell_type": "code",
      "execution_count": null,
      "metadata": {
        "collapsed": false
      },
      "outputs": [],
      "source": [
        "astme8_fig = plt.figure(figsize=(5,5))\ndown_selected_data.plot(\"engineering_strain\", \"engineering_stress\", \n                    figure=astme8_fig)"
      ]
    },
    {
      "cell_type": "markdown",
      "metadata": {},
      "source": [
        "We also import the rate data as we will need to recalibrate \nthe Johnson-Cook parameter $C$ since $Y_0$ will \nlikely be changing. We put it in a :class:`~matcal.core.data.DataCollection`\nto facilitate plotting.\n\n"
      ]
    },
    {
      "cell_type": "code",
      "execution_count": null,
      "metadata": {
        "collapsed": false
      },
      "outputs": [],
      "source": [
        "rate_data_collection = matcal_load(\"rate_data.joblib\")"
      ]
    },
    {
      "cell_type": "markdown",
      "metadata": {},
      "source": [
        "Next, we plot the data on with a ``semilogx`` plot to verify it imported \nas expected.\n\n"
      ]
    },
    {
      "cell_type": "code",
      "execution_count": null,
      "metadata": {
        "collapsed": false
      },
      "outputs": [],
      "source": [
        "plt.figure(figsize=(4,3), constrained_layout=True)\ndef make_single_plot(data_collection, state, cur_idx, label, \n                     color, marker, **kwargs):\n    data = data_collection[state][cur_idx]\n    plt.semilogx(state[\"rate\"], data[\"yield\"][0],\n                marker=marker, label=label, color=color, \n                **kwargs)\n\ndef plot_dc_by_state(data_collection, label=None, color=None,\n                     marker='o', best_index=None, only_label_first=False, **kwargs):\n    for state in data_collection:\n        if best_index is None:\n            for idx, data in enumerate(data_collection[state]):\n                make_single_plot(data_collection, state, idx, label, \n                                 color, marker, **kwargs)\n                if ((color is not None and label is not None) or\n                    only_label_first):\n                    label = None\n        else:\n            make_single_plot(data_collection, state, best_index, label, \n                             color, marker, **kwargs)\n    plt.xlabel(\"engineering strain rate (1/s)\")\n    plt.ylabel(\"yield stress (ksi)\")\nplot_dc_by_state(rate_data_collection)\nplt.show()\n\ncalibrated_params = matcal_load(\"voce_calibration_results.serialized\")\n\nY_0 = Parameter(\"Y_0\", 20, 60, \n                calibrated_params[\"Y_0\"])\nA = Parameter(\"A\", 100, 400, \n              calibrated_params[\"A\"])\nb = Parameter(\"b\", 0, 3, \n              calibrated_params[\"b\"])\nC = Parameter(\"C\", -3, -0.5, calibrated_params[\"C\"])\nX = Parameter(\"X\", 0.50, 1.75, 1.0)\n\ndef JC_rate_dependence_model(Y_0, A, b, C, X, ref_strain_rate, rate, **kwargs):\n    yield_stresses = np.atleast_1d(Y_0*X*(1+10**C*np.log(rate/ref_strain_rate)))\n    yield_stresses[np.atleast_1d(rate) < ref_strain_rate] = Y_0\n    return {\"yield\":yield_stresses}\n\nrate_model = PythonModel(JC_rate_dependence_model)\nrate_model.set_name(\"python_rate_model\")\n\nmaterial_name = \"304L_viscoplastic\"\nmaterial_filename = \"304L_viscoplastic_voce_hardening.inc\"\nsierra_material = Material(material_name, material_filename,\n                            \"j2_plasticity\")\n\ngeo_params = {\"extensometer_length\": 0.75,\n               \"gauge_length\": 1.25, \n               \"gauge_radius\": 0.125, \n               \"grip_radius\": 0.25, \n               \"total_length\": 4, \n               \"fillet_radius\": 0.188,\n               \"taper\": 0.0015,\n               \"necking_region\":0.375,\n               \"element_size\": 0.01,\n               \"mesh_method\":3, \n               \"grip_contact_length\":1}\n\nastme8_model = RoundUniaxialTensionModel(sierra_material, **geo_params)            \nastme8_model.add_boundary_condition_data(tension_data)       \n\nfrom matcal.sandia.computing_platforms import is_sandia_cluster, get_sandia_computing_platform\ncores_per_node = 24\nif is_sandia_cluster():\n    platform = get_sandia_computing_platform()\n    cores_per_node = platform.processors_per_node\n\nastme8_model.set_number_of_cores(cores_per_node)\nif is_sandia_cluster():       \n    astme8_model.run_in_queue(\"fy220213\", 1)\n    astme8_model.continue_when_simulation_fails()\nastme8_model.set_allowable_load_drop_factor(0.45)\nastme8_model.set_name(\"ASTME8_tension_model\")\nastme8_model.add_constants(ref_strain_rate=1e-5)\n\nX_calibrated = calibrated_params.pop(\"X\")\nrate_model.add_constants(ref_strain_rate=1e-5, X=X_calibrated)\nastme8_model.add_constants(ref_strain_rate=1e-5)\n\nrate_objective = Objective(\"yield\")\nastme8_objective = CurveBasedInterpolatedObjective(\"engineering_strain\", \"engineering_stress\")"
      ]
    },
    {
      "cell_type": "markdown",
      "metadata": {},
      "source": [
        "We can now setup a :class:`~matcal.core.parameter_studies.LaplaceStudy` \nand add the evaluation sets of interest. We use the default options for the \nstudy as these are the most robust. \nSee `6061T6 aluminum calibration uncertainty quantification` to \nsee the effect of changing the ``noise_estimate``. \n\n"
      ]
    },
    {
      "cell_type": "code",
      "execution_count": null,
      "metadata": {
        "collapsed": false
      },
      "outputs": [],
      "source": [
        "params = ParameterCollection(\"laplace params\", Y_0, A, b, C)\nlaplace = LaplaceStudy(Y_0, A, b, C)\nlaplace.add_evaluation_set(astme8_model, astme8_objective, down_selected_data)\nlaplace.add_evaluation_set(rate_model, rate_objective, rate_data_collection)\nlaplace.set_core_limit(112)\nlaplace.restart()\ncal_dir = \"laplace_study\"\nlaplace.set_working_directory(cal_dir, remove_existing=True)"
      ]
    },
    {
      "cell_type": "markdown",
      "metadata": {},
      "source": [
        "We set the parameter center to the calibrated parameter values \nand launch the study. \n\n"
      ]
    },
    {
      "cell_type": "code",
      "execution_count": null,
      "metadata": {
        "collapsed": false
      },
      "outputs": [],
      "source": [
        "laplace.set_parameter_center(**calibrated_params)\nlaplace_results = laplace.launch()\nprint(\"Initial covariance estimate:\\n\", laplace_results.estimated_parameter_covariance)\nprint(\"Calibrated covariance estimate:\\n\", laplace_results.fitted_parameter_covariance)\nmatcal_save(\"laplace_study_results.joblib\", laplace_results)"
      ]
    },
    {
      "cell_type": "markdown",
      "metadata": {},
      "source": [
        "We see that the initial and calibrated covariance estimates are nearly equal. \nThis is because the variance in the data is relatively low and the model \nform error for the model when compared to the experiments is low.\n\n"
      ]
    },
    {
      "cell_type": "markdown",
      "metadata": {},
      "source": [
        "Next, we sample the multivariate normal provided by the study covariance \nand previous result mean and visualize the results using seaborn's\nKDE pair plot\n\n"
      ]
    },
    {
      "cell_type": "code",
      "execution_count": null,
      "metadata": {
        "collapsed": false
      },
      "outputs": [],
      "source": [
        "num_samples=5000\nuncertain_param_sets = sample_multivariate_normal(num_samples, \n                                                  laplace_results.mean.to_list(),\n                                                  laplace_results.estimated_parameter_covariance, \n                                                  12345, \n                                                  params.get_item_names())\nimport seaborn as sns\nimport pandas as pd\nsns.pairplot(data=pd.DataFrame(uncertain_param_sets), kind=\"kde\" )\nplt.show()\n\n# sphinx_gallery_thumbnail_number = 3"
      ]
    }
  ],
  "metadata": {
    "kernelspec": {
      "display_name": "Python 3",
      "language": "python",
      "name": "python3"
    },
    "language_info": {
      "codemirror_mode": {
        "name": "ipython",
        "version": 3
      },
      "file_extension": ".py",
      "mimetype": "text/x-python",
      "name": "python",
      "nbconvert_exporter": "python",
      "pygments_lexer": "ipython3",
      "version": "3.11.5"
    }
  },
  "nbformat": 4,
  "nbformat_minor": 0
}