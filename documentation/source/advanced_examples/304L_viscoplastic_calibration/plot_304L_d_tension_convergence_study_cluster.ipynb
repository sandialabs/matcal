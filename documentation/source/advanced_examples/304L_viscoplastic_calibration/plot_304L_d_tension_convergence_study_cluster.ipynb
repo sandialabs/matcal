{
  "cells": [
    {
      "cell_type": "markdown",
      "metadata": {},
      "source": [
        "\n# 304L stainless steel mesh and time step convergence\n\n<div class=\"alert alert-info\"><h4>Note</h4><p>Useful Documentation links:\n\n    #. `Uniaxial Tension Models`\n    #. :class:`~matcal.sierra.models.RoundUniaxialTensionModel`\n    #. :class:`~matcal.core.objective_results.ObjectiveResults`\n    #. :class:`~matcal.core.parameter_studies.ParameterStudy`</p></div>\n"
      ]
    },
    {
      "cell_type": "markdown",
      "metadata": {},
      "source": [
        "Mesh and time step convergence studies are an important part of the calibration process. \nPreliminary calibrations can usually be performed\nwith a computationally inexpensive form of the model even if some error is introduced. \nHowever, at some point, the calibration\nshould be finished with a model that is known to have a low discretization error. \nMatCal has tools \nto help perform these mesh and time step discretization studies. \n\nThis example is a continuation of the \n`304L stainless steel viscoplastic calibration` example. \nHere we perform mesh and time step convergence on the tension model used for that study, \nand decide if a recalibration is necessary based on \nthe discretization error present in the tension model used for the calibration. \nSince the discretization convergence studies only apply to the tension\nmodel, we leave out the yield versus rate python model and its associated data and objective. \n\nTo begin, the data import, model preparation \nand objective specification for the tension model from the original calibration\nare repeated.\n\n\n"
      ]
    },
    {
      "cell_type": "code",
      "execution_count": null,
      "metadata": {
        "collapsed": false
      },
      "outputs": [],
      "source": [
        "import matplotlib.pyplot as plt\nimport numpy as np\nfrom matcal import *\n\nplt.rc('text', usetex=True)\nplt.rc('font', family='serif')\nplt.rc('font', size=12)\nfigsize = (5,4)\n\ntension_data = BatchDataImporter(\"ductile_failure_ASTME8_304L_data/*.dat\", file_type=\"csv\", \n                                    fixed_states={\"temperature\":530, \n                                                  \"displacement_rate\":2e-4}).batch\ntension_data = scale_data_collection(tension_data, \"engineering_stress\", 1000)\ntension_data.remove_field(\"time\")\n\nmaterial_name = \"304L_viscoplastic\"\nmaterial_filename = \"304L_viscoplastic_voce_hardening.inc\"\nsierra_material = Material(material_name, material_filename,\n                            \"j2_plasticity\")\n\ngeo_params = {\"extensometer_length\": 0.75,\n               \"gauge_length\": 1.25, \n               \"gauge_radius\": 0.125, \n               \"grip_radius\": 0.25, \n               \"total_length\": 4, \n               \"fillet_radius\": 0.188,\n               \"taper\": 0.0015,\n               \"necking_region\":0.375,\n               \"element_size\": 0.02,\n               \"mesh_method\":3, \n               \"grip_contact_length\":1}\n\nastme8_model = RoundUniaxialTensionModel(sierra_material, **geo_params)            \nastme8_model.add_boundary_condition_data(tension_data) \nastme8_model.set_allowable_load_drop_factor(0.25)\nastme8_model.set_name(\"ASTME8_tension_model\")\nastme8_model.add_constants(ref_strain_rate=1e-5)\nastme8_model.add_constants(element_size=0.01, mesh_method=4)\n\nfrom site_matcal.sandia.computing_platforms import is_sandia_cluster, get_sandia_computing_platform\nfrom site_matcal.sandia.tests.utilities import MATCAL_WCID\n\ncores_per_node = 24\nif is_sandia_cluster():\n    platform = get_sandia_computing_platform()\n    cores_per_node = platform.processors_per_node\n    astme8_model.run_in_queue(MATCAL_WCID, 2)\n    astme8_model.continue_when_simulation_fails()\nastme8_model.set_number_of_cores(cores_per_node)\n\nobjective = CurveBasedInterpolatedObjective(\"engineering_strain\", \"engineering_stress\")\nobjective.set_name(\"stress_objective\")\n\ndef remove_uncalibrated_data_from_residual(engineering_strains, engineering_stresses, \n                                           residuals):\n    import numpy as np\n    weights = np.ones(len(residuals))\n    weights[engineering_stresses < 38e3] = 0\n    weights[engineering_strains > 0.75] = 0\n    return weights*residuals\n\nresidual_weights = UserFunctionWeighting(\"engineering_strain\", \"engineering_stress\", \n                                         remove_uncalibrated_data_from_residual)\nobjective.set_field_weights(residual_weights)"
      ]
    },
    {
      "cell_type": "markdown",
      "metadata": {},
      "source": [
        "Now to setup the mesh convergence study, we will use Python's copy\nmodule to copy the astme8_model and modify the element sizes \nfor the new models. If needed, we can also change the \nnumber of cores to be used for each model.\n\n"
      ]
    },
    {
      "cell_type": "code",
      "execution_count": null,
      "metadata": {
        "collapsed": false
      },
      "outputs": [],
      "source": [
        "from copy import deepcopy\n\nastme8_model_coarse = deepcopy(astme8_model)\nastme8_model_coarse.add_constants(element_size=0.02, mesh_method=3)\nif is_sandia_cluster():\n    astme8_model_coarse.run_in_queue(MATCAL_WCID, 0.5)\nastme8_model_coarse.set_name(\"ASTME8_tension_model_coarse\")\n\n\n\nastme8_model_fine = deepcopy(astme8_model)\nastme8_model_fine.add_constants(element_size=0.005, mesh_method=4)\nif is_sandia_cluster():\n    astme8_model_fine.run_in_queue(MATCAL_WCID, 4)\n    astme8_model_fine.set_number_of_cores(cores_per_node*2)\nastme8_model_fine.set_name(\"ASTME8_tension_model_fine\")\n\nastme8_model_finest = deepcopy(astme8_model)\nastme8_model_finest.add_constants(element_size=0.0025, mesh_method=4)\nif is_sandia_cluster():\n    astme8_model_finest.run_in_queue(MATCAL_WCID, 4)\n    astme8_model_finest.set_number_of_cores(cores_per_node*4)\nastme8_model_finest.set_name(\"ASTME8_tension_model_finest\")"
      ]
    },
    {
      "cell_type": "markdown",
      "metadata": {},
      "source": [
        "We will then perform a :class:`~matcal.core.parameter_studies.ParameterStudy` \nwhere the only parameters\nto be evaluated are the calibrated parameters from the initial study.\n\n"
      ]
    },
    {
      "cell_type": "code",
      "execution_count": null,
      "metadata": {
        "collapsed": false
      },
      "outputs": [],
      "source": [
        "calibrated_params = matcal_load(\"voce_calibration_results.serialized\")\nY_0_val = calibrated_params[\"Y_0\"]\nY_0 = Parameter(\"Y_0\", Y_0_val*0.9, Y_0_val*1.1, Y_0_val)\n\nA_val = calibrated_params[\"A\"]\nA = Parameter(\"A\", A_val*0.9, A_val*1.1, A_val)\n\nb_val = calibrated_params[\"b\"]\nb = Parameter(\"b\", 1.5, 2.5, b_val)\n\nC_val = calibrated_params[\"C\"]\nC = Parameter(\"C\", C_val*1.1, C_val*0.9, C_val)"
      ]
    },
    {
      "cell_type": "markdown",
      "metadata": {},
      "source": [
        "The X parameter is not needed, so it is removed from the \ncalibration parameter dictionary.\n\n"
      ]
    },
    {
      "cell_type": "code",
      "execution_count": null,
      "metadata": {
        "collapsed": false
      },
      "outputs": [],
      "source": [
        "calibrated_params.pop(\"X\")\n\nparam_study = ParameterStudy(Y_0, A, b, C)\nparam_study.set_results_storage_options(weighted_conditioned=True)\nparam_study.add_parameter_evaluation(**calibrated_params)"
      ]
    },
    {
      "cell_type": "markdown",
      "metadata": {},
      "source": [
        "This mesh discretization study will need to evaluate all models we created,\nso each is added to the study\nas their own evaluation set.  \n\n"
      ]
    },
    {
      "cell_type": "code",
      "execution_count": null,
      "metadata": {
        "collapsed": false
      },
      "outputs": [],
      "source": [
        "param_study.add_evaluation_set(astme8_model_coarse, objective, \n                               tension_data)\nparam_study.add_evaluation_set(astme8_model, objective,\n                               tension_data)\nparam_study.add_evaluation_set(astme8_model_fine, objective,\n                               tension_data)\nparam_study.add_evaluation_set(astme8_model_finest, objective, \n                               tension_data)"
      ]
    },
    {
      "cell_type": "markdown",
      "metadata": {},
      "source": [
        "Lastly, the study core limit is set appropriately. \nThe core limit is set to 112 cores which is what our hardware can support.\n\n"
      ]
    },
    {
      "cell_type": "code",
      "execution_count": null,
      "metadata": {
        "collapsed": false
      },
      "outputs": [],
      "source": [
        "param_study.set_core_limit(112)\nparam_study.set_working_directory(\"mesh_study\", remove_existing=True)"
      ]
    },
    {
      "cell_type": "markdown",
      "metadata": {},
      "source": [
        "We can now run the study. After it finishes, we can make our \nconvergence plot. \n\n"
      ]
    },
    {
      "cell_type": "code",
      "execution_count": null,
      "metadata": {
        "collapsed": false
      },
      "outputs": [],
      "source": [
        "mesh_results = param_study.launch()"
      ]
    },
    {
      "cell_type": "markdown",
      "metadata": {},
      "source": [
        "For our purposes, we want to ensure that \nthe objective value is converged or has an acceptable error. As \na result, we manipulate the results output from this study \nto access the objective values for each mesh size, \nthe engineering stress-strain curves from the data \nand the residuals from the evaluations. \nWe want to plot the residuals for each model as a function of the \nengineering strain for two of the samples, R2S1 and R4S2. Since \nthe residuals for each model are calculated at the experimental data \nindependent variables, their engineering strain values will be the same \nfor all data sets.\n\n"
      ]
    },
    {
      "cell_type": "code",
      "execution_count": null,
      "metadata": {
        "collapsed": false
      },
      "outputs": [],
      "source": [
        "state = tension_data.state_names[0]\nresid_exp_qois = mesh_results.get_experiment_qois(astme8_model, objective, state)\nresid_strain_R2S1 = resid_exp_qois[2][\"engineering_strain\"]\nresid_strain_R4S2 = resid_exp_qois[7][\"engineering_strain\"]"
      ]
    },
    {
      "cell_type": "markdown",
      "metadata": {},
      "source": [
        "For the residual values and simulation data we will have to extract the \ndata from the results object for each model. We write a function\nto perform this data extraction on a provided model and \nretrun the results.\n\n"
      ]
    },
    {
      "cell_type": "code",
      "execution_count": null,
      "metadata": {
        "collapsed": false
      },
      "outputs": [],
      "source": [
        "def get_data_and_residuals_results_by_model(model, results):\n    obj = results.best_evaluation_set_objective(model, objective)\n    curves = results.best_simulation_data(model, state)\n    \n    resids_R2S1 = results.best_residuals(model, objective, state, 2)\n    resids_R4S2 = results.best_residuals(model, objective, state, 7)\n    weight_cond_resids_R2S1 = results.best_weighted_conditioned_residuals(model, objective, \n                                                                          state, 2)\n\n    weight_cond_resids_R4S2 = results.best_weighted_conditioned_residuals(model, objective, \n                                                                          state, 7)\n\n    return (obj, curves, resids_R2S1, resids_R4S2, \n            weight_cond_resids_R2S1, weight_cond_resids_R4S2)"
      ]
    },
    {
      "cell_type": "markdown",
      "metadata": {},
      "source": [
        "Next, we apply the function to each model and organize the data for plotting.\n\n"
      ]
    },
    {
      "cell_type": "code",
      "execution_count": null,
      "metadata": {
        "collapsed": false
      },
      "outputs": [],
      "source": [
        "coarse_results = get_data_and_residuals_results_by_model(astme8_model_coarse, \n                                                         mesh_results)\ncoarse_objective_results = coarse_results[0]\ncoarse_curves = coarse_results[1]\ncoarse_resids_R2S1 = coarse_results[2]\ncoarse_resids_R4S2 = coarse_results[3]\ncoarse_weight_cond_resids_R2S1 = coarse_results[4]\ncoarse_weight_cond_resids_R4S2 = coarse_results[5]\n\norig_results = get_data_and_residuals_results_by_model(astme8_model, \n                                                         mesh_results)\norig_objective_results = orig_results[0]\norig_curves = orig_results[1]\norig_resids_R2S1 = orig_results[2]\norig_resids_R4S2 = orig_results[3]\norig_weight_cond_resids_R2S1 = orig_results[4]\norig_weight_cond_resids_R4S2 = orig_results[5]\n\nfine_results = get_data_and_residuals_results_by_model(astme8_model_fine, \n                                                         mesh_results)\nfine_objective_results = fine_results[0]\nfine_curves = fine_results[1]\nfine_resids_R2S1 = fine_results[2]\nfine_resids_R4S2 = fine_results[3]\nfine_weight_cond_resids_R2S1 = fine_results[4]\nfine_weight_cond_resids_R4S2 = fine_results[5]\n\nfinest_results = get_data_and_residuals_results_by_model(astme8_model_finest, \n                                                         mesh_results)\nfinest_objective_results = finest_results[0]\nfinest_curves = finest_results[1]\nfinest_resids_R2S1 = finest_results[2]\nfinest_resids_R4S2 = finest_results[3]\nfinest_weight_cond_resids_R2S1 = finest_results[4]\nfinest_weight_cond_resids_R4S2 = finest_results[5]"
      ]
    },
    {
      "cell_type": "markdown",
      "metadata": {},
      "source": [
        "We then \nuse Matplotlib :cite:p:`matplotlib` to plot the objective values versus the element size.\n\n\n"
      ]
    },
    {
      "cell_type": "code",
      "execution_count": null,
      "metadata": {
        "collapsed": false
      },
      "outputs": [],
      "source": [
        "time_steps = np.array([0.02, 0.01, 0.005, 0.0025])\nobjectives = np.array([coarse_objective_results, orig_objective_results, \n                       fine_objective_results, finest_objective_results])\nplt.figure(figsize=figsize,constrained_layout=True)\nplt.semilogx(time_steps, objectives/finest_objective_results, 'o-')\nplt.xlabel(\"element edge length (in)\")\nplt.ylabel(\"normalized objective value\")"
      ]
    },
    {
      "cell_type": "markdown",
      "metadata": {},
      "source": [
        "We also plot the raw simulation stress/strain curves. Note that this is different\nthan the simulation QoIs used for the objective \nsince the QoIs are the simulation curves interpolated \nto the experiment strain points. \n\n\n"
      ]
    },
    {
      "cell_type": "code",
      "execution_count": null,
      "metadata": {
        "collapsed": false
      },
      "outputs": [],
      "source": [
        "plt.figure(figsize=figsize,constrained_layout=True)\nplt.plot(coarse_curves[\"engineering_strain\"], \n         coarse_curves[\"engineering_stress\"], label=\"0.02\\\" edge length\")\nplt.plot(orig_curves[\"engineering_strain\"], \n         orig_curves[\"engineering_stress\"], label=\"0.01\\\" edge length\")\nplt.plot(fine_curves[\"engineering_strain\"], \n         fine_curves[\"engineering_stress\"], label=\"0.005\\\" edge length\")\nplt.plot(finest_curves[\"engineering_strain\"], \n         finest_curves[\"engineering_stress\"], label=\"0.0025\\\" edge length\")\nplt.xlabel(\"engineering strain\")\nplt.ylabel(\"engineering stress (psi)\")\nplt.legend()"
      ]
    },
    {
      "cell_type": "markdown",
      "metadata": {},
      "source": [
        "These plots show the objective is converging with reduced element \nsize and the objective values change ~1\\% or less with element \nsize less than or equal to 0.005\". As a result, we will consider\nthe model with the 0.005\" elements to be accurate enough for \nour calibration purposes.\n\nFinally, we plot the residuals \nfor two of the experimental data sets, R2S1 and R4S2, by mesh size. \nto see if any portion of the stress-strain curve is more mesh sensitive.\nWe also plot the weighted and conditioned residuals\nto observe the effect of the weighting applied.\n\n\n"
      ]
    },
    {
      "cell_type": "code",
      "execution_count": null,
      "metadata": {
        "collapsed": false
      },
      "outputs": [],
      "source": [
        "plt.figure(figsize=figsize,constrained_layout=True)\nplt.plot(resid_strain_R2S1, coarse_resids_R2S1[\"engineering_stress\"],\n          label=\"0.02\\\" edge length, R2S1\")\nplt.plot(resid_strain_R2S1, orig_resids_R2S1[\"engineering_stress\"], \n         label=\"0.01\\\" edge length, R2S1\")\nplt.plot(resid_strain_R2S1, fine_resids_R2S1[\"engineering_stress\"], \n         label=\"0.005\\\" edge length, R2S1\")\nplt.plot(resid_strain_R2S1, finest_resids_R2S1[\"engineering_stress\"], \n         label=\"0.0025\\\" edge length, R2S1\")\nplt.plot(resid_strain_R4S2, coarse_resids_R4S2[\"engineering_stress\"], \n         label=\"0.02\\\" edge length, R4S2\")\nplt.plot(resid_strain_R4S2, orig_resids_R4S2[\"engineering_stress\"], \n         label=\"0.01\\\" edge length, R4S2\")\nplt.plot(resid_strain_R4S2, fine_resids_R4S2[\"engineering_stress\"], \n         label=\"0.005\\\" edge length, R4S2\")\nplt.plot(resid_strain_R4S2, finest_resids_R4S2[\"engineering_stress\"], \n         label=\"0.0025\\\" edge length, R4S2\")\nplt.xlabel(\"engineering strain\")\nplt.ylabel(\"residual (psi)\")\nplt.legend()"
      ]
    },
    {
      "cell_type": "markdown",
      "metadata": {},
      "source": [
        "In this first plot, it is clear that the residuals \nare highest near the regions that were removed \nusing the :class:`~matcal.core.residuals.UserFunctionWeighting`\nobject. However, the residual behavior in the two regions differ\nbecause little variability is displayed in the elastic region for the two observed \ndata sets and different mesh sizes \nwhile at the unloading portion of the curve the residuals \nare much more sensitive to data set and mesh size. In fact, \nthe raw residuals are clearly not converging in this region.\n\n"
      ]
    },
    {
      "cell_type": "code",
      "execution_count": null,
      "metadata": {
        "collapsed": false
      },
      "outputs": [],
      "source": [
        "plt.figure(figsize=figsize,constrained_layout=True)\nplt.plot(resid_strain_R2S1, coarse_weight_cond_resids_R2S1[\"engineering_stress\"], \n         label=\"0.02\\\" edge length, R2S1\")\nplt.plot(resid_strain_R2S1, orig_weight_cond_resids_R2S1[\"engineering_stress\"], \n         label=\"0.01\\\" edge length, R2S1\")\nplt.plot(resid_strain_R2S1, fine_weight_cond_resids_R2S1[\"engineering_stress\"], \n         label=\"0.005\\\" edge length, R2S1\")\nplt.plot(resid_strain_R2S1, finest_weight_cond_resids_R2S1[\"engineering_stress\"], \n         label=\"0.0025\\\" edge length, R2S1\")\nplt.plot(resid_strain_R4S2, coarse_weight_cond_resids_R4S2[\"engineering_stress\"], \n         label=\"0.02\\\" edge length, R4S2\")\nplt.plot(resid_strain_R4S2, orig_weight_cond_resids_R4S2[\"engineering_stress\"], \n         label=\"0.01\\\" edge length, R4S2\")\nplt.plot(resid_strain_R4S2, fine_weight_cond_resids_R4S2[\"engineering_stress\"], \n         label=\"0.005\\\" edge length, R4S2\")\nplt.plot(resid_strain_R4S2, finest_weight_cond_resids_R4S2[\"engineering_stress\"], \n         label=\"0.0025\\\" edge length, R4S2\")\nplt.xlabel(\"engineering strain\")\nplt.ylabel(\"weighted/conditioned residual ()\")\nplt.legend()"
      ]
    },
    {
      "cell_type": "markdown",
      "metadata": {},
      "source": [
        "In the second plot, the weighting has removed parts of \nthe problematic portions of the stress-strain curve as \ndiscussed in the original calibration example. A significant \nportion of the elastic region and unloading region of the data\nno longer contributes to the residual. Although the elastic \nregion of the curve likely had no effect on this convergence study, \nnot removing the tail end of the unloading region \nlikely would have prevented convergence for\nthis problem and meshes studied. \n\nWith the mesh size selected, \na similar study can also be performed for time step convergence.\nWe start by first updating the model constants from each model \nto the mesh size selected above. We can then change \nthe number of time steps the models will target.\n\n"
      ]
    },
    {
      "cell_type": "code",
      "execution_count": null,
      "metadata": {
        "collapsed": false
      },
      "outputs": [],
      "source": [
        "if is_sandia_cluster():\n    astme8_model_coarse.run_in_queue(MATCAL_WCID, 2)\n    astme8_model_coarse.set_number_of_cores(cores_per_node*2)\nastme8_model_coarse.add_constants(element_size=0.005, mesh_method=4)\nastme8_model_coarse.set_number_of_time_steps(150)\n\nastme8_model.set_number_of_time_steps(300)\nastme8_model.add_constants(element_size=0.005, mesh_method=4)\nif is_sandia_cluster():\n    astme8_model.run_in_queue(MATCAL_WCID, 4)\n    astme8_model.set_number_of_cores(cores_per_node*2)\n\nastme8_model_fine.set_number_of_time_steps(600)\nif is_sandia_cluster():\n    astme8_model_fine.run_in_queue(MATCAL_WCID, 4)\n    astme8_model_fine.set_number_of_cores(cores_per_node*3)\nastme8_model_fine.add_constants(element_size=0.005, mesh_method=4)\n\nastme8_model_finest = deepcopy(astme8_model_fine)\nastme8_model_finest.set_number_of_time_steps(1200)\nif is_sandia_cluster():\n    astme8_model_finest.run_in_queue(MATCAL_WCID, 4)\n    astme8_model_finest.set_number_of_cores(cores_per_node*4)\nastme8_model_finest.add_constants(element_size=0.005, mesh_method=4)\nastme8_model_finest.set_name(\"ASTME8_tension_model_finest\")"
      ]
    },
    {
      "cell_type": "markdown",
      "metadata": {},
      "source": [
        "Next, we re-create a new study to be launched with the updated models.\n\n"
      ]
    },
    {
      "cell_type": "code",
      "execution_count": null,
      "metadata": {
        "collapsed": false
      },
      "outputs": [],
      "source": [
        "param_study = ParameterStudy(Y_0, A, b, C)\nparam_study.set_results_storage_options(weighted_conditioned=True)\nparam_study.add_parameter_evaluation(**calibrated_params)\nparam_study.add_evaluation_set(astme8_model_coarse, \n                               objective, tension_data)\nparam_study.add_evaluation_set(astme8_model, \n                               objective, tension_data)\nparam_study.add_evaluation_set(astme8_model_fine, \n                               objective, tension_data)\nparam_study.add_evaluation_set(astme8_model_finest, \n                               objective, tension_data)\nparam_study.set_core_limit(112)\nparam_study.set_working_directory(\"time_step_study\", remove_existing=True)\n\ntime_step_results = param_study.launch()"
      ]
    },
    {
      "cell_type": "markdown",
      "metadata": {},
      "source": [
        "Once again, we can make our \nconvergence plot using Matplotlib after \nextracting the desired data from the study results.\nThe number of time steps specified using the model method \n:meth:`~matcal.sierra.models.RoundUniaxialTensionModel.set_number_of_time_steps`\nis only a target number of time steps. The model may change this with \nadaptive time stepping which is used to increase model reliability.\nAs a result, we\nobtain two values from each completed model for the convergence plot: the number of actual \ntime steps that the simulation took and the objective for that result. Once again, we \nalso plot the simulation data curves for each case.\n\n"
      ]
    },
    {
      "cell_type": "code",
      "execution_count": null,
      "metadata": {
        "collapsed": false
      },
      "outputs": [],
      "source": [
        "coarse_results = get_data_and_residuals_results_by_model(astme8_model_coarse, \n                                                         time_step_results)\ncoarse_objective_results = coarse_results[0]\ncoarse_curves = coarse_results[1]\ncoarse_num_time_steps = len(coarse_curves)\n\norig_results = get_data_and_residuals_results_by_model(astme8_model, \n                                                       time_step_results)\norig_objective_results = orig_results[0]\norig_curves = orig_results[1]\nmid_num_time_steps = len(orig_curves)\n\nfine_results = get_data_and_residuals_results_by_model(astme8_model_fine, \n                                                       time_step_results)\nfine_objective_results = fine_results[0]\nfine_curves = fine_results[1]\nfine_num_time_steps = len(fine_curves)\n\nfinest_results = get_data_and_residuals_results_by_model(astme8_model_finest, \n                                                         time_step_results)\nfinest_objective_results = finest_results[0]\nfinest_curves = finest_results[1]\nfiner_num_time_steps  = len(finest_curves)\n\nplt.figure(figsize=figsize,constrained_layout=True)\ntime_steps = np.array([coarse_num_time_steps, mid_num_time_steps, \n                       fine_num_time_steps, finer_num_time_steps])\nobjectives = np.array([coarse_objective_results, orig_objective_results, \n                       fine_objective_results, finest_objective_results])\nplt.semilogx(time_steps, objectives/finest_objective_results, 'o-')\nplt.xlabel(\"number of time steps\")\nplt.ylabel(\"normalized objective value\")\n\nplt.figure(figsize=figsize, constrained_layout=True)\nplt.plot(coarse_curves[\"engineering_strain\"], coarse_curves[\"engineering_stress\"], \n         label=f\"{coarse_num_time_steps} time steps\")\nplt.plot(orig_curves[\"engineering_strain\"], orig_curves[\"engineering_stress\"], \n         label=f\"{mid_num_time_steps} time steps\")\nplt.plot(fine_curves[\"engineering_strain\"], fine_curves[\"engineering_stress\"], \n         label=f\"{fine_num_time_steps} time steps\")\nplt.plot(finest_curves[\"engineering_strain\"], finest_curves[\"engineering_stress\"], \n         label=f\"{finer_num_time_steps} time steps\")\nplt.xlabel(\"engineering strain\")\nplt.ylabel(\"engineering stress (psi)\")\nplt.legend()\nplt.show()"
      ]
    },
    {
      "cell_type": "markdown",
      "metadata": {},
      "source": [
        "These plots show the objective is converging with \nincreased time steps and the objective value change becomes ~1\\% or less with 300 \nor more time steps. As a result, we will consider\nthe model with 300 or more time steps to be accurate enough for \nour calibration purposes. This happens to be the default value for the MatCal generated\nmodels' target number of time steps. Note that the converged number of time steps\nwill be boundary value problem dependent and time step convergence \nshould always be performed as part of the calibration process.\nBased on these findings, the calibration can be finalized with \na recalibration using a model with element sizes of 0.005\" and more than 300 time steps.\n\n"
      ]
    }
  ],
  "metadata": {
    "kernelspec": {
      "display_name": "Python 3",
      "language": "python",
      "name": "python3"
    },
    "language_info": {
      "codemirror_mode": {
        "name": "ipython",
        "version": 3
      },
      "file_extension": ".py",
      "mimetype": "text/x-python",
      "name": "python",
      "nbconvert_exporter": "python",
      "pygments_lexer": "ipython3",
      "version": "3.11.5"
    }
  },
  "nbformat": 4,
  "nbformat_minor": 0
}