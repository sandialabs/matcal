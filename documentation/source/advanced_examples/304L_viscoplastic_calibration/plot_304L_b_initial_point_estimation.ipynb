{
  "cells": [
    {
      "cell_type": "markdown",
      "metadata": {},
      "source": [
        "\n# 304L bar calibration initial point estimation\nIn this example, we estimate an initial point for our full finite element\nmodel calibration to data \nfrom :cite:p:`laser_weld_paper`. \nWe will use MatFit on the ASTME8 tension data to provide the initial point for the \nnext example, \n`304L stainless steel viscoplastic calibration`.\n\n<div class=\"alert alert-info\"><h4>Note</h4><p>Useful Documentation links:\n\n    #. `Running MatFit`</p></div>\n\nFirst, import all needed tools. \nWe will be using tools from NumPy, \nMatPlotLib, MatFit and MatCal for this \nexample.\n"
      ]
    },
    {
      "cell_type": "code",
      "execution_count": null,
      "metadata": {
        "collapsed": false
      },
      "outputs": [],
      "source": [
        "import numpy as np\nfrom matcal import *\nfrom matfit.models import Voce\nfrom matfit.fitting import MatFit\nimport matplotlib.pyplot as plt\n\nplt.rc('text', usetex=True)\nplt.rc('font', family='serif')\nplt.rc('font', size=12)\nfigsize = (4,3)"
      ]
    },
    {
      "cell_type": "markdown",
      "metadata": {},
      "source": [
        "We import the data using the \n:class:`~matcal.core.data_importer.BatchDataImporter`\n\n"
      ]
    },
    {
      "cell_type": "code",
      "execution_count": null,
      "metadata": {
        "collapsed": false
      },
      "outputs": [],
      "source": [
        "tension_data = BatchDataImporter(\"ductile_failure_ASTME8_304L_data/*.dat\", \n                                    file_type=\"csv\").batch"
      ]
    },
    {
      "cell_type": "markdown",
      "metadata": {},
      "source": [
        "To use MatFit, we need to extract certain quantities of interest (QoIs)\nfrom each engineering stress strain curve. We need \nthe yield stress, ultimate stress, strain at ultimate stress and \nthe elongation strain for each test. We extract those from the \n:class:`~matcal.core.data.DataCollection` below and store each\nQoI set in a list to be used with MatFit. We use NumPy and\nMatCal's :class:`~matcal.core.data_analysis.determine_pt2_offset_yield`\nto determine these QoIs from the data.\n\n"
      ]
    },
    {
      "cell_type": "code",
      "execution_count": null,
      "metadata": {
        "collapsed": false
      },
      "outputs": [],
      "source": [
        "qoi_sets = []\nsteel_elastic_mod = 29e3\nfor state, data_sets in tension_data.items():\n    for data in data_sets:\n        yield_pt = determine_pt2_offset_yield(data, steel_elastic_mod)\n        yield_stress = yield_pt[1]\n        ultimate_stress = np.max(data[\"engineering_stress\"])\n        argmax = np.argmax(data[\"engineering_stress\"])\n        strain_at_ultimate = data[\"engineering_strain\"][argmax]\n        elongation_strain = np.max(data[\"engineering_strain\"])\n        qoi_sets.append([yield_stress, ultimate_stress, strain_at_ultimate, elongation_strain])"
      ]
    },
    {
      "cell_type": "markdown",
      "metadata": {},
      "source": [
        "Next, we write a function that will take those QoIs and provide\nan estimate for a Voce material model :cite:p:`voce1948relationship` using MatFit.\nThe function returns the Voce material parameters of \nsaturation stress ($A$) and Voce exponent ($b$) in a solution dictionary. \nSince we already have an estimate for the yield, we will only be calibrating \n$A$ and $b$ with MatFit. MatFit requires specific formatting \nof input parameters. See the MatFit documentation for more information\n:cite:p:`matfit`. The bounds for our two calibrated parameters are estimated\nfrom the stress-strain curves and previous experience with the model \nfor austenitic stainless steels.\n\n"
      ]
    },
    {
      "cell_type": "code",
      "execution_count": null,
      "metadata": {
        "collapsed": false
      },
      "outputs": [],
      "source": [
        "def get_voce_params(yield_stress, ultimate_stress, strain_at_ultimate, elongation_strain):\n    material_specification = dict(\n        ultimate_strength = ultimate_stress,\n        strain_at_ultimate = strain_at_ultimate,\n        elongation = elongation_strain,\n        yield_stress = yield_stress,\n        youngs_modulus=steel_elastic_mod,\n        poissons_ratio=0.27,\n        density=7.41e-4)\n\n    voce_parameters = dict(\n        hardening_modulus=dict(value=200, lower=0, upper=1e3, calibrate=True),\n        exponential_coefficient=dict(value=2.0, lower=0.0, upper=5, calibrate=True),\n        )\n    voce_model = Voce(material_specification, voce_parameters, name='Voce')\n    MF = MatFit(voce_model)\n    MF.fit(solver_settings=dict(method='trf'))\n    solution = MF.get_solution()\n    return solution"
      ]
    },
    {
      "cell_type": "markdown",
      "metadata": {},
      "source": [
        "Next, we write another function to take the QoIs and calculate our \nVoce material parameters. We will store those in a dictionary for \nfurther analysis.\n\n"
      ]
    },
    {
      "cell_type": "code",
      "execution_count": null,
      "metadata": {
        "collapsed": false
      },
      "outputs": [],
      "source": [
        "voce_params = {\"Ys\":[], \"As\":[], \"bs\":[]}\nfor qoi_set in qoi_sets:\n    voce_params[\"Ys\"].append(qoi_set[0])\n    solution = get_voce_params(*qoi_set)\n\n    voce_params[\"As\"].append(solution['hardening_modulus'])\n    voce_params[\"bs\"].append(solution['exponential_coefficient'])"
      ]
    },
    {
      "cell_type": "markdown",
      "metadata": {},
      "source": [
        "First, we make histograms of each parameter. \nWe want to ensure the parameters are as expected and \ntry to understand the cause of any multi-modal behavior.\n\n"
      ]
    },
    {
      "cell_type": "code",
      "execution_count": null,
      "metadata": {
        "collapsed": false
      },
      "outputs": [],
      "source": [
        "figsize=[4,3]\nplt.figure(\"Ys\", figsize, constrained_layout=True)\nplt.hist(voce_params[\"Ys\"], density=True, alpha=0.8)\nplt.xlabel(\"Y (ksi)\")\nplt.ylabel(\"PDF\")\n\nplt.figure(\"As\", figsize, constrained_layout=True)\nplt.hist(voce_params[\"As\"], density=True, alpha=0.8)\nplt.xlabel(\"A (Ksi)\")\nplt.ylabel(\"PDF\")\n\nplt.figure(\"bs\", figsize, constrained_layout=True)\nplt.hist(voce_params[\"bs\"], density=True, alpha=0.8)\nplt.xlabel(\"b\")\nplt.ylabel(\"PDF\")"
      ]
    },
    {
      "cell_type": "markdown",
      "metadata": {},
      "source": [
        "From these plots there is some slight grouping. However, \nthe parameter values are not spread out over a large range \nindicating MatFit has provided a good initial guess for the parameters. \nWe can plot the data collection and verify that two groupings of the data are \npresent. We do this with MatCal's :meth:`~matcal.core.data.DataCollection.plot`\nmethod for :class:`~matcal.core.data.DataCollection` objects.\n\n"
      ]
    },
    {
      "cell_type": "code",
      "execution_count": null,
      "metadata": {
        "collapsed": false
      },
      "outputs": [],
      "source": [
        "tension_fig = plt.figure(\"data\", (5,4), constrained_layout=True)\ntension_data.plot(\"engineering_strain\", \"engineering_stress\", \n                  figure=tension_fig, labels='ASTME8 data', \n                  color=\"#bdbdbd\")\nplt.xlabel(\"engineering strain\")\nplt.ylabel(\"engineering stress (ksi)\")"
      ]
    },
    {
      "cell_type": "markdown",
      "metadata": {},
      "source": [
        "In this plot, two groupings of the data can be seen since there are two \ngroups with different elongation strains. This verifies the \nresults seen in the histograms. Since these tension specimens were \nextracted from a large diameter bar, the different groupings likely \ncorrespond to extraction location and the resulting groupings in stress-strain\nbehavior are expected.\n\nSince we are ignoring any material inhomogeneity for this calibration, \nwe will take the average of all calculated values and save that \nas the initial point for our full finite element model calibration.\n\n"
      ]
    },
    {
      "cell_type": "code",
      "execution_count": null,
      "metadata": {
        "collapsed": false
      },
      "outputs": [],
      "source": [
        "voce_initial_point = {}\nvoce_initial_point[\"Y_0\"] = np.average(voce_params[\"Ys\"])\nvoce_initial_point[\"A\"] = np.average(voce_params[\"As\"])\nvoce_initial_point[\"b\"] = np.average(voce_params[\"bs\"])\n\nprint(voce_initial_point)\nmatcal_save(\"voce_initial_point.serialized\", voce_initial_point)"
      ]
    }
  ],
  "metadata": {
    "kernelspec": {
      "display_name": "Python 3",
      "language": "python",
      "name": "python3"
    },
    "language_info": {
      "codemirror_mode": {
        "name": "ipython",
        "version": 3
      },
      "file_extension": ".py",
      "mimetype": "text/x-python",
      "name": "python",
      "nbconvert_exporter": "python",
      "pygments_lexer": "ipython3",
      "version": "3.11.5"
    }
  },
  "nbformat": 4,
  "nbformat_minor": 0
}