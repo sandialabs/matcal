{
  "cells": [
    {
      "cell_type": "markdown",
      "metadata": {},
      "source": [
        "\n# 304L calibrated round tension model - effect of different model options\n\n<div class=\"alert alert-info\"><h4>Note</h4><p>Useful Documentation links:\n\n    #. `Uniaxial Tension Models`\n    #. :class:`~matcal.sierra.models.RoundUniaxialTensionModel`\n    #. :class:`~matcal.core.objective_results.ObjectiveResults`\n    #. :class:`~matcal.core.parameter_studies.ParameterStudy`</p></div>\n"
      ]
    },
    {
      "cell_type": "markdown",
      "metadata": {},
      "source": [
        "In this example, we look at the effect of different model options on the \nobjective of the calibrated model. MatCal generated models have the ability to\nmodel complex loading histories if time history data is provided to the\nmodel for boundary condition data. In the absence of time history data, \nsimple, idealized linear displacement functions are applied as the model\nboundary condition. Also, thermomechanical coupling is \neasily activated for materials and tests where heating due to plastic work \nmay play a role in the structural response of the specimen. Here we assess\nthe change in the objective based on these two features. We run three version of the  \n:class:`~matcal.sierra.models.RoundUniaxialTensionModel` with \nthe calibrated parameters from \n`304L stainless steel viscoplastic calibration` example.\nThe first model is the original model to use as a reference, the second model \nuses idealized boundary conditions and the third model has thermomechanical \ncoupling active to assess whether significant heating was present causing thermal softening. \n\nTo begin, the data import, model preparation \nand objective specification for the tension model from the original calibration\nare repeated.\n\n"
      ]
    },
    {
      "cell_type": "code",
      "execution_count": null,
      "metadata": {
        "collapsed": false
      },
      "outputs": [],
      "source": [
        "from matcal import *\nimport matplotlib.pyplot as plt\n\nplt.rc('text', usetex=True)\nplt.rc('font', family='serif')\nplt.rc('font', size=12)\nfigsize = (4.5,3.5)\n\ntension_data = BatchDataImporter(\"ductile_failure_ASTME8_304L_data/*.dat\", \n                                    file_type=\"csv\", fixed_states={\"temperature\":530, \n                                                                   \"displacement_rate\":2e-4}).batch\ntension_data = scale_data_collection(tension_data, \"engineering_stress\", 1000)\n\nyield_stress = Parameter(\"Y_0\", 30, 40, 35.01)\nA = Parameter(\"A\", 100, 300, 200)\nb = Parameter(\"b\", 0, 3, 2.0)\nC = Parameter(\"C\", -3, -1)\n\nsierra_material = Material(\"304L_viscoplastic\", \"304L_viscoplastic_voce_hardening.inc\", \n                           \"j2_plasticity\")\n\ngeo_params = {\"extensometer_length\": 0.75,\n               \"gauge_length\": 1.25, \n               \"gauge_radius\": 0.125, \n               \"grip_radius\": 0.25, \n               \"total_length\": 4, \n               \"fillet_radius\": 0.188,\n               \"taper\": 0.0015,\n               \"necking_region\":0.375,\n               \"element_size\": 0.005,\n               \"mesh_method\":4, \n               \"grip_contact_length\":1}\n\nfrom matcal.sandia.computing_platforms import is_sandia_cluster, get_sandia_computing_platform\ncores_per_node = 24\nif is_sandia_cluster():\n    platform = get_sandia_computing_platform()\n    cores_per_node = platform.processors_per_node\n\nastme8_model_orig = RoundUniaxialTensionModel(sierra_material, **geo_params)            \nastme8_model_orig.add_boundary_condition_data(tension_data)       \nastme8_model_orig.set_number_of_cores(cores_per_node)\nif is_sandia_cluster():\n    astme8_model_orig.run_in_queue(\"fy220213\", 4)\n    astme8_model_orig.continue_when_simulation_fails()\nastme8_model_orig.set_allowable_load_drop_factor(0.5)\nastme8_model_orig.set_name(\"ASTME8_tension_model_orig\")\nastme8_model_orig.add_constants(ref_strain_rate=1e-5)\n\nobjective = CurveBasedInterpolatedObjective(\"engineering_strain\", \"engineering_stress\")\nobjective.set_name(\"stress_objective\")\n\ndef remove_uncalibrated_data_from_residual(engineering_strains, engineering_stresses, residuals):\n    import numpy as np\n    weights = np.ones(len(residuals))\n    weights[engineering_stresses < 38e3] = 0\n    weights[engineering_strains > 0.75] = 0\n    return weights*residuals\n\nresidual_weights = UserFunctionWeighting(\"engineering_strain\", \"engineering_stress\", \n                                         remove_uncalibrated_data_from_residual)\nobjective.set_field_weights(residual_weights)"
      ]
    },
    {
      "cell_type": "markdown",
      "metadata": {},
      "source": [
        "Now to setup the  simulation option effects study, we will use Python's copy\nmodule to copy the ``astme8_model_orig model`` and modify the \nmodel options\nfor the new models. First, we create a model with thermomechanical \ncoupling where the required material constants are provided by \n:cite:p:`MMPDS10`. \n\n\n"
      ]
    },
    {
      "cell_type": "code",
      "execution_count": null,
      "metadata": {
        "collapsed": false
      },
      "outputs": [],
      "source": [
        "from copy import deepcopy\nastme8_model_coupled = deepcopy(astme8_model_orig)\nastme8_model_coupled.activate_thermal_coupling(thermal_conductivity=1.77,\n                                      density=0.000741, \n                                      specific_heat=4.13e+05, \n                                      plastic_work_variable=\"plastic_work_heat_rate\")\nastme8_model_coupled.set_name(\"ASTME8_tension_model_coupled\")"
      ]
    },
    {
      "cell_type": "markdown",
      "metadata": {},
      "source": [
        "Next, we create a new boundary condition\ndata collection where we remove the \"time\" field from the \ndata. With the \"time\" field removed, the model will \nbe deformed to the maximum displacement in the data\nset over the appropriate strain rate. \n\n\n"
      ]
    },
    {
      "cell_type": "code",
      "execution_count": null,
      "metadata": {
        "collapsed": false
      },
      "outputs": [],
      "source": [
        "modified_bc_data_collection = deepcopy(tension_data)\nmodified_bc_data_collection.remove_field(\"time\")"
      ]
    },
    {
      "cell_type": "markdown",
      "metadata": {},
      "source": [
        "We then create another new model and use the new data collection\nas the data collection for boundary condition \ndetermination.\n\n\n"
      ]
    },
    {
      "cell_type": "code",
      "execution_count": null,
      "metadata": {
        "collapsed": false
      },
      "outputs": [],
      "source": [
        "astme8_model_linear_bc = deepcopy(astme8_model_orig)\nastme8_model_linear_bc.reset_boundary_condition_data()\nastme8_model_linear_bc.add_boundary_condition_data(modified_bc_data_collection)\nastme8_model_linear_bc.set_name(\"ASTME8_tension_model_linear_bc\")"
      ]
    },
    {
      "cell_type": "markdown",
      "metadata": {},
      "source": [
        "We will now create a :class:`~matcal.core.parameter_studies.ParameterStudy` where the only parameters\nto be evaluated are the calibrated parameters from the initial study.\nEach model is added to the study as a new evaluation set so that \nall models are run for the study. Lastly, the study core limit is set appropriately. \nSince our hardware can support running them all concurrently, the core limit is set to \nthe sum of all cores requested for the models above\nallowing all three models to be run simultaneously. \n\n\n"
      ]
    },
    {
      "cell_type": "code",
      "execution_count": null,
      "metadata": {
        "collapsed": false
      },
      "outputs": [],
      "source": [
        "param_study = ParameterStudy(yield_stress, A, b, C)\nparam_study.set_working_directory(\"model_options_study\", remove_existing=True)\nparam_study.add_evaluation_set(astme8_model_orig, objective, tension_data)\nparam_study.add_evaluation_set(astme8_model_coupled, objective, tension_data)\nparam_study.add_evaluation_set(astme8_model_linear_bc, objective, tension_data)\nparam_study.set_core_limit(112)\ncalibrated_params = matcal_load(\"voce_calibration_results.serialized\")\ncalibrated_params.pop(\"X\")\nparam_study.add_parameter_evaluation(**calibrated_params)"
      ]
    },
    {
      "cell_type": "markdown",
      "metadata": {},
      "source": [
        "We launch the study and, after it finishes, we can \ncompare the results. For our purposes, we want to assess \nhow the objective and engineering stress-strain curves are \naffected by the different options. We will also \nplot the temperature histories from the coupled model. As \na result, we manipulate the results output from this study \nto access the objective values and simulation data from the models. We then \nuse Matplotlib :cite:p:`matplotlib` to plot the desired data. \n\n"
      ]
    },
    {
      "cell_type": "code",
      "execution_count": null,
      "metadata": {
        "collapsed": false
      },
      "outputs": [],
      "source": [
        "results = param_study.launch()\nimport matplotlib.pyplot as plt\nstate = tension_data.state_names[0]\norig_objective, idx = results.best_evaluation_set_objective(astme8_model_orig, \n                                                            objective)\norig_curves = results.best_simulation_data(astme8_model_orig, state)\n\ncoupled_objective, idx = results.best_evaluation_set_objective(astme8_model_coupled, \n                                                               objective)\ncoupled_curves =  results.best_simulation_data(astme8_model_coupled, state)\n\n\nlinear_bc_objective, idx = results.best_evaluation_set_objective(astme8_model_linear_bc, \n                                                                 objective)\nlinear_bc_curves = results.best_simulation_data(astme8_model_linear_bc, state)\n\nplt.figure(constrained_layout=True)\nplt.plot(orig_curves[\"engineering_strain\"], orig_curves[\"engineering_stress\"],\n          label=\"original\")\nplt.plot(coupled_curves[\"engineering_strain\"], \n         coupled_curves[\"engineering_stress\"], label=\"staggered coupling\")\nplt.plot(linear_bc_curves[\"engineering_strain\"], \n         linear_bc_curves[\"engineering_stress\"], label=\"linear BC\")\nplt.xlabel(\"engineering strain\")\nplt.ylabel(\"engineering_stress (psi)\")\nplt.legend()"
      ]
    },
    {
      "cell_type": "markdown",
      "metadata": {},
      "source": [
        "The engineering stress-strain curves appear almost identical and indicate \nthe model options have little effect on the results for this problem.\n\n"
      ]
    },
    {
      "cell_type": "code",
      "execution_count": null,
      "metadata": {
        "collapsed": false
      },
      "outputs": [],
      "source": [
        "plt.figure(constrained_layout=True)\nplt.plot(coupled_curves[\"time\"], coupled_curves[\"low_temperature\"],\n          color=\"#4575b4\", label=\"low temperature\")\nplt.plot(coupled_curves[\"time\"], coupled_curves[\"med_temperature\"], \n         '-.', color=\"#fee090\", label=\"average temperature\")\nplt.plot(coupled_curves[\"time\"], coupled_curves[\"high_temperature\"], \n         '-.', color=\"#d73027\", label=\"high temperature\")\nplt.xlabel(\"time (s)\")\nplt.ylabel(\"temperature (R)\")\nplt.legend()"
      ]
    },
    {
      "cell_type": "markdown",
      "metadata": {},
      "source": [
        "Although the engineering stress-strain curves are relatively unaffected, \nthe coupled model is predicting a noticeable temperature increase. \nEven though the specimen is heating, it is not near enough to\nappreciably effect the engineering stress-strain curves. For \nthe slow strain rate of approximately 1e-4, such a result was \nexpected. However, even at strain rate of only 1e-3, \nthe temperature would be even higher than those predicted \nhere and be more detectable in the engineering stress-strain curves.\n\n"
      ]
    },
    {
      "cell_type": "code",
      "execution_count": null,
      "metadata": {
        "collapsed": false
      },
      "outputs": [],
      "source": [
        "plt.figure(constrained_layout=True)\nimport numpy as np\nobjectives = np.array([orig_objective, coupled_objective, linear_bc_objective])\nx_pos = np.arange(len(objectives))\n\nplt.plot(x_pos, \n         objectives/(orig_objective), 'o-')\nxtick_lables = [f\"original model\", \n                f\"coupled model\", \n                f\"model with linear BCs\", \n                ]\n\nplt.xticks(x_pos, xtick_lables,rotation=90 )\nplt.ylabel(\"normalized objective\")"
      ]
    },
    {
      "cell_type": "markdown",
      "metadata": {},
      "source": [
        "From the objective plot it is clear that these model\noptions have a small effect on the overall objective. \nThe new results produce objectives within 1% of the original\nand would result in similarly small changes to the calibration. \nAs a result, further studies should use the least computationally\nexpensive model. For this case, that is the uncoupled \nmodel with idealized boundary conditions at a constant \ndisplacement rate.\n\n"
      ]
    }
  ],
  "metadata": {
    "kernelspec": {
      "display_name": "Python 3",
      "language": "python",
      "name": "python3"
    },
    "language_info": {
      "codemirror_mode": {
        "name": "ipython",
        "version": 3
      },
      "file_extension": ".py",
      "mimetype": "text/x-python",
      "name": "python",
      "nbconvert_exporter": "python",
      "pygments_lexer": "ipython3",
      "version": "3.11.5"
    }
  },
  "nbformat": 4,
  "nbformat_minor": 0
}