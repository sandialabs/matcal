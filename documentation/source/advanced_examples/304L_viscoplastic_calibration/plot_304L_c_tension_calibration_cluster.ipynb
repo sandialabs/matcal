{
  "cells": [
    {
      "cell_type": "markdown",
      "metadata": {},
      "source": [
        "\n# 304L stainless steel viscoplastic calibration\n\nWith our material model chosen and initial points determined, \nwe can setup a final full finite element calibration to \nget a best fit to the available data.\n\n<div class=\"alert alert-info\"><h4>Note</h4><p>Useful Documentation links:\n\n    #. `Uniaxial Tension Models`\n    #. :class:`~matcal.sierra.models.RoundUniaxialTensionModel`\n    #. :class:`~matcal.core.models.PythonModel`\n    #. :class:`~matcal.dakota.local_calibration_studies.GradientCalibrationStudy`\n    #. :class:`~matcal.core.residuals.UserFunctionWeighting`</p></div>\n\nTo begin, we import all the tools we will use.\nWe will be using MatPlotLib, NumPy and MatCal.\n"
      ]
    },
    {
      "cell_type": "code",
      "execution_count": null,
      "metadata": {
        "collapsed": false
      },
      "outputs": [],
      "source": [
        "import numpy as np\nimport matplotlib.pyplot as plt\nfrom matcal import *\nfrom site_matcal.sandia.computing_platforms import is_sandia_cluster, get_sandia_computing_platform\nfrom site_matcal.sandia.tests.utilities import MATCAL_WCID\n\nplt.rc('text', usetex=True)\nplt.rc('font', family='serif')\nplt.rc('font', size=12)\nfigsize = (4,3)"
      ]
    },
    {
      "cell_type": "markdown",
      "metadata": {},
      "source": [
        "Next, we import the data using a :class:`~matcal.core.data_importer.BatchDataImporter`.\nSince we are using a rate dependent material model, we assign a displacement rate \nstate variable to the data using the ``fixed_states`` keyword argument. We also\nassign an initial temperature through ``fixed_states``.\n\n"
      ]
    },
    {
      "cell_type": "code",
      "execution_count": null,
      "metadata": {
        "collapsed": false
      },
      "outputs": [],
      "source": [
        "tension_data = BatchDataImporter(\"ductile_failure_ASTME8_304L_data/*.dat\", \n                                    file_type=\"csv\", \n                                    fixed_states={\"displacement_rate\":2e-4, \n                                                  \"temperature\":530}).batch"
      ]
    },
    {
      "cell_type": "markdown",
      "metadata": {},
      "source": [
        "We then manipulate the data to fit our needs and modeling choices. First, \nwe scale the data from ksi to psi units. Then we remove the time field \nas this has consequences for the finite element model boundary conditions. \nSee `Uniaxial tension solid mechanics boundary conditions`.\n\n"
      ]
    },
    {
      "cell_type": "code",
      "execution_count": null,
      "metadata": {
        "collapsed": false
      },
      "outputs": [],
      "source": [
        "tension_data = scale_data_collection(tension_data, \"engineering_stress\", 1000)\ntension_data.remove_field(\"time\")"
      ]
    },
    {
      "cell_type": "markdown",
      "metadata": {},
      "source": [
        "<div class=\"alert alert-info\"><h4>Note</h4><p>Above we remove the \"time\" field from the data. We do this to avoid any \n    added computational cost \n    incurred by feeding the measured displacement-time curve into the models \n    as the boundary condition. \n    Although this sometimes can result in a better calibration \n    for a rate-dependent material model, it \n    usually results in a more costly model due to additional time steps \n    required to resolve\n    the more complex loading history. \n    This additional cost can be somewhat reduced by smoothing the\n    provided boundary condition data to remove any noise, \n    but not necessary for this mesh convergence study. \n    As shown in `304L calibrated round tension model - effect \n    of different model options`,\n    modeling the as-measured boundary condition has little effect on the \n    calibration objective for this problem, \n    so we will use the ideal boundary condition for all further models.\n    By removing the \"time\" field, the boundary conditions are applied \n    linearly at the correct rate\n    due to our specification of \"displacement_rate\" in the data fixed \n    states when the data is imported.</p></div>\n\n"
      ]
    },
    {
      "cell_type": "markdown",
      "metadata": {},
      "source": [
        "Next, we plot the data to verify we imported the data as expected.\n\n"
      ]
    },
    {
      "cell_type": "code",
      "execution_count": null,
      "metadata": {
        "collapsed": false
      },
      "outputs": [],
      "source": [
        "astme8_fig = plt.figure(figsize=(5,4), constrained_layout=True)\ntension_data.plot(\"engineering_strain\", \"engineering_stress\", \n                    figure=astme8_fig)\nplt.xlabel(\"engineering strain ()\")\nplt.ylabel(\"engineering stress (psi)\")"
      ]
    },
    {
      "cell_type": "markdown",
      "metadata": {},
      "source": [
        "We also import the rate data as we will need to recalibrate \nthe Johnson-Cook parameter $C$ since $Y_0$ will \nlikely be changing. We put it in a :class:`~matcal.core.data.DataCollection`\nto facilitate plotting.\n\n"
      ]
    },
    {
      "cell_type": "code",
      "execution_count": null,
      "metadata": {
        "collapsed": false
      },
      "outputs": [],
      "source": [
        "rate_data_collection = matcal_load(\"rate_data.joblib\")"
      ]
    },
    {
      "cell_type": "markdown",
      "metadata": {},
      "source": [
        "Next, we plot the data on with a ``semilogx`` plot to verify it imported \nas expected.\n\n"
      ]
    },
    {
      "cell_type": "code",
      "execution_count": null,
      "metadata": {
        "collapsed": false
      },
      "outputs": [],
      "source": [
        "plt.figure(figsize=(4,3), constrained_layout=True)\ndef make_single_plot(data_collection, state, cur_idx, label, \n                     color, marker, **kwargs):\n    data = data_collection[state][cur_idx]\n    plt.semilogx(state[\"rate\"], data[\"yield\"][0],\n                marker=marker, label=label, color=color, \n                **kwargs)\n\ndef plot_dc_by_state(data_collection, label=None, color=None,\n                     marker='o', best_index=None, only_label_first=False, **kwargs):\n    for state in data_collection:\n        if best_index is None:\n            for idx, data in enumerate(data_collection[state]):\n                make_single_plot(data_collection, state, idx, label, \n                                 color, marker, **kwargs)\n                if ((color is not None and label is not None) or\n                    only_label_first):\n                    label = None\n        else:\n            make_single_plot(data_collection, state, best_index, label, \n                             color, marker, **kwargs)\n    plt.xlabel(\"engineering strain rate (1/s)\")\n    plt.ylabel(\"yield stress (ksi)\")\nplot_dc_by_state(rate_data_collection)"
      ]
    },
    {
      "cell_type": "markdown",
      "metadata": {},
      "source": [
        "Based on the previous examples, we choose a material model with the\nfollowing flow rule:\n\n\\begin{align}\\sigma_f=Y_0\\left(\\theta\\right)\\left[1+C\\ln\\left(\\frac{\\dot{\\epsilon}^p}\n   {\\dot{\\epsilon}_0}\\right)\\right] \n   + A\\left[1-\\exp\\left(-b\\epsilon_p\\right)\\right]\\end{align}\n\nwhere $Y_0\\left(\\theta\\right)$ is the temperature dependent, rate independent \nyield of the material, $\\epsilon^p$ is the equivalent plastic strain,\n$C$ is a fitting parameter for the Johnson-Cook rate dependence of yield, \nand $A$ and $b$ are Voce hardening\nmodel parameters. For our yield surface, we will use the von Mises yield criterion. \nWe calibrate this model with the following assumptions:\n\n#. The elastic parameters and density can be used from :cite:p:`MMPDS10` and \n   will not be calibrated.\n#. The temperature-dependence of $Y_0$ can be \n   used from :cite:p:`MMPDS10` and will not be calibrated.\n#. The thermal properties (specific heat and thermal conductivity) can be taken from \n   :cite:p:`StenderAM` while the conversion of\n   plastic work to heat (the Taylor-Quinney coefficient) can be assumed to be 0.95.\n#. The rate dependence parameters $Y_0$ and $C$ can be calibrated using \n   a :class:`~matcal.core.models.PythonModel` \n   and the 0.2\\% offset yield stress values\n   extracted from the nonstandard tension data taken at several rates. Note that since the \n   0.2\\% offset yield measured in the experiments does \n   not necessarily correspond to the material model $Y_0$,\n   the python model will have an additional parameter, \n   $X$, to compensate for this difference. \n#. The remaining plasticity parameters $A$ and $b$ \n   along with $Y_0$ can be calibrated \n   using a :class:`~matcal.sierra.models.RoundUniaxialTensionModel`\n   and the provided ASTME8 uniaxial tension data. \n\nWith these assumptions, we will begin by defining the MatCal \n:class:`~matcal.core.parameters.Parameter` objects for the calibration.\nThese require the parameter name \nwhich will be passed into the models, parameter bounds and \nthe parameter current value. \nFor this calibration the parameter bounds were based on previous experience with the model\nand inspection of the data. The initial values come from \n`304L bar data analysis` and `304L bar calibration initial point estimation`.\nFirst, we read in the results from those examples and then \ncreate the parameters with the appropriate initial points.\n\n"
      ]
    },
    {
      "cell_type": "code",
      "execution_count": null,
      "metadata": {
        "collapsed": false
      },
      "outputs": [],
      "source": [
        "voce_params = matcal_load(\"voce_initial_point.serialized\")\njc_params = matcal_load(\"JC_parameters.serialized\")\n\nY_0 = Parameter(\"Y_0\", 20, 60, \n                voce_params[\"Y_0\"])\nA = Parameter(\"A\", 100, 400, \n              voce_params[\"A\"])\nb = Parameter(\"b\", 0, 3, \n              voce_params[\"b\"])\nC = Parameter(\"C\", -3, -1, \n              np.log10(jc_params[\"C\"]))\nX = Parameter(\"X\", 0.50, 1.75, 1.0)"
      ]
    },
    {
      "cell_type": "markdown",
      "metadata": {},
      "source": [
        "Now we can define the models to be calibrated. \nWe will start with the Python function for the \nrate-dependence Python model.\n\n"
      ]
    },
    {
      "cell_type": "code",
      "execution_count": null,
      "metadata": {
        "collapsed": false
      },
      "outputs": [],
      "source": [
        "def JC_rate_dependence_model(Y_0, A, b, C, X, ref_strain_rate, rate,  **kwargs):\n    yield_stresses = np.atleast_1d(Y_0*X*(1+10**C*np.log(rate/ref_strain_rate)))\n    yield_stresses[np.atleast_1d(rate) < ref_strain_rate] = Y_0\n    return {\"yield\":yield_stresses}"
      ]
    },
    {
      "cell_type": "markdown",
      "metadata": {},
      "source": [
        "We then create the model and add the reference\nstrain rate constant to the model.\n\n"
      ]
    },
    {
      "cell_type": "code",
      "execution_count": null,
      "metadata": {
        "collapsed": false
      },
      "outputs": [],
      "source": [
        "rate_model = PythonModel(JC_rate_dependence_model)\nrate_model.set_name(\"python_rate_model\")\nrate_model.add_constants(ref_strain_rate=1e-5)"
      ]
    },
    {
      "cell_type": "markdown",
      "metadata": {},
      "source": [
        "In the ``JC_rate_dependence_model`` function, you can see that the correction factor $X$\nis a simple multiplier on $Y_0$. This allows the calibration algorithm to compensate\nfor any discrepancy between the 0.2\\% offset yield in the\nexperimental measurements and the material\nmodel yield. The correction factor is not actually used in the SIERRA/SM material model.\n\nWith the rate model defined, we can now build the MatCal standard model for the \nASTME8 tension specimen. MatCal's :class:`~matcal.sierra.models.RoundUniaxialTensionModel` \ndoes not enforce the requirements of the ASTME8 test specification, \nand will build the model according \nto the geometry and input provided. It significantly simplifies\ngenerating a model of the test for calibration. \nThe primary inputs to create the model are:\nthe geometry for the specimen, a material model input file, \nand data for boundary condition generation. \nFor more details on the model and its features see \n`MatCal Generated SIERRA Standard Models`\nand `Uniaxial Tension Models`. \n\nFirst, we create the :class:`~matcal.sierra.material.Material` object. \nWe write the material file that will be used to create the \nMatCal :class:`~matcal.sierra.material.Material`.\n\n"
      ]
    },
    {
      "cell_type": "code",
      "execution_count": null,
      "metadata": {
        "collapsed": false
      },
      "outputs": [],
      "source": [
        "material_name = \"304L_viscoplastic\"\nwith open(\"yield_temp_dependence.inc\", 'r') as f:\n    temp_dependence_func = f.read()\n\nmaterial_string = f\"\"\" \n    begin definition for function 304L_yield_temp_dependence\n        #loose linear estimate of data from MMPDS10 Figure 6.2.1.1.4a\n        type is piecewise linear\n        begin values\n        {temp_dependence_func}\n        end\n    end\n\n    begin definition for function 304_elastic_mod_temp_dependence\n        #Stender et. al.\n        type is piecewise linear\n        begin values\n            294.11,     1\n            1673,      0.4\n        end\n    end \n\n    begin definition for function 304L_thermal_strain_temp_dependence\n        #Stender et. al.\n        type is piecewise linear\n        begin values\n            294.11, 0.0\n            1725.0, 0.02\n        end\n    end\n\n    begin material {material_name}\n        #density and elastic parameters from Granta's MMPDS10 304L database Table 2.7.1.0(b3). \n        #Design Mechanical and Physical Properties of AISI 304 Stainless Steels\n\n        density = {{density}}\n        thermal engineering strain function = 304L_thermal_strain_temp_dependence\n    \n        begin parameters for model j2_plasticity\n            youngs modulus                = 29e6\n            poissons ratio                =   0.27\n            yield stress                  = {{Y_0*1e3}}\n\n            youngs modulus function = 304_elastic_mod_temp_dependence\n\n            hardening model = decoupled_flow_stress\n\n            isotropic hardening model = voce\n            hardening modulus = {{A*1e3}}\n             exponential coefficient = {{b}}\n\n            yield rate multiplier = johnson_cook\n            yield rate constant = {{10^C}}\n            yield reference rate = {{ref_strain_rate}}\n\n\n            yield temperature multiplier = user_defined\n            yield temperature multiplier function = 304L_yield_temp_dependence \n\n            hardening rate multiplier = rate_independent\n            hardening temperature multiplier = temperature_independent\n\n            thermal softening model      = coupled\n            beta_tq                      = 0.95\n            specific heat = {{specific_heat}}\n        end\n    end\n\"\"\""
      ]
    },
    {
      "cell_type": "markdown",
      "metadata": {},
      "source": [
        "The study parameters and other parameters can be seen in the file \nand are identified with the curly bracket identifiers for Aprepro :cite:p:`aprepro`\nsubstitution\nwhen the study is running. Also, the functions needed in the model for\ntemperature dependence are included.\n\n<div class=\"alert alert-info\"><h4>Note</h4><p>For this material model, the material file for SIERRA/SM also \n   contains the density and specific heat variables that \n   are needed for coupled simulations. We have included them here so\n   that we can investigate coupling in a follow-on \n   study. If you want these to be added by MatCal, \n   they can be added to the material model \n   input using curly bracket identifiers as shown above. \n   MatCal will substitute the appropriate values into the file\n   if they are to the model as MatCal SIERRA model constants,\n   MatCal state parameters, MatCal study \n   parameters or if they are added using the \n   :meth:`~matcal.sierra.models.RoundUniaxialTensionModel.activate_thermal_coupling` \n   method. Alternatively, they can be\n   entered manually as fixed values. If they are entered as shown \n   above and MatCal does not substitute values for their identifiers,\n   they will default to zero which could cause errors \n   depending on the model options chosen.</p></div>\n\n\nNext, we save the material string to a file, so \nMatCal can add it to the model files \nthat we generate for the tension model. We then\ncreate the MatCal :class:`~matcal.sierra.material.Material`\nobject.\n\n"
      ]
    },
    {
      "cell_type": "code",
      "execution_count": null,
      "metadata": {
        "collapsed": false
      },
      "outputs": [],
      "source": [
        "material_filename = \"304L_viscoplastic_voce_hardening.inc\"\nwith open(material_filename, 'w') as fn:\n    fn.write(material_string)\n\nsierra_material = Material(material_name, material_filename,\n                            \"j2_plasticity\")"
      ]
    },
    {
      "cell_type": "markdown",
      "metadata": {},
      "source": [
        "Next, we create the tension model using the\n:class:`~matcal.sierra.models.RoundUniaxialTensionModel`\nwhich takes the material object we created and geometry parameters as input.\nIt is convenient to put the geometry parameters in a dictionary and then unpack that\ndictionary when initializing the model as shown below. After the model is initialized,\nthe model's options can be set and modified as desired. Here we pass the entire \ndata collection into the model for boundary condition generation. Since our \ndata collection no longer has the test displacement-time history, the model will \ndeform the specimen to the maximum displacement in the data over \nthe correct time to achieve the desired engineering strain rate. \nWe study the effects of boundary condition choice in more detail in \n`304L calibrated round tension model - effect of different model options`.\n\n"
      ]
    },
    {
      "cell_type": "code",
      "execution_count": null,
      "metadata": {
        "collapsed": false
      },
      "outputs": [],
      "source": [
        "geo_params = {\"extensometer_length\": 0.75,\n               \"gauge_length\": 1.25, \n               \"gauge_radius\": 0.125, \n               \"grip_radius\": 0.25, \n               \"total_length\": 4, \n               \"fillet_radius\": 0.188,\n               \"taper\": 0.0015,\n               \"necking_region\":0.375,\n               \"element_size\": 0.01,\n               \"mesh_method\":3, \n               \"grip_contact_length\":1}\n\nastme8_model = RoundUniaxialTensionModel(sierra_material, **geo_params)            \nastme8_model.add_boundary_condition_data(tension_data)"
      ]
    },
    {
      "cell_type": "markdown",
      "metadata": {},
      "source": [
        "We set the cores the model uses to be platform dependent.\nOn a local machine it will run on 36 cores. If its on a cluster,\nit will run in the queue on 112.\n\n"
      ]
    },
    {
      "cell_type": "code",
      "execution_count": null,
      "metadata": {
        "collapsed": false
      },
      "outputs": [],
      "source": [
        "astme8_model.set_number_of_cores(24)\nif is_sandia_cluster():       \n    astme8_model.run_in_queue(MATCAL_WCID, 0.5)\n    astme8_model.continue_when_simulation_fails()\n    platform = get_sandia_computing_platform()\n    cores_per_node = platform.get_processors_per_node()\n    astme8_model.set_number_of_cores(cores_per_node)\nastme8_model.set_allowable_load_drop_factor(0.45)\nastme8_model.set_name(\"ASTME8_tension_model\")"
      ]
    },
    {
      "cell_type": "markdown",
      "metadata": {},
      "source": [
        "We also add the reference strain rate constant to the\nSIERRA model.\n\n"
      ]
    },
    {
      "cell_type": "code",
      "execution_count": null,
      "metadata": {
        "collapsed": false
      },
      "outputs": [],
      "source": [
        "astme8_model.add_constants(ref_strain_rate=1e-5)"
      ]
    },
    {
      "cell_type": "markdown",
      "metadata": {},
      "source": [
        "After preparing the models and data, we must define the objectives to be minimized. \nFor this calibration, we will need a separate objective for each model and \ndata set to be compared. Both will use the\n:class:`~matcal.core.objective.CurveBasedInterpolatedObjective`,\nbut will differ in the fields that they use for\ninterpolation and residual calculation. For the \nrate dependence model,\nwe will be calibrating the yield stress from the model to each measured yield \nat each rate. For the tension model, we will be calibrating to the \nmeasured engineering stress-strain curve. Therefore,\nwe create the objectives shown below.\n\n"
      ]
    },
    {
      "cell_type": "code",
      "execution_count": null,
      "metadata": {
        "collapsed": false
      },
      "outputs": [],
      "source": [
        "rate_objective = Objective(\"yield\")\nastme8_objective = CurveBasedInterpolatedObjective(\"engineering_strain\", \"engineering_stress\")"
      ]
    },
    {
      "cell_type": "markdown",
      "metadata": {},
      "source": [
        "We then create a function and set of objects that will \nset certain values in the residual vector to zero \nbased on values in the\ndata curve used to calculate that residual vector. This is to remove\nresiduals corresponding to portions of the curve \nthat we should not calibrate to or do not wish to \ncalibrate to.\n\n"
      ]
    },
    {
      "cell_type": "code",
      "execution_count": null,
      "metadata": {
        "collapsed": false
      },
      "outputs": [],
      "source": [
        "def remove_uncalibrated_data_from_residual(engineering_strains, engineering_stresses, residuals):\n    import numpy as np\n    weights = np.ones(len(residuals))\n    weights[engineering_stresses < 38e3] = 0\n    weights[engineering_strains > 0.75] = 0\n    return weights*residuals\n\nresidual_weights = UserFunctionWeighting(\"engineering_strain\", \"engineering_stress\", \n                                         remove_uncalibrated_data_from_residual)\nastme8_objective.set_field_weights(residual_weights)"
      ]
    },
    {
      "cell_type": "markdown",
      "metadata": {},
      "source": [
        "<div class=\"alert alert-info\"><h4>Note</h4><p>Above we remove the elastic and steep unloading portions of the stress-strain\n    curves from the objective using :class:`~matcal.core.residuals.UserFunctionWeighting` object.\n    As stated previously, the elasticity constants are pulled from the literature, \n    so keeping the elastic data in the objective is not needed. \n    Additionally, the steep unloading after necking will not be well captured \n    with a coarse mesh and \n    the absence of a failure method such as element death. Refining the mesh and adding failure \n    significantly increases\n    the cost of the model with little effect on the calibration results. \n    At a minimum, we need the calibration to be able to identify the peak \n    load and strain at peak load\n    in the data\n    which for this data only requires strains up to 0.75.  \n    This step is not necessarily required, but it does reduce the computational\n    cost of the calibration and \n    most likely results in an improved calibration.</p></div>\n\n"
      ]
    },
    {
      "cell_type": "markdown",
      "metadata": {},
      "source": [
        "To perform the calibration, we will use \nthe :class:`~matcal.dakota.local_calibration_studies.GradientCalibrationStudy`.\nFirst, we create the calibration\nstudy object with the :class:`~matcal.core.parameters.Parameter` objects that we made earlier.\nWe then add the evaluation sets which will be \ncombined to form the full objective. In this case, each evaluation \nset has a single objective, model and data/data_collection. \nAs a result, MatCal will track two objectives for this problem.\n\n.. note ::\n  MatCal can also accept multiple objectives passed to a single evaluation set in the form of an\n  :class:`~matcal.core.objective.ObjectiveCollection`. \n  You can also add evaluation sets for a given \n  model multiple times. This is useful when you have different types \n  of data from the experiments and \n  must use different objectives on these data sets. \n  An example would be calibrating to both stress-strain and temperature-time data.\n  Sometimes the experimental data is not collocated in time and supplied in different files.\n  In such a case, you could calibrate\n  to both by adding two evaluation sets for the model, \n  one for stress-strain and another for temperature-time.\n\nAfter adding the evaluation sets, we need to set the study core limit. \nMatCal takes advantage of \nmultiple cores in two layers. Most models can be run on several cores, all studies can run \nevaluation sets in parallel (all models for a combined objective \nevaluation can be run concurrently), and most \nstudies can run several combined objective evaluations concurrently. \nFor this case, we need 1 core for the python model and \n36 cores for the tension model in each combined objective evaluation. \nThe study itself supports objective evaluation \nconcurrently up to $n+1$ where $n$ is the number of parameters. \nSee the \nstudy specific documentation for the objective evaluation concurrency for other methods.\nFor this case, the study will perform six (five parameters + 1) concurrent combined\nobjective evaluations, so this study can use at most 37*6 cores. \nSince this is a relatively large number of cores, we set the core limit to 112.\nThis limit is total number of cores we can use on the computational resources we plan \nto run this on. \nIf you have fewer cores, \nset the limit to what is available and MatCal will not use \nmore than what is specified. If no core limit is set,\nMatCal will default to 1. For parallel jobs, you must specify the limit\nor MatCal will error out. These specifications are for running jobs on a local machine.\n\n"
      ]
    },
    {
      "cell_type": "code",
      "execution_count": null,
      "metadata": {
        "collapsed": false
      },
      "outputs": [],
      "source": [
        "calibration = GradientCalibrationStudy(Y_0, A, b, C, X)\ncalibration.add_evaluation_set(astme8_model, astme8_objective, tension_data)\ncalibration.set_results_storage_options(results_save_frequency=6)\ncalibration.add_evaluation_set(rate_model, rate_objective, rate_data_collection)\ncalibration.set_core_limit(112)\ncal_dir = \"finite_element_model_calibration\"\ncalibration.set_working_directory(cal_dir, remove_existing=True)"
      ]
    },
    {
      "cell_type": "markdown",
      "metadata": {},
      "source": [
        "However, if we are on a cluster where the models are run in a queue (not\nthe local machine), \nwe set the limit based on the number of jobs that can run concurrently \nbecause there is some overhead for job monitoring and results processing.\nFor our case, that is only six python models run on the parent node \nand then six finite element models run on children nodes with job monitoring\nand post processing on the parent node.\n\n"
      ]
    },
    {
      "cell_type": "code",
      "execution_count": null,
      "metadata": {
        "collapsed": false
      },
      "outputs": [],
      "source": [
        "if is_sandia_cluster():\n    calibration.set_core_limit(12)"
      ]
    },
    {
      "cell_type": "markdown",
      "metadata": {},
      "source": [
        "We can now run the calibration. After it finishes, we will plot \nMatCal's standard plots which include plotting the simulation QoIs versus the experimental data\nQoIs, the objectives versus evaluation and the objectives versus the parameter values. \nWe also print and save the final parameter values. \n\n"
      ]
    },
    {
      "cell_type": "code",
      "execution_count": null,
      "metadata": {
        "collapsed": false
      },
      "outputs": [],
      "source": [
        "results = calibration.launch()\nprint(results.best)\nmatcal_save(\"voce_calibration_results.serialized\", results.best.to_dict())\nimport os\ninit_dir = os.getcwd()\nos.chdir(cal_dir)\nmake_standard_plots(\"engineering_strain\",\"yield\")\nos.chdir(init_dir)"
      ]
    },
    {
      "cell_type": "markdown",
      "metadata": {},
      "source": [
        "The calibration finishes successfully with the Dakota output::\n\n  **** RELATIVE FUNCTION CONVERGENCE *****\n\nindicating that the calibration completed successfully. The QoI plots \nalso show that the calibration matches the data well. The \nobjective results for the best evaluation are given in the output shown below.::\n\n       Evaluation results for \"matcal_workdir.25\":\n               Objective \"CurveBasedInterpolatedObjective_1\" for model \"ASTME8_tension_model\" = 0.00028227584006352657\n               Objective \"CurveBasedInterpolatedObjective_0\" for model \"python_rate_model\" = 0.0033173052116014117\n\nThe tension model objective is fairly low while the \npython rate model objective is noticeably higher. These objectives will never be zero due to \nthe fact that there is model form error that is unavoidable and due to the variance in the data. \nFrom the QoI plots it is clear that the rate data have noticeably higher variability for the measured \ndependent field (\"yield\") at a given independent field value (\"rate\") when compared to the tension \nengineering stress-strain data. This is likely the primary cause for its higher\nobjective value. This demonstrates why it is typically a good practice to weight objectives or residuals by the inverse of the\nvariance or noise of the data. MatCal will do this if the data variance is provided with the data and the user \nadds :class:`~matcal.core.residuals.NoiseWeightingFromFile` residuals weights to the objective with \n:meth:`~matcal.core.objective.Objective.set_field_weights`. The same can be accomplished by the \nuser by using the :class:`~matcal.core.residuals.ConstantFactorWeighting` with the appropriate scale factor.\nFor this problem, the calibration \nis acceptable without it and it is not necessarily needed because objectives \nare fairly decoupled. However, using this weighting would result in a small change to the calibrated\nparameters if used.  \n\n"
      ]
    }
  ],
  "metadata": {
    "kernelspec": {
      "display_name": "Python 3",
      "language": "python",
      "name": "python3"
    },
    "language_info": {
      "codemirror_mode": {
        "name": "ipython",
        "version": 3
      },
      "file_extension": ".py",
      "mimetype": "text/x-python",
      "name": "python",
      "nbconvert_exporter": "python",
      "pygments_lexer": "ipython3",
      "version": "3.11.5"
    }
  },
  "nbformat": 4,
  "nbformat_minor": 0
}