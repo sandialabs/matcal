{
  "cells": [
    {
      "cell_type": "markdown",
      "metadata": {},
      "source": [
        "# Polynomial HWD with Point Colocation Calibration Verification - 2nd Attempt\nThis example is a repeat of the \n`Polynomial HWD with Point Colocation Calibration Verification`\nwith a simplification of the full-field interpolating objective.\n\nThere are two differences in this calibration that allows\nit to be successful where the referenced example above fails. \n\n#. We choose to only compare data at peak load.\n   This seems to improve the objective landscape near the \n   true global minimum. When comparing the full-field data \n   at multiple points in the load displacement curve, some \n   fields may improve while others get worse. This may \n   make the search methods unable to choose an appropriate \n   search direction. By choosing the single step at peak load, \n   we avoid this issue. We choose the step at peak load \n   because it contains data where the part is highly-deformed\n   which is relevant to the plasticity model we are calibrating\n#. We choose an initial point that is only 4% away from the known \n   solution. For this calibration we must be near the known solution\n   for the calibration to converge using gradient methods.\n   In real calibrations, the true solution is not known, so a \n   non-gradient method may be needed as a first step to identify regions\n   where the objective is lowest. Gradient calibrations \n   can then be started from these locations to drive down to \n   the local minima. \n\nAll other inputs remain the same. As a result, \nthe commentary is mostly removed for this example\nexcept for some discussion on the results at the end.\n"
      ]
    },
    {
      "cell_type": "code",
      "execution_count": null,
      "metadata": {
        "collapsed": false
      },
      "outputs": [],
      "source": [
        "from matcal import *\nimport numpy as np\n\nsynthetic_data = FieldSeriesData(\"synthetic_data_files/synthetic_surf_results_0_degree.e\")\nsynthetic_data.rename_field(\"U\", \"displacement_x\")\nsynthetic_data.rename_field(\"V\", \"displacement_y\")\nsynthetic_data.rename_field(\"W\", \"displacement_z\")\n\npeak_load_arg = np.argmax(synthetic_data[\"load\"])\nlast_desired_arg = np.argmin(np.abs(synthetic_data[\"load\"]\\\n                                    [peak_load_arg:]-np.max(synthetic_data[\"load\"])*0.925))\nsynthetic_data = synthetic_data[:last_desired_arg+1+peak_load_arg]\n\nselected_data = synthetic_data[[peak_load_arg]]\nselected_data.set_name(\"selected data\")\n\ndc = DataCollection(\"synthetic\", synthetic_data, selected_data)\ndc.plot(\"displacement\", \"load\")\n\nimport matplotlib.pyplot as plt\ndef plot_field(data, field, ax):\n    c = ax.scatter(1e3*(data.spatial_coords[:,0]), \n                   1e3*(data.spatial_coords[:,1]), \n                   c=\"#bdbdbd\", marker='.', s=1, alpha=0.5)\n    c = ax.scatter(1e3*(data.spatial_coords[:,0]+data[\"displacement_x\"][-1, :]), \n                   1e3*(data.spatial_coords[:,1]+data[\"displacement_y\"][-1, :]), \n                   c=1e3*data[field][-1, :], marker='.', s=3)\n    ax.set_xlabel(\"X (mm)\")\n    ax.set_ylabel(\"Y (mm)\")\n    ax.set_aspect('equal')\n    fig.colorbar(c, ax=ax, label=f\"{field} mm\")\n\nfig, axes = plt.subplots(1,2, figsize=(10,4), constrained_layout=True)\nplot_field(synthetic_data, \"displacement_x\", axes[0])\nplot_field(synthetic_data, \"displacement_y\", axes[1])\nplt.show()\n\nmat_file_string = \"\"\"begin material test_material\n  density = 1\n  begin parameters for model hill_plasticity\n    youngs modulus  = {elastic_modulus*1e9}\n    poissons ratio  = {poissons}\n    yield_stress    = {yield_stress*1e6}\n\n    hardening model = voce\n    hardening modulus = {A*1e6}\n    exponential coefficient = {n}\n\n    coordinate system = rectangular_coordinate_system\n    \n    R11 = {R11}\n    R22 = {R22}\n    R33 = {R33}\n    R12 = {R12}\n    R23 = {R23}\n    R31 = {R31}\n  end\nend\n\"\"\"\n\nwith open(\"modular_plasticity.inc\", 'w') as fn:\n    fn.write(mat_file_string)\n\n\nmodel = UserDefinedSierraModel(\"adagio\", \"synthetic_data_files/test_model_input_reduced_output.i\", \n                               \"synthetic_data_files/test_mesh.g\", \"modular_plasticity.inc\")\nmodel.set_name(\"test_model\")\nmodel.add_constants(elastic_modulus=200, poissons=0.27, \n                    R22=1.0, R33=0.9, R23=1.0, R31=1.0)\nmodel.set_number_of_cores(224)\nmodel.read_full_field_data(\"surf_results.e\")\nfrom matcal.sandia.computing_platforms import is_sandia_cluster\nif is_sandia_cluster():       \n    model.run_in_queue(\"fy220213\", 0.5)\n    model.continue_when_simulation_fails()\nhwd_objective = PolynomialHWDObjective(\"synthetic_data_files/test_mesh_surf.g\", \"displacement_x\", \n                                       \"displacement_y\")\nhwd_objective.set_name(\"hwd_objective\")\n\nmax_load = float(np.max(synthetic_data[\"load\"]))\nload_objective = CurveBasedInterpolatedObjective(\"displacement\", \"load\", right=max_load*4)\n\nY = Parameter(\"yield_stress\", 100, 500.0, 200*.96)\nA = Parameter(\"A\", 100, 4000, 1500*0.96)\nn = Parameter(\"n\", 1, 10, 2*1.04)\nR11 = Parameter(\"R11\", 0.8, 1.1, 0.95*0.96)\nR12 = Parameter(\"R12\", 0.8, 1.1, 0.85*1.04)\n\nparam_collection = ParameterCollection(\"Hill48 in-plane\", Y, A, n, R11, R12)\n\nstudy = GradientCalibrationStudy(param_collection)\nstudy.set_results_storage_options(results_save_frequency=len(param_collection)+1)\nstudy.set_core_limit(100)\nstudy.add_evaluation_set(model, load_objective, synthetic_data)\nstudy.add_evaluation_set(model, hwd_objective, selected_data)\nstudy.set_working_directory(\"hwd_cal_round_2\", remove_existing=True)\nstudy.do_not_save_evaluation_cache()\nstudy.set_step_size(1e-4)\nresults = study.launch()\n\ncalibrated_params = results.best.to_dict()\nprint(calibrated_params)\n\ngoal_results = {\"yield_stress\":200,\n                \"A\":1500,\n                \"n\":2,\n                \"R11\":0.95, \n                \"R12\":0.85}\n\ndef pe(result, goal):\n    return (result-goal)/goal*100\n\nfor param in goal_results.keys():\n    print(f\"Parameter {param} error: {pe(calibrated_params[param], goal_results[param])}\")"
      ]
    },
    {
      "cell_type": "markdown",
      "metadata": {},
      "source": [
        "The calibration \nfinishes with ``FALSE CONVERGENCE``\nand the calibrated parameter percent errors\nare similar to the first attempt with HWD.\nThis suggest improvements are needed \nin the objective to ensure verification \nquality results. However, in the presences \nof model form error as there is in real calibrations, \nthe method would likely provide a calibration \nwith satisfactory results.\n\n<div class=\"alert alert-info\"><h4>Note</h4><p>The QoIs plotted for the HWD method re \n    the HWD weights versus the ``weight_id``.  \n    The ``weight_id`` is a function of time step\n    and the mode number. The weights \n    for all time steps are shown on a single plot.</p></div>\n\n\n"
      ]
    },
    {
      "cell_type": "code",
      "execution_count": null,
      "metadata": {
        "collapsed": false
      },
      "outputs": [],
      "source": [
        "import os\ninit_dir = os.getcwd()\nos.chdir(\"hwd_cal_round_2\")\nmake_standard_plots(\"displacement\",\"weight_id\")\nos.chdir(init_dir)\n\n\n# sphinx_gallery_thumbnail_number = 5"
      ]
    }
  ],
  "metadata": {
    "kernelspec": {
      "display_name": "Python 3",
      "language": "python",
      "name": "python3"
    },
    "language_info": {
      "codemirror_mode": {
        "name": "ipython",
        "version": 3
      },
      "file_extension": ".py",
      "mimetype": "text/x-python",
      "name": "python",
      "nbconvert_exporter": "python",
      "pygments_lexer": "ipython3",
      "version": "3.11.5"
    }
  },
  "nbformat": 4,
  "nbformat_minor": 0
}