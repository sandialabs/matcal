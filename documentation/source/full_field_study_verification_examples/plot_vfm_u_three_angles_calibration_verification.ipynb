{
  "cells": [
    {
      "cell_type": "markdown",
      "metadata": {},
      "source": [
        "# Virtual Fields Calibration Verification - Three Data Sets\nIn this example, we repeat the study performed \nin `Virtual Fields Calibration Verification` one more time\nbut now include two additional data sets. We include the ``90_degree``\ndata set as described in `Full-field Verification Problem Results`, \nand include a ``45_degree`` data set. The ``45_degree``\ndata set was generated with \nthe material direction rotated 45 degrees away from \n``0_degree`` orientation about the Z axis. We believe this additional \ndata set will constrain the objective such that the best parameters\npossible using the VFM method are found.\n\nSince the problem setup and data manipulation is \nnearly identical to `Virtual Fields Calibration Verification`, \nwe only add additional commentary and discussion on the \nstudy results at the end.\n"
      ]
    },
    {
      "cell_type": "code",
      "execution_count": null,
      "metadata": {
        "collapsed": false
      },
      "outputs": [],
      "source": [
        "from matcal import *\n\nstate_0_degree = State(\"0_degree\", angle=0)\nsynthetic_data_0 = FieldSeriesData(\"../../../docs_support_files/synthetic_surf_results_0_degree.e\", \n                                   state=state_0_degree)\n\nstate_45_degree = State(\"45_degree\", angle=45)\nsynthetic_data_45 = FieldSeriesData(\"../../../docs_support_files/synthetic_surf_results_45_degree.e\", \n                                   state=state_45_degree)\n\nstate_90_degree = State(\"90_degree\", angle=90)\nsynthetic_data_90 = FieldSeriesData(\"../../../docs_support_files/synthetic_surf_results_90_degree.e\",\n                                    state=state_90_degree)\n\ndc = DataCollection(\"synthetic\", synthetic_data_0, synthetic_data_45, synthetic_data_90)\nimport matplotlib.pyplot as plt\ndc.plot(\"displacement\", \"load\",figure=plt.figure())\n\ndc[\"0_degree\"][0] = synthetic_data_0[synthetic_data_0[\"displacement\"] < 0.036]\ndc[\"45_degree\"][0] = synthetic_data_45[synthetic_data_45[\"displacement\"] < 0.0325]\ndc[\"90_degree\"][0] = synthetic_data_90[synthetic_data_90[\"displacement\"] < 0.040]\n\ndef plot_field(data, field, ax):\n    c = ax.scatter(1e3*(data.spatial_coords[:,0]), \n                   1e3*(data.spatial_coords[:,1]), \n                   c=\"#bdbdbd\", marker='.', s=1, alpha=0.5)\n    c = ax.scatter(1e3*(data.spatial_coords[:,0]+data[\"U\"][-1, :]), \n                   1e3*(data.spatial_coords[:,1]+data[\"V\"][-1, :]), \n                   c=1e3*data[field][-1, :], marker='.', s=3)\n    ax.set_xlabel(\"X (mm)\")\n    ax.set_ylabel(\"Y (mm)\")\n    direction = data.state.name.replace(\"_\", \" \")\n    ax.set_title(f\"{direction}\")\n    ax.set_aspect('equal')\n    fig.colorbar(c, ax=ax, label=f\"{field} mm\")\n\nfig, axes = plt.subplots(3,2, figsize=(10,15), constrained_layout=True)\nplot_field(synthetic_data_0, \"U\", axes[0,0])\nplot_field(synthetic_data_0, \"V\", axes[0,1])\nplot_field(synthetic_data_45, \"U\", axes[1,0])\nplot_field(synthetic_data_45, \"V\", axes[1,1])\nplot_field(synthetic_data_90, \"U\", axes[2,0])\nplot_field(synthetic_data_90, \"V\", axes[2,1])\n\nplt.show()\n\nmat_file_string = \"\"\"begin material test_material\n  density = 1\n  begin parameters for model hill_plasticity\n    youngs modulus  = {elastic_modulus*1e9}\n    poissons ratio  = {poissons}\n    yield_stress    = {yield_stress*1e6}\n\n    hardening model = voce\n    hardening modulus = {A*1e6}\n    exponential coefficient = {n}\n\n    R11 = {R11}\n    R22 = {R22}\n    R33 = {R33}\n    R12 = {R12}\n    R23 = {R23}\n    R31 = {R31}\n\n    coordinate system = rectangular_coordinate_system\n    direction for rotation = 1\n    alpha = 0\n    second direction for rotation = 3\n    second alpha = {angle}\n  end\nend\n\"\"\"\n\nwith open(\"modular_plasticity.inc\", 'w') as fn:\n    fn.write(mat_file_string)\n\nmaterial = Material(\"test_material\", \"modular_plasticity.inc\", \"hill_plasticity\")\nvfm_model = VFMUniaxialTensionHexModel(material, \n                                       \"synthetic_data_files/test_mesh_surf.g\", \n                                       0.0625*0.0254)\nvfm_model.add_boundary_condition_data(dc)\nvfm_model.set_name(\"test_model\")\nvfm_model.set_number_of_cores(36)\nvfm_model.set_number_of_time_steps(450)\nvfm_model.set_displacement_field_names(x_displacement=\"U\", y_displacement=\"V\")\nvfm_model.add_constants(elastic_modulus=200, poissons=0.27, R22=1.0, \n                        R33=0.9, R23=1.0, R31=1.0)\nfrom site_matcal.sandia.computing_platforms import is_sandia_cluster\nfrom site_matcal.sandia.tests.utilities import MATCAL_WCID\n\nif is_sandia_cluster():       \n    vfm_model.run_in_queue(MATCAL_WCID, 10.0/60.0)\n    vfm_model.continue_when_simulation_fails()\n\nvfm_objective = MechanicalVFMObjective()\nvfm_objective.set_name(\"vfm_objective\")\n\nY = Parameter(\"yield_stress\", 100, 500.0)\nA = Parameter(\"A\", 100, 4000)\nn = Parameter(\"n\", 1, 10)\nR11 = Parameter(\"R11\", 0.8, 1.1)\nR12 = Parameter(\"R12\", 0.8, 1.1)\n\nparam_collection = ParameterCollection(\"hill voce\", Y, A, n, R11, R12)\n\nstudy = GradientCalibrationStudy(param_collection)\nstudy.set_results_storage_options(results_save_frequency=len(param_collection)+1)\nstudy.set_core_limit(48)\nstudy.add_evaluation_set( vfm_model, vfm_objective, dc)\nstudy.do_not_save_evaluation_cache()\nstudy.set_working_directory(\"vfm_three_angles\", remove_existing=True)\n\nresults = study.launch()\n\ncalibrated_params = results.best.to_dict()\nprint(calibrated_params)\n\ngoal_results = {\"yield_stress\":200,\n                \"A\":1500,\n                \"n\":2,\n                \"R11\":0.95, \n                \"R12\":0.85}\n\ndef pe(result, goal):\n    return (result-goal)/goal*100\n\nfor param in goal_results.keys():\n    print(f\"Parameter {param} error: {pe(calibrated_params[param], goal_results[param])}\")"
      ]
    },
    {
      "cell_type": "markdown",
      "metadata": {},
      "source": [
        "This calibration also completes\nwith ``RELATIVE FUNCTION CONVERGENCE``\nindicating the algorithm found a local\nminima and based on our objective \nsensitivity study it is likely a global minimum\nfor the VFM objective and model.\nAdditionally, all yield related parameters are \nidentified within 1% error. However, \nThe hardening parameters have up to 5%\nerror. This is due to the model form error\nand correlation of these parameters. They\nare negatively correlated so the $n$\ndecreased approximately 4% while the $A$\nincreased approximately 5%. These changes\nare relatively minor and are due to the model\nform error introduced by the plane stress\nassumption. Overall the results indicate\nthe VFM problem is well formulated for gradient \nmethods and can provide adequate calibrations\nif over fitting is avoided.\n\nWhen we plot the results, we now see \nthat all yield parameters are identified\nquickly with clear minima. The objective verses hardening parameters\nplots \nshow evidence of a slight trough in the objective for these \nparameters. This is indicating some over fitting \nof these parameters is occurring due to the model \nform error introduced due to VFM's plane \nstress assumption constrain.\n\n"
      ]
    },
    {
      "cell_type": "code",
      "execution_count": null,
      "metadata": {
        "collapsed": false
      },
      "outputs": [],
      "source": [
        "import os\ninit_dir = os.getcwd()\nos.chdir(\"vfm_three_angles\")\nmake_standard_plots(\"time\")\nos.chdir(init_dir)\n\n# sphinx_gallery_thumbnail_number = 2"
      ]
    }
  ],
  "metadata": {
    "kernelspec": {
      "display_name": "Python 3",
      "language": "python",
      "name": "python3"
    },
    "language_info": {
      "codemirror_mode": {
        "name": "ipython",
        "version": 3
      },
      "file_extension": ".py",
      "mimetype": "text/x-python",
      "name": "python",
      "nbconvert_exporter": "python",
      "pygments_lexer": "ipython3",
      "version": "3.11.5"
    }
  },
  "nbformat": 4,
  "nbformat_minor": 0
}