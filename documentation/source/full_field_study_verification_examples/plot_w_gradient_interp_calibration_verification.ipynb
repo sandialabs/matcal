{
  "cells": [
    {
      "cell_type": "markdown",
      "metadata": {},
      "source": [
        "# Full-field Interpolation Calibration Verification\nThis example is a repeat of the \n`Load Displacement Calibration Verification -  First Attempt`\nwith the addition of a full-field interpolating objective.\n\nThere are only two differences between this calibration and the \nload-displacement calibration. \n\n#. We add full-field displacement\n   data to the calibration. We use the \n   :class:`~matcal.full_field.objective.InterpolatedFullFieldObjective`\n   for this comparison where the fields compared \n   are the X and Y displacements. We do this comparison \n   at four points in the load displacement history: (1)\n   near yield, (2) approximately halfway through the total displacement, \n   (3) at peak load and (4) at 92.5% of peak load past peak load.\n#. We also change the extrapolation \n   values in the load-displacement \n   :class:`~matcal.core.objective.CurveBasedInterpolatedObjective`\n   to be four times the max load of the synthetic data in an attempt to avoid \n   local objectives in the load-displacement objective when the curves\n   cross.\n\nAll other inputs remain the same. As a result, \nthe commentary is mostly removed for this example\nexcept for some discussion on the results at the end.\n"
      ]
    },
    {
      "cell_type": "code",
      "execution_count": null,
      "metadata": {
        "collapsed": false
      },
      "outputs": [],
      "source": [
        "from matcal import *\nimport numpy as np\n\nsynthetic_data = FieldSeriesData(\"synthetic_data_files/synthetic_surf_results_0_degree.e\")\nsynthetic_data.rename_field(\"U\", \"displacement_x\")\nsynthetic_data.rename_field(\"V\", \"displacement_y\")\nsynthetic_data.rename_field(\"W\", \"displacement_z\")\n\npeak_load_arg = np.argmax(synthetic_data[\"load\"])\nlast_desired_arg = np.argmin(np.abs(synthetic_data[\"load\"]\\\n                                    [peak_load_arg:]-np.max(synthetic_data[\"load\"])*0.925))\nsynthetic_data = synthetic_data[:last_desired_arg+1+peak_load_arg]\n\nlast_disp_arg = np.argmax(synthetic_data[\"displacement\"])\nselected_data = synthetic_data[[50, 200, peak_load_arg, last_disp_arg]]\nselected_data.set_name(\"selected data\")\n\ndc = DataCollection(\"synthetic\", synthetic_data, selected_data)\ndc.plot(\"displacement\", \"load\")\n\nimport matplotlib.pyplot as plt\ndef plot_field(data, field, ax):\n    c = ax.scatter(1e3*(data.spatial_coords[:,0]), \n                   1e3*(data.spatial_coords[:,1]), \n                   c=\"#bdbdbd\", marker='.', s=1, alpha=0.5)\n    c = ax.scatter(1e3*(data.spatial_coords[:,0]+data[\"displacement_x\"][-1, :]), \n                   1e3*(data.spatial_coords[:,1]+data[\"displacement_y\"][-1, :]), \n                   c=1e3*data[field][-1, :], marker='.', s=3)\n    ax.set_xlabel(\"X (mm)\")\n    ax.set_ylabel(\"Y (mm)\")\n    ax.set_aspect('equal')\n    fig.colorbar(c, ax=ax, label=f\"{field} mm\")\n\nfig, axes = plt.subplots(1,2, figsize=(10,4), constrained_layout=True)\nplot_field(synthetic_data, \"displacement_x\", axes[0])\nplot_field(synthetic_data, \"displacement_y\", axes[1])\nplt.show()\n\nmat_file_string = \"\"\"begin material test_material\n  density = 1\n  begin parameters for model hill_plasticity\n    youngs modulus  = {elastic_modulus*1e9}\n    poissons ratio  = {poissons}\n    yield_stress    = {yield_stress*1e6}\n\n    hardening model = voce\n    hardening modulus = {A*1e6}\n    exponential coefficient = {n}\n\n    coordinate system = rectangular_coordinate_system\n    \n    R11 = {R11}\n    R22 = {R22}\n    R33 = {R33}\n    R12 = {R12}\n    R23 = {R23}\n    R31 = {R31}\n  end\nend\n\"\"\"\n\nwith open(\"modular_plasticity.inc\", 'w') as fn:\n    fn.write(mat_file_string)\n\n\nmodel = UserDefinedSierraModel(\"adagio\", \"synthetic_data_files/test_model_input_reduced_output.i\", \n                               \"synthetic_data_files/test_mesh.g\", \"modular_plasticity.inc\")\nmodel.set_name(\"test_model\")\nmodel.add_constants(elastic_modulus=200, poissons=0.27, R22=1.0, \n                    R33=0.9, R23=1.0, R31=1.0)\nmodel.set_number_of_cores(224)\nmodel.read_full_field_data(\"surf_results.e\")\nfrom matcal.sandia.computing_platforms import is_sandia_cluster\nif is_sandia_cluster():       \n    model.run_in_queue(\"fy220213\", 0.5)\n    model.continue_when_simulation_fails()\ninterpolate_objective = InterpolatedFullFieldObjective(\"synthetic_data_files/test_mesh_surf.g\", \n                                                       \"displacement_x\", \n                                                       \"displacement_y\")\ninterpolate_objective.set_name(\"interpolate_objective\")\n\nmax_load = float(np.max(synthetic_data[\"load\"]))\nload_objective = CurveBasedInterpolatedObjective(\"displacement\", \"load\", \n                                                 right=max_load*4)\nload_objective.set_name(\"load_objective\")\n\nY = Parameter(\"yield_stress\", 100, 500.0, 218.0)\nA = Parameter(\"A\", 100, 4000, 1863.0)\nn = Parameter(\"n\", 1, 10, 1.28)\nR11 = Parameter(\"R11\", 0.8, 1.1)\nR12 = Parameter(\"R12\", 0.8, 1.1)\n\nparam_collection = ParameterCollection(\"Hill48 in-plane\", Y, A, n, R11, R12)\n\nstudy = GradientCalibrationStudy(param_collection)\nstudy.set_results_storage_options(results_save_frequency=len(param_collection)+1)\nstudy.set_core_limit(100)\nstudy.add_evaluation_set(model, load_objective, synthetic_data)\nstudy.add_evaluation_set(model, interpolate_objective, selected_data)\nstudy.set_working_directory(\"ff_interp_cal_initial\", remove_existing=True)\nstudy.set_step_size(1e-4)\nstudy.do_not_save_evaluation_cache()\n\nresults = study.launch()\ncalibrated_params = results.best.to_dict()\nprint(calibrated_params)\n\ngoal_results = {\"yield_stress\":200,\n                \"A\":1500,\n                \"n\":2,\n                \"R11\":0.95, \n                \"R12\":0.85}\n\ndef pe(result, goal):\n    return (result-goal)/goal*100\nfor param in goal_results.keys():\n    print(f\"Parameter {param} error: {pe(calibrated_params[param], goal_results[param])}\")"
      ]
    },
    {
      "cell_type": "markdown",
      "metadata": {},
      "source": [
        "The calibrated parameter percent errors\nare much improved over the load-displacement \ncurve only calibration. However, \nerrors still exist that are larger \nthan desired and \nthe calibration completes \nwith ``FALSE CONVERGENCE``.\nA possible way to improve the calibration \ncould be to add the ``90_degree``\ndata set to the calibration.\n\nWhen we plot the results below, \nwe see that the results for the \nload-displacement curve agree \nwell with the synthetic data.\nThe improvement \nis due to the algorithm driving \nthe full-field interpolation objective down. \nThis indicates that the full-field interpolation\nwas the driver for the improvements gained \nwith this calibration.  Overall,\nadding the full-field data \nimproved the calibration performance \nand the results are satisfactory for \nuse in follow-on simulations even if \nnot accurate enough for verification purposes.\n\n<div class=\"alert alert-info\"><h4>Note</h4><p>The QoIs are purposefully not plotted for the\n    full-field interpolation objective. \n    This is done to avoid saving and moving the large \n    data sets which can exacerbated out-of-memory issues.</p></div>\n\n"
      ]
    },
    {
      "cell_type": "code",
      "execution_count": null,
      "metadata": {
        "collapsed": false
      },
      "outputs": [],
      "source": [
        "import os\ninit_dir = os.getcwd()\nos.chdir(\"ff_interp_cal_initial\")\nmake_standard_plots(\"displacement\",\"displacement_x\")\nos.chdir(init_dir)\n# sphinx_gallery_thumbnail_number = 5"
      ]
    }
  ],
  "metadata": {
    "kernelspec": {
      "display_name": "Python 3",
      "language": "python",
      "name": "python3"
    },
    "language_info": {
      "codemirror_mode": {
        "name": "ipython",
        "version": 3
      },
      "file_extension": ".py",
      "mimetype": "text/x-python",
      "name": "python",
      "nbconvert_exporter": "python",
      "pygments_lexer": "ipython3",
      "version": "3.11.5"
    }
  },
  "nbformat": 4,
  "nbformat_minor": 0
}