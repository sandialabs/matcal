{
  "cells": [
    {
      "cell_type": "markdown",
      "metadata": {},
      "source": [
        "# Virtual Fields Calibration Verification\nIn this example, we use MatCal's VFM \ntools to calibrate to the ``0_degree``\nsynthetic data described \nin `Full-field Study Verification`.\nDue to the numerical methods \nused in optimization process and the \nerrors introduced by the plane stress\nassumption inherent in VFM, we expect \nthere to be some error in the parameters, \nAn ideal result would \nproduce calibrated parameters within a few \npercent of the actual values.\n\nAs we will see, this does not occur using the VFM\ntool with limited data.\n\nTo begin we import the MatCal tools necessary for this study\nand import the data that will be used for the calibration.\n"
      ]
    },
    {
      "cell_type": "code",
      "execution_count": null,
      "metadata": {
        "collapsed": false
      },
      "outputs": [],
      "source": [
        "from matcal import *\nimport matplotlib.pyplot as plt\n\nplt.rc('text', usetex=True)\nplt.rc('font', family='serif')\nplt.rcParams.update({'font.size': 12})\n\nsynthetic_data = FieldSeriesData(\"synthetic_data_files/synthetic_surf_results_0_degree.e\")"
      ]
    },
    {
      "cell_type": "markdown",
      "metadata": {},
      "source": [
        "Since VFM requires a \nplane stress assumption, \nwe must calibrate to \nportions of the data \nthat most closely adhere \nto this assumption. \nFor this problem, we must \nensure that the data doesn't\ninclude significant plastic localization. \nTo investigate this, we plot the \ndata load-displacement curve. If \nthe data shows structural load loss, \nwe know the specimen has necked. \n\n"
      ]
    },
    {
      "cell_type": "code",
      "execution_count": null,
      "metadata": {
        "collapsed": false
      },
      "outputs": [],
      "source": [
        "dc = DataCollection(\"synthetic\", synthetic_data)\ndc.plot(\"displacement\", \"load\")"
      ]
    },
    {
      "cell_type": "markdown",
      "metadata": {},
      "source": [
        "We can see peak load for this \nsimulation occurs at a displacement of \n0.036 m. Next, we remove all data \npast the 0.036 m displacement and \nthen plot the X and Y displacement \nfields on the deformed geometry \nfor the last time step. \nWe plot the deformed configuration colored\nby the correct displacement field on top of the undeformed \nconfiguration in grey. \n\n"
      ]
    },
    {
      "cell_type": "code",
      "execution_count": null,
      "metadata": {
        "collapsed": false
      },
      "outputs": [],
      "source": [
        "synthetic_data = synthetic_data[synthetic_data[\"displacement\"] < 0.036]\n\nimport matplotlib.pyplot as plt\ndef plot_field(data, field, ax):\n    c = ax.scatter(1e3*(data.spatial_coords[:,0]), \n                   1e3*(data.spatial_coords[:,1]), \n                   c=\"#bdbdbd\", marker='.', s=1, alpha=0.5)\n    c = ax.scatter(1e3*(data.spatial_coords[:,0]+data[\"U\"][-1, :]), \n                   1e3*(data.spatial_coords[:,1]+data[\"V\"][-1, :]), \n                   c=1e3*data[field][-1, :], marker='.', s=3)\n    ax.set_xlabel(\"X (mm)\")\n    ax.set_ylabel(\"Y (mm)\")\n    ax.set_aspect('equal')\n    fig.colorbar(c, ax=ax, label=f\"{field} mm\")\n\nfig, axes = plt.subplots(1,2, figsize=(10,4), constrained_layout=True)\nplot_field(synthetic_data, \"U\", axes[0])\nplot_field(synthetic_data, \"V\", axes[1])\nplt.show()"
      ]
    },
    {
      "cell_type": "markdown",
      "metadata": {},
      "source": [
        "After importing and preparing the data, \nwe create the VFM model that will be used \nto simulate the characterization test. \nWe use a :class:`~matcal.sierra.models.VFMUniaxialTensionHexModel`\nfor this example. This model will need a \nSierraSM material model input file. We create it \nnext using python string and file tools.\n\n"
      ]
    },
    {
      "cell_type": "code",
      "execution_count": null,
      "metadata": {
        "collapsed": false
      },
      "outputs": [],
      "source": [
        "mat_file_string = \"\"\"begin material test_material\n  density = 1\n  begin parameters for model hill_plasticity\n    youngs modulus  = {elastic_modulus*1e9}\n    poissons ratio  = {poissons}\n    yield_stress    = {yield_stress*1e6}\n\n    hardening model = voce\n    hardening modulus = {A*1e6}\n    exponential coefficient = {n}\n\n    coordinate system = rectangular_coordinate_system\n    \n    R11 = {R11}\n    R22 = {R22}\n    R33 = {R33}\n    R12 = {R12}\n    R23 = {R23}\n    R31 = {R31}\n  end\nend\n\"\"\"\n\nwith open(\"modular_plasticity.inc\", 'w') as fn:\n    fn.write(mat_file_string)"
      ]
    },
    {
      "cell_type": "markdown",
      "metadata": {},
      "source": [
        "The VFM model requires a :class:`~matcal.sierra.material.Material`\nobject. After creating the material object, we \ncreate the VFM model with the correct surface mesh \nthat corresponds to our output surface mesh and the total \nspecimen thickness. Next,\nwe use the correct methods to prepare the model \nfor the study.\nMost importantly we pass the correct \nmodel constants to it and pass the field data to it that\nincludes the displacements the model will use as its boundary \nconditions. The model constants\npassed to the model are the uncalibrated parameters\ndescribed in `Full-field Verification Problem Material Model`.\n\n"
      ]
    },
    {
      "cell_type": "code",
      "execution_count": null,
      "metadata": {
        "collapsed": false
      },
      "outputs": [],
      "source": [
        "material = Material(\"test_material\", \"modular_plasticity.inc\", \"hill_plasticity\")\nvfm_model = VFMUniaxialTensionHexModel(material, \n                                       \"synthetic_data_files/test_mesh_surf.g\", \n                                       0.0625*0.0254)\nvfm_model.add_boundary_condition_data(synthetic_data)\nvfm_model.set_name(\"test_model\")\nvfm_model.set_number_of_cores(36)\nvfm_model.set_number_of_time_steps(450)\nvfm_model.add_constants(elastic_modulus=200, poissons=0.27, R22=1.0, R33=0.9, \n                        R23=1.0, R31=1.0)\nfrom matcal.sandia.computing_platforms import is_sandia_cluster\nif is_sandia_cluster():       \n    vfm_model.run_in_queue(\"fy220213\", 10.0/60.0)\n    vfm_model.continue_when_simulation_fails()"
      ]
    },
    {
      "cell_type": "markdown",
      "metadata": {},
      "source": [
        "We now create the objective that will \nbe used for the calibration. \nSince our \"load\" and \"time\" fields\nmatch the default names for those fields\nin the :class:`~matcal.full_field.objective.MechanicalVFMObjective`,\nno additional input is needed. We do \nname the objective for convenience.\n\n"
      ]
    },
    {
      "cell_type": "code",
      "execution_count": null,
      "metadata": {
        "collapsed": false
      },
      "outputs": [],
      "source": [
        "vfm_objective = MechanicalVFMObjective()\nvfm_objective.set_name(\"vfm_objective\")"
      ]
    },
    {
      "cell_type": "markdown",
      "metadata": {},
      "source": [
        "We then create the material model \ninput parameters for the study. As \nwas done in the previous examples, we provide \nrealistic bounds that one may expect \nfor an austenitic stainless steel based\non our experience with the material. \nThis results in an initial point far from \nthe true values used for the synthetic data generation\nand is a stressing test for a local \ngradient based method.\n\n"
      ]
    },
    {
      "cell_type": "code",
      "execution_count": null,
      "metadata": {
        "collapsed": false
      },
      "outputs": [],
      "source": [
        "Y = Parameter(\"yield_stress\", 100, 500.0)\nA = Parameter(\"A\", 100, 4000)\nn = Parameter(\"n\", 1, 10)\nR11 = Parameter(\"R11\", 0.8, 1.1)\nR12 = Parameter(\"R12\", 0.8, 1.1)\n\nparam_collection = ParameterCollection(\"hill voce\", Y, A, n, R11, R12)"
      ]
    },
    {
      "cell_type": "markdown",
      "metadata": {},
      "source": [
        "Finally, we create the calibration \nstudy and pass the parameters \nrelevant to the study during its\ninitialization. We then set \nthe total cores it can use locally and\npass the data, model and objective to \nit as an evaluation set.\n\n"
      ]
    },
    {
      "cell_type": "code",
      "execution_count": null,
      "metadata": {
        "collapsed": false
      },
      "outputs": [],
      "source": [
        "study = GradientCalibrationStudy(param_collection)\nstudy.set_results_storage_options(results_save_frequency=len(param_collection)+1)\nstudy.set_core_limit(48)\nstudy.add_evaluation_set(vfm_model, vfm_objective, synthetic_data)\nstudy.do_not_save_evaluation_cache()\nstudy.set_working_directory(\"vfm_one_angle\", remove_existing=True)"
      ]
    },
    {
      "cell_type": "markdown",
      "metadata": {},
      "source": [
        "For this example, we limit the number of maximum evaluations.\nThis is to save computation time. It will not converge to \nthe correct solution with more iterations, it over fits\nthe model to the available data and is likely\ntraversing down a \"valley\" in the objective spave.\n\n"
      ]
    },
    {
      "cell_type": "code",
      "execution_count": null,
      "metadata": {
        "collapsed": false
      },
      "outputs": [],
      "source": [
        "study.set_max_function_evaluations(200)\nresults = study.launch()"
      ]
    },
    {
      "cell_type": "markdown",
      "metadata": {},
      "source": [
        "When the study completes, \nwe extract the calibrated parameters \nand evaluate the error. \nThe optimization has moved \nfar from the initial point and \nprovides low error for some of the parameters. \nIt completes with ``RELATIVE FUNCTION CONVERGENCE``\nindicating a quality local minima has been identified\n\n\n"
      ]
    },
    {
      "cell_type": "code",
      "execution_count": null,
      "metadata": {
        "collapsed": false
      },
      "outputs": [],
      "source": [
        "calibrated_params = results.best.to_dict()\nprint(calibrated_params)\n\ngoal_results = {\"yield_stress\":200,\n                \"A\":1500,\n                \"n\":2,\n                \"R11\":0.95, \n                \"R12\":0.85}\n\ndef pe(result, goal):\n    return (result-goal)/goal*100\n\nfor param in goal_results.keys():\n    print(f\"Parameter {param} error: {pe(calibrated_params[param], goal_results[param])}\")"
      ]
    },
    {
      "cell_type": "markdown",
      "metadata": {},
      "source": [
        "Using MatCal's standard plot, \nit is clear that the gradient method quickly heads toward a minimum that is\nnear the true values. However, \nonce it gets to that minimum, it continues\nto change the parameters while the \nobjective only decreases a small amount. \nThis is showing that the objective has a \nshallow trough in this objective space. \nThis is likely due to the model over fitting \nthe data. The single data set is insufficient \nto accurately identify the parameters and the model \nform error allows the algorithm \nto continue to slowly reduce the objective \nby moving the parameters away from the \nvalues used to generate the synthetic data.\nWe believe that adding data to constrain this drift \nwill alleviate this issue. We do so in the next  \nexample `Virtual Fields Calibration Verification - Three Data Sets` where \nwe see improved results.\n\n"
      ]
    },
    {
      "cell_type": "code",
      "execution_count": null,
      "metadata": {
        "collapsed": false
      },
      "outputs": [],
      "source": [
        "import os\ninit_dir = os.getcwd()\nos.chdir(\"vfm_one_angle\")\nmake_standard_plots(\"time\")\nos.chdir(init_dir)\n\n# sphinx_gallery_thumbnail_number = 5"
      ]
    }
  ],
  "metadata": {
    "kernelspec": {
      "display_name": "Python 3",
      "language": "python",
      "name": "python3"
    },
    "language_info": {
      "codemirror_mode": {
        "name": "ipython",
        "version": 3
      },
      "file_extension": ".py",
      "mimetype": "text/x-python",
      "name": "python",
      "nbconvert_exporter": "python",
      "pygments_lexer": "ipython3",
      "version": "3.11.5"
    }
  },
  "nbformat": 4,
  "nbformat_minor": 0
}