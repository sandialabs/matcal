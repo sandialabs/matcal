{
  "cells": [
    {
      "cell_type": "markdown",
      "metadata": {},
      "source": [
        "\n# Model Discrepancy Issue Example\nIn this case, the data comes from an exponential function with relatively low added noise. \nThe model is a bilinear function producing results similar to an elastic-plastic response with the parameter \"Y\" \ncontrolling where the change from one linear trend to the other takes place and \nthe parameter \"H\" controlling the slope of the second trend. \nThe slope of the initial trend is fixed, as if it were known (as the elastic modulus typically would be).\n\nThe fit is well defined in the sense that the error contours \nare closed, and the bowl is steep; however, the model discrepancy \nand the constraint of fixed E clearly have effects on the fit. \nFor instance, the changeover point in the bilinear \u201cplasticity\u201d \nmodel is ambiguous as evidenced by the elongated diagonal error contours. \nAlso extrapolating the fitted model will not follow the data. \nThis issue is common in fitting real material models to data \nthat spans large ranges of, for example, strain, strain-rate and temperature.\n\nTo begin the calibration, we import MatCal and Numpy.\n"
      ]
    },
    {
      "cell_type": "code",
      "execution_count": null,
      "metadata": {
        "collapsed": false
      },
      "outputs": [],
      "source": [
        "from matcal import *\nimport numpy as np"
      ]
    },
    {
      "cell_type": "markdown",
      "metadata": {},
      "source": [
        "We create a python function to be used as a MatCal PythonModel\nfor this calibration. The python model uses Numpy in the function\nand requires that Numpy be imported within the function.\nAs stated above, the data will be fitted to a model with a \nbilinear response similar to an elastic-plastic model.\nThe initial slope (E) is assumed to be known. \nThe parameter \"Y\" determines where the model changes to \nthe second linear trend and the parameters \"H\" determines the second slope.\n\n"
      ]
    },
    {
      "cell_type": "code",
      "execution_count": null,
      "metadata": {
        "collapsed": false
      },
      "outputs": [],
      "source": [
        "def bilinear_model(**parameters):\n  import numpy as np\n  max_strain = 1.0\n  npoints = 100\n  strain = np.linspace(0,max_strain,npoints)\n  E = 1.5\n  Y = parameters['Y']\n  H = parameters['H']\n  eY = Y/E\n  stress = np.where(strain < eY, E*strain, Y + H*(strain-eY))\n  response = {'strain':strain, 'stress': stress}\n  return response"
      ]
    },
    {
      "cell_type": "markdown",
      "metadata": {},
      "source": [
        "With the function for the model defined above,\nwe create the parameters for our MatCal \ncalibration study and the MatCal PythonModel\nfrom the function.\n\n"
      ]
    },
    {
      "cell_type": "code",
      "execution_count": null,
      "metadata": {
        "collapsed": false
      },
      "outputs": [],
      "source": [
        "Y = Parameter('Y',0.0,1.0, 0.51)\nH = Parameter('H',0.0,1.0, 0.51)\nparameters = ParameterCollection('parameters', Y, H)\nmodel = PythonModel(bilinear_model)"
      ]
    },
    {
      "cell_type": "markdown",
      "metadata": {},
      "source": [
        "A simple gradient-based calibration with a mean squared \nerror objective is enough to illustrate the point.\nWe load the data, create the calibration based on the model parameters, \nand define an objective for fitting the model response to the data.\n\n\n"
      ]
    },
    {
      "cell_type": "code",
      "execution_count": null,
      "metadata": {
        "collapsed": false
      },
      "outputs": [],
      "source": [
        "data = FileData('exponential.csv')\ncalibration = GradientCalibrationStudy(parameters)\nobjective = CurveBasedInterpolatedObjective('strain','stress')\nobjective.set_name(\"stress-strain\")\ncalibration.add_evaluation_set(model, objective, data)"
      ]
    },
    {
      "cell_type": "markdown",
      "metadata": {},
      "source": [
        "We can then run the calibration and select the optimal parameters and the best fit.\n\n\n"
      ]
    },
    {
      "cell_type": "code",
      "execution_count": null,
      "metadata": {
        "collapsed": false
      },
      "outputs": [],
      "source": [
        "results = calibration.launch()\nbest_parameters = results.best.to_dict()\nbest_response = results.best_simulation_data(model, 'matcal_default_state')"
      ]
    },
    {
      "cell_type": "markdown",
      "metadata": {},
      "source": [
        "We also grab the true/experimental response and the model/fitted response\n\n\n"
      ]
    },
    {
      "cell_type": "code",
      "execution_count": null,
      "metadata": {
        "collapsed": false
      },
      "outputs": [],
      "source": [
        "data_strain = data['strain']\ndata_stress = data['stress']\nmodel_strain = best_response['strain']\nmodel_stress = best_response['stress']"
      ]
    },
    {
      "cell_type": "markdown",
      "metadata": {},
      "source": [
        "First, compare the response curves.\nWe plot the calibrated model with \nlines and the data with points. \nGenerally, there are about as many points \nabove the fitted line as below. This is due to \nusing a mean squared error objective but here it causes \nthe fit to miss \"features\" such as the soft transition\nfrom the initial linear trend to the exponential one. \nAlso, since the fit does not emphasize the slope \nat the end of the data, using this model outside the \nfitted region will lead to large extrapolation errors,\ni.e., the model will overestimate the output.\n\n\n"
      ]
    },
    {
      "cell_type": "code",
      "execution_count": null,
      "metadata": {
        "collapsed": false
      },
      "outputs": [],
      "source": [
        "import matplotlib.pyplot as plt\nplt.plot(model_strain,model_stress,'b',label=\"fit\")\nplt.scatter(data_strain,data_stress,2,'r',label=\"data\")\nplt.xlabel(\"STRAIN\")\nplt.ylabel(\"STRESS\")"
      ]
    },
    {
      "cell_type": "markdown",
      "metadata": {},
      "source": [
        "Second, examine how the error changes in the vicinity of the best fit.\nThis a helper function to evaluate the error on \na grid of parameter values for plotting. \nMatCal's ParameterStudy can also do this.\n\n\n"
      ]
    },
    {
      "cell_type": "code",
      "execution_count": null,
      "metadata": {
        "collapsed": false
      },
      "outputs": [],
      "source": [
        "def sample_error(model, data, ranges = {\"Y\":[0.0,1.0],\"H\":[0.0,1.0]} ):\n  Ys, Hs = np.mgrid[ ranges[\"Y\"][0]:ranges[\"Y\"][1]:100j, ranges[\"H\"][0]:ranges[\"H\"][1]:100j]\n  Zs = np.empty_like(Ys)\n  for i in range(Ys.shape[0]):\n    for j in range(Ys.shape[1]):\n      parameters = {\"Y\":Ys[i,j],\"H\":Hs[i,j]}\n      response = model(**parameters)\n      residual = response['stress']-data['stress']\n      error = np.sum(residual**2)\n      Zs[i,j] = error\n  return Ys,Hs,Zs"
      ]
    },
    {
      "cell_type": "markdown",
      "metadata": {},
      "source": [
        "The contour plot depicts the change in error in the vicinity of the optimum.\nClearly it rises smoothly from the minimum at the optimum. \nHere, with a nonlinear dependence on the parameters, the bowl does not have perfectly elliptical contours.\n\n\n"
      ]
    },
    {
      "cell_type": "code",
      "execution_count": null,
      "metadata": {
        "collapsed": false
      },
      "outputs": [],
      "source": [
        "Ys,Hs,Zs = sample_error(bilinear_model,data)\nplt.contourf(Ys,Hs,np.log(Zs),20)\nplt.grid(True)\nplt.xlabel(\"Y\")\nplt.ylabel(\"H\")\nplt.colorbar(label=\"log error\")"
      ]
    }
  ],
  "metadata": {
    "kernelspec": {
      "display_name": "Python 3",
      "language": "python",
      "name": "python3"
    },
    "language_info": {
      "codemirror_mode": {
        "name": "ipython",
        "version": 3
      },
      "file_extension": ".py",
      "mimetype": "text/x-python",
      "name": "python",
      "nbconvert_exporter": "python",
      "pygments_lexer": "ipython3",
      "version": "3.11.5"
    }
  },
  "nbformat": 4,
  "nbformat_minor": 0
}