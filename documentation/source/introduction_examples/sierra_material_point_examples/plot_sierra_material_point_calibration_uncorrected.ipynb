{
  "cells": [
    {
      "cell_type": "markdown",
      "metadata": {},
      "source": [
        "\n# Calibration With Unmodified Data and Objective: A Simple Calibration Gone Wrong\n\nIn this section, we once again present the calibration of our :class:`~matcal.sierra.models.UniaxialLoadingMaterialPointModel`\nto the uniaxial compression data. However, instead of manipulating the data and weighting the residuals like we did in the \n`sphx_glr_introduction_examples_sierra_material_point_examples_plot_sierra_material_point_calibration.py`\nexample, we ignore\nthe potential issues that were pointed out there and use the data as provided. Overall, \nthe exact same process is used in this calibration as \nwas used in the successful calibration; however, the data cleanup and residual weights modification is not \nperformed initially. See the `sphx_glr_introduction_examples_sierra_material_point_examples_plot_sierra_material_point_calibration.py`\nfor more of those details. First, we import and view the data: \n"
      ]
    },
    {
      "cell_type": "code",
      "execution_count": null,
      "metadata": {
        "collapsed": false
      },
      "outputs": [],
      "source": [
        "# sphinx_gallery_thumbnail_number = 13\n\nfrom matcal import *\nimport matplotlib.pyplot as plt\nplt.rc('text', usetex=True)\nplt.rc('font', family='serif')\nplt.rc('font', size=12)\nfigsize = (4,3)\n\ndata_collection = BatchDataImporter(\"uniaxial_material_point_data/*.csv\").batch \ndata_collection = scale_data_collection(data_collection, \"true_stress\", 1000)\ndata_collection.plot(\"true_strain\", \"true_stress\")\ndata_collection.plot(\"time\", \"true_strain\")"
      ]
    },
    {
      "cell_type": "markdown",
      "metadata": {},
      "source": [
        "We then create our material model parameters \nand the model we will be calibrating. \n\n"
      ]
    },
    {
      "cell_type": "code",
      "execution_count": null,
      "metadata": {
        "collapsed": false
      },
      "outputs": [],
      "source": [
        "Y = Parameter('Y', 30, 60, 50)\nA = Parameter('A', 1, 500, 100)\nb = Parameter('b', 5, 30, 20.001)\n\nj2_voce = Material(\"j2_voce\", \"sierra_sm_voce_hardening.inc\", \"j2_plasticity\")\n\nmat_point_model = UniaxialLoadingMaterialPointModel(j2_voce)\nmat_point_model.add_boundary_condition_data(data_collection)\nmat_point_model.set_name(\"compression_mat_point\")"
      ]
    },
    {
      "cell_type": "markdown",
      "metadata": {},
      "source": [
        "Next we setup the calibration and objective to be evaluated.\n\n"
      ]
    },
    {
      "cell_type": "code",
      "execution_count": null,
      "metadata": {
        "collapsed": false
      },
      "outputs": [],
      "source": [
        "calibration = GradientCalibrationStudy(Y, A, b)\ncalibration.set_results_storage_options(results_save_frequency=4)\nobjective = CurveBasedInterpolatedObjective('true_strain','true_stress')\ncalibration.add_evaluation_set(mat_point_model, objective, data_collection)\ncalibration.set_core_limit(4)"
      ]
    },
    {
      "cell_type": "markdown",
      "metadata": {},
      "source": [
        "Finally, we launch the calibration study and review the results.\n\n"
      ]
    },
    {
      "cell_type": "code",
      "execution_count": null,
      "metadata": {
        "collapsed": false
      },
      "outputs": [],
      "source": [
        "results = calibration.launch()\nprint(results.best)\nmake_standard_plots(\"true_strain\")"
      ]
    },
    {
      "cell_type": "markdown",
      "metadata": {},
      "source": [
        "The calibration completes with the Dakota output::\n\n      ***** X- AND RELATIVE FUNCTION CONVERGENCE *****\n\n"
      ]
    },
    {
      "cell_type": "markdown",
      "metadata": {},
      "source": [
        "indicating that the algorithm completed successfully. However, from \n the results plots it is clear that the model is not quite matching the data how\n we would expect. The objective value is also about 100 times higher than in the successful\n calibration. Finally, the calibrated parameters do not seem to line up with expectations due to\n the higher than expected yield stress and and very low saturation stress. \n This is due to two reasons. First, the unloading data is included in the objective, and\n the model doesn't seem to appropriately unload.  \n Second, the  \n :class:`~matcal.core.objective.CurveBasedInterpolatedObjective` requires data\n to have an independent field that is monotonically increasing. MatCal sorts \n the data so that is true. By sorting these data with the unloading section present,\n it incorrectly mixes the data around the unloading region, and the interpolation is meaningless.\n Even if MatCal did not sort the data, NumPy interp would return bad interpolation data, \n so without data preprocessing this calibration will not be performed correctly. \n\n After realizing these issues, let's add residual weighting to remove the\n high strain data as we did in the previous example. Then we can\n create a new study with the updated evaluation set and re-run the calibration.\n\n<div class=\"alert alert-danger\"><h4>Warning</h4><p>You currently cannot run the same study twice. \n   Even if objects that are fed into it have changed,\n   A new study must be made.</p></div>\n\n\n"
      ]
    },
    {
      "cell_type": "code",
      "execution_count": null,
      "metadata": {
        "collapsed": false
      },
      "outputs": [],
      "source": [
        "def remove_high_strain_from_residual(true_strains, true_stresses, residuals):\n    import numpy as np\n    weights = np.ones(len(residuals))\n    weights[(true_strains > 0.5)] = 0\n    return weights*residuals\n\nresidual_weights = UserFunctionWeighting(\"true_strain\", \"true_stress\", remove_high_strain_from_residual)\n\nobjective.set_field_weights(residual_weights)\n\nY = Parameter('Y', 30, 60, 51)\nA = Parameter('A', 1, 500, 110)\nb = Parameter('b', 5, 30, 21)"
      ]
    },
    {
      "cell_type": "markdown",
      "metadata": {},
      "source": [
        ".. include:: ../../multiple_dakota_studies_in_python_instance_warning.rst\n\n"
      ]
    },
    {
      "cell_type": "code",
      "execution_count": null,
      "metadata": {
        "collapsed": false
      },
      "outputs": [],
      "source": [
        "calibration = GradientCalibrationStudy(Y, A, b)\ncalibration.set_results_storage_options(results_save_frequency=4)\ncalibration.add_evaluation_set(mat_point_model, objective, data_collection)\ncalibration.set_core_limit(4)\n\nresults = calibration.launch()\nprint(results.best)\nmake_standard_plots(\"true_strain\")\nimport matplotlib.pyplot as plt"
      ]
    },
    {
      "cell_type": "markdown",
      "metadata": {},
      "source": [
        "Once again, the calibration completes with the Dakota output::\n\n  ***** RELATIVE FUNCTION CONVERGENCE *****\n\nindicating that the algorithm completed successfully. This time the \nresults even compare well to the data and the calibration produced parameters\nthat intuitively match what one would expect. However, a strange artifact \nis present in the simulation QoI true stress/strain curve. It still drops \nin the middle of the curve. This is due to the function passed to the boundary conditions.  \nThe experimental data has unloading at the end of the engineering strain time history,\nwhich resulted in the model partially unloading in the middle of its deformation. \nWhy did it unload in the middle of the displacement time history and not at the end?\nThere is another harder-to-notice issue lurking here. If we \nplot the simulation data, on top of the interpolated simulation QoIs\nit becomes clear.\n\n"
      ]
    },
    {
      "cell_type": "code",
      "execution_count": null,
      "metadata": {
        "collapsed": false
      },
      "outputs": [],
      "source": [
        "state_name = data_collection.state_names[0]\nbest_sim_results = results.best_simulation_data(mat_point_model, state_name)\nbest_sim_qois = results.best_simulation_qois(mat_point_model, objective, state_name, 0)\n\nplt.figure(figsize=(4,3), constrained_layout=True)\nplt.plot(best_sim_qois[\"true_strain\"], best_sim_qois[\"true_stress\"], 'ko', \n         label='interpolated qois')\nplt.plot(best_sim_results[\"true_strain\"], best_sim_results[\"true_stress\"], \n         label='simulation data')\nplt.legend()\nplt.xlabel(\"true strain\")\nplt.ylabel(\"true stress (psi)\")\nplt.show()"
      ]
    },
    {
      "cell_type": "markdown",
      "metadata": {},
      "source": [
        "You can see that the simulation data ends too early. \nThis occurs because MatCal prioritizes engineering strain over true strain in a data collection \nfor boundary condition generation and expects compressive strains to be negative. \nThe conversion of engineering strain to true strain is done using:\n\n\\begin{align}\\epsilon_t = \\log(\\epsilon_e+1)\\end{align}\n\nwhere $\\epsilon_e$ is the engineering strain.\nIf we evaluate the above equation for the max engineering strain for \ntension and then for compression, we see the difference in the final \napplied true strain.\n\n"
      ]
    },
    {
      "cell_type": "code",
      "execution_count": null,
      "metadata": {
        "collapsed": false
      },
      "outputs": [],
      "source": [
        "import numpy as np\nmax_strain = np.max(data_collection[\"matcal_default_state\"][1][\"engineering_strain\"])\ntrue_tension = np.log(max_strain+1)\ntrue_compression = np.log(-max_strain+1)\nprint(\"Final applied true strain if assumed tension:\",  true_tension)\nprint(\"Final applied true strain if assumed in compression:\", true_compression)"
      ]
    },
    {
      "cell_type": "markdown",
      "metadata": {},
      "source": [
        "When the measure engineering strain is applied in compression a larger true-strain\nis applied to the model.\n\nThis is illustrating the importance of data cleanup and processing when strain-time or \ndisplacement-time data \nis passed into a MatCal model \nto generate boundary conditions. Only clean and well understood data should be  \nprovided for boundary condition data when passing time-strain or time-displacement data to \nthe model. Also, any compression data used in the \n:class:`~matcal.sierra.models.UniaxialLoadingMaterialPointModel`\nshould always be supplied as negative for boundary condition generation and the objective.\nThe fact \nthat the positive strain values appeared to behave correctly here is due to the way NumPy interp\nfunctions during extrapolation and the model form. In some cases, it may fail more noticeably.\n\nTo get the correct behavior in this case, the engineering strain must be converted to negative\nsince it was taken in compression. \nOnce again, let's convert the data to negative \nsince it is compressive data and update the residual weighting\nfunction for compressive data.\nWe also select only the cleaner data, second data set \nto be used to define the model boundary condition.\nWe then make a new calibration and a new model\nwith the updated boundary condition\ndata to see how the results are affected.\n\n"
      ]
    },
    {
      "cell_type": "code",
      "execution_count": null,
      "metadata": {
        "collapsed": false
      },
      "outputs": [],
      "source": [
        "data_collection = scale_data_collection(data_collection, \"true_stress\", -1)\ndata_collection = scale_data_collection(data_collection, \"true_strain\", -1)\n\nboundary_data = data_collection[\"matcal_default_state\"][1]\nboundary_data = boundary_data[[\"engineering_strain\"]]\nboundary_data[\"engineering_strain\"] *= -1\nboundary_data.set_name(\"dataset 1 derived BC data\")\nboundary_data_collection = DataCollection('boundary_data', boundary_data)\n\nmat_point_model = UniaxialLoadingMaterialPointModel(j2_voce)\nmat_point_model.add_boundary_condition_data(boundary_data_collection)\nmat_point_model.set_name(\"compression_mat_point\")\n\ndef remove_high_strain_from_residual(true_strains, true_stresses, residuals):\n    import numpy as np\n    weights = np.ones(len(residuals))\n    weights[(-true_strains > 0.5)] = 0\n    return weights*residuals\n\nresidual_weights = UserFunctionWeighting(\"true_strain\", \"true_stress\", remove_high_strain_from_residual)\n\nobjective.set_field_weights(residual_weights)\n\n\nY = Parameter('Y', 30, 60, 50.5)\nA = Parameter('A', 1, 500, 100.25)\nb = Parameter('b', 5, 30, 20.12)"
      ]
    },
    {
      "cell_type": "markdown",
      "metadata": {},
      "source": [
        ".. include:: ../../multiple_dakota_studies_in_python_instance_warning.rst\n\n"
      ]
    },
    {
      "cell_type": "code",
      "execution_count": null,
      "metadata": {
        "collapsed": false
      },
      "outputs": [],
      "source": [
        "calibration = GradientCalibrationStudy(Y, A, b)\ncalibration.set_results_storage_options(results_save_frequency=4)\ncalibration.add_evaluation_set(mat_point_model, objective, data_collection)\ncalibration.set_core_limit(4)\n\nresults = calibration.launch()"
      ]
    },
    {
      "cell_type": "markdown",
      "metadata": {},
      "source": [
        "The results from this calibration reproduce the results from the \n`Successful Calibration` and match the data well. Generally, \ncalibrations will require some data clean up and manipulation to \nwork well and provide the desired results. \n\n"
      ]
    },
    {
      "cell_type": "code",
      "execution_count": null,
      "metadata": {
        "collapsed": false
      },
      "outputs": [],
      "source": [
        "print(results.best)\nmake_standard_plots(\"true_strain\")"
      ]
    },
    {
      "cell_type": "markdown",
      "metadata": {},
      "source": [
        "We can also plot the simulation data with the qois \nagain and show the model has been deformed enough \nto not use NumPy interp's results padding.\n\n"
      ]
    },
    {
      "cell_type": "code",
      "execution_count": null,
      "metadata": {
        "collapsed": false
      },
      "outputs": [],
      "source": [
        "best_sim_results = results.best_simulation_data(mat_point_model, state_name)\nbest_sim_qois = results.best_simulation_qois(mat_point_model, objective, state_name, 0)\n\nplt.figure(figsize=(4,3), constrained_layout=True)\nplt.plot(best_sim_qois[\"true_strain\"], best_sim_qois[\"true_stress\"], 'ko', \n         label='interpolated qois')\nplt.plot(best_sim_results[\"true_strain\"], best_sim_results[\"true_stress\"], \n         label='simulation data')\nplt.legend()\nplt.xlabel(\"true strain\")\nplt.ylabel(\"true stress (psi)\")\nplt.show()"
      ]
    }
  ],
  "metadata": {
    "kernelspec": {
      "display_name": "Python 3",
      "language": "python",
      "name": "python3"
    },
    "language_info": {
      "codemirror_mode": {
        "name": "ipython",
        "version": 3
      },
      "file_extension": ".py",
      "mimetype": "text/x-python",
      "name": "python",
      "nbconvert_exporter": "python",
      "pygments_lexer": "ipython3",
      "version": "3.11.5"
    }
  },
  "nbformat": 4,
  "nbformat_minor": 0
}