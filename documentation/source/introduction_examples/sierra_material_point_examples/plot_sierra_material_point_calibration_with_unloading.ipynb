{
  "cells": [
    {
      "cell_type": "markdown",
      "metadata": {},
      "source": [
        "\n# Calibration With Unloading: A Stress vs. Time Calibration Needs Attention to Detail\n\nIn this section, we approach the calibration of the  :class:`~matcal.sierra.models.UniaxialLoadingMaterialPointModel`\nto the Ductile Failure 6061-T6 compression data a little differently. For the more traditional approach see the\n`sphx_glr_introduction_examples_sierra_material_point_examples_plot_sierra_material_point_calibration.py`.\nMatCal's objective tools allow significant flexibility in how the objective for calibrations are built.\nAlso, the :class:`~matcal.sierra.models.UniaxialLoadingMaterialPointModel` allows \nflexibility in the way the boundary conditions are derived from data. In this example, we highlight \nthis flexibility by using strain versus time data to define the model boundary condition \nso that it simulates both loading and unloading.\nWe then define an objective with time as the independent variable and true stress as the dependent variable in the \n:class:`~matcal.core.objective.CurveBasedInterpolatedObjective`. In addition to the plasticity\nparameters calibrated in the previous example, we add the \nelastic modulus as a calibrated parameter for this study. Generally, this is not \nrecommended as the isotropic elastic \nproperties of metals are readily available in the literature. However, we want \nto make use of the additional information provided to the objective when including \nthe elastic unloading portion of \nthe data in the model. A more practical use of calibrating to stress-time history \nwould be calibrating a model to cyclical loading that has cycle dependent behavior\nsuch as calibrating a model with isotropic and kinematic hardening.\n\nOnce again, the overall approach to this calibration is the same as the previous examples\nand includes:\n\n    #. Data overview, analysis and preprocessing.\n    #. Model selection and preparation.\n    #. Calibration execution and results review.\n \nTo begin, import all of MatCal's calibration tools:\n"
      ]
    },
    {
      "cell_type": "code",
      "execution_count": null,
      "metadata": {
        "collapsed": false
      },
      "outputs": [],
      "source": [
        "# sphinx_gallery_thumbnail_number = 8\nfrom matcal import *\nimport matplotlib.pyplot as plt\nplt.rc('text', usetex=True)\nplt.rc('font', family='serif')\nplt.rc('font', size=12)\nfigsize = (4,3)"
      ]
    },
    {
      "cell_type": "markdown",
      "metadata": {},
      "source": [
        "Then load the data using the :class:`~matcal.core.data_importer.BatchDataImporter` and \nperform minor data manipulation. Remove the time offsets as was done in\nthe previous examples and scale the true stress data from ksi to psi. Finally, \nwe must preprocess the strain-time functions in the data appropriately so that they are \ninterpreted correctly by the :class:`~matcal.sierra.models.UniaxialLoadingMaterialPointModel`.\nSince the data as provided by the experimentalists are positive, MatCal \nwould interpret the engineering strain function as a tensile strain which would be invalid.\nThis can be corrected in two ways, (1) we can make the data negative before\npassing it to the model so that it applies the engineering strain-time function\ncorrectly in compression or (2) remove the engineering strain\ndata from the data collection and MatCal will calculate the appropriate tensile boundary\ncondition from the positive true strain data. This is valid for this calibration due to the simple \nmaterial model we are currently calibrating but could be invalid for models \nwith tension/compression asymmetry. For this study, we will\nselect the latter method and work only with the true stress/strain data\nby completely removing the engineering strain data from the data set. \n\n<div class=\"alert alert-info\"><h4>Note</h4><p>We recommend making the data negative if the test was compressive to set\n   a standard process for calibration regardless of model form. We deviate\n   from that recommendation here to demonstrate how to manipulate data in MatCal.</p></div>\n\n"
      ]
    },
    {
      "cell_type": "code",
      "execution_count": null,
      "metadata": {
        "collapsed": false
      },
      "outputs": [],
      "source": [
        "data_collection = BatchDataImporter(\"uniaxial_material_point_data/*.csv\").batch\nfor state_data_list in data_collection.values():\n  for data in state_data_list:\n    data['time'] = data['time'] - data['time'][0]\n    len_data = len(data[\"time\"])\n    data = data[[\"true_strain\", \"true_stress\", \"time\"]][::int(len_data/200)]\ndata_collection = scale_data_collection(data_collection, \"true_strain\", 1)\ndata_collection = scale_data_collection(data_collection, \"true_stress\", 1000)\n\ndata_collection.plot(\"time\", \"true_strain\")"
      ]
    },
    {
      "cell_type": "markdown",
      "metadata": {},
      "source": [
        "As done in the previous examples, we will need to calibrate the $Y$, $A$, and $b$ parameters\nfor the J2 plasticity model with Voce hardening. \nWe define our parameters below with the addition of the modulus of \nelasticity parameter $E$ as discussed earlier. \n\n"
      ]
    },
    {
      "cell_type": "code",
      "execution_count": null,
      "metadata": {
        "collapsed": false
      },
      "outputs": [],
      "source": [
        "Y = Parameter('Y', 30, 60, 50, units='ksi')\nA = Parameter('A', 1, 500, 100.001, units='ksi')\nb = Parameter('b', 5, 30, 20, units='ksi')\nE = Parameter('E', 5000, 120000, 10000, units='ksi')"
      ]
    },
    {
      "cell_type": "markdown",
      "metadata": {},
      "source": [
        "The :class:`~matcal.sierra.material.Material` class \ndefinition is the same as the previous examples, but the material file\ninput deck is modified for the elastic modulus parameter as shown below::\n\n   begin material j2_voce\n     density = 0.000254\n     begin parameters for model j2_plasticity\n       youngs modulus                = {E*1e3}\n       poissons ratio                =   0.33\n       yield stress                  = {Y*1e3}\n\n       hardening model = voce\n       hardening modulus = {A*1e3}\n       exponential coefficient = {b} \n      end\n   end\n\nWith this SIERRA/SM input saved in the current directory as \"sierra_sm_voce_hardening_with_elastic_modulus.inc\", \nwe can create the updated :class:`~matcal.sierra.material.Material` and \n:class:`~matcal.sierra.models.UniaxialLoadingMaterialPointModel` objects. \n\n"
      ]
    },
    {
      "cell_type": "code",
      "execution_count": null,
      "metadata": {
        "collapsed": false
      },
      "outputs": [],
      "source": [
        "j2_voce = Material(\"j2_voce\", \"sierra_sm_voce_hardening_with_elastic_modulus.inc\", \"j2_plasticity\")\n\nmat_point_model = UniaxialLoadingMaterialPointModel(j2_voce)\nmat_point_model.add_boundary_condition_data(data_collection)\nmat_point_model.set_name(\"compression_mat_point\")"
      ]
    },
    {
      "cell_type": "markdown",
      "metadata": {},
      "source": [
        "Next, we create the study and the objective before adding \nthe desired evaluation set to the study and running it. \nThe objective specification here is similar to the previous example, \nbut now has time as the independent variable.\n\n"
      ]
    },
    {
      "cell_type": "code",
      "execution_count": null,
      "metadata": {
        "collapsed": false
      },
      "outputs": [],
      "source": [
        "calibration = GradientCalibrationStudy(Y, A, b, E)\ncalibration.set_results_storage_options(results_save_frequency=5)\nobjective = CurveBasedInterpolatedObjective('time','true_stress')\ncalibration.add_evaluation_set(mat_point_model, objective, data_collection)\ncalibration.set_core_limit(5)\nresults = calibration.launch()\nprint(results.best)\nmake_standard_plots(\"time\")\nimport matplotlib.pyplot as plt\nfig = plt.gcf()\nfig.set_size_inches(8,8)"
      ]
    },
    {
      "cell_type": "markdown",
      "metadata": {},
      "source": [
        "The calibration completes and indicates success with the following output.::\n\n  ***** RELATIVE FUNCTION CONVERGENCE *****\n\nHowever, the result plots once again show a fit that appears suboptimal and the \nparameter values are not near the expected values. The yield is much lower than \nthe expected value of ~42 ksi and the elastic modulus is very high at ~21000 ksi.\nCloser inspection of the experiment/simulation QoI plot shows that this is due to \na relatively minor difference between the stress-time data for the \ntwo experimental data sets used in the objective. This discrepancy is shown \nin the zoomed in figure below where an 8 second\ndelay before deformation initiates is observed for the C-ST-01 sample. Since we are using the \nstrain-time history from the C-RD-01 sample with deformation beginning near \ntime = 0, the stress-time history for the model will not match the\nC-ST-01 data. As a result, the objective is poorly defined which leads to \na low-quality fit. \n\n"
      ]
    },
    {
      "cell_type": "code",
      "execution_count": null,
      "metadata": {
        "collapsed": false
      },
      "outputs": [],
      "source": [
        "import matplotlib.pyplot as plt\nzoom_fig = plt.figure(\"zoom_view\", constrained_layout=True)\ndata_collection.plot(\"time\", \"true_strain\", figure=zoom_fig)\nplt.xlim([0, 35])\nplt.ylim([0, 0.05])"
      ]
    },
    {
      "cell_type": "markdown",
      "metadata": {},
      "source": [
        "We can once again use MatCal tools to correct the data. \nSince we only want to modify one of the data sets, we do not \nimport them all with the :class:`~matcal.core.data_importer.BatchDataImporter`. \nInstead, we import them individually using the :func:`~matcal.core.data_importer.FileData` \nutility and modify only the data set with the issue as shown below. A :class:`~matcal.core.data.Scaling`\nobject is then used to apply the correct 8 second offset to the RD data set. Then \nwe plot the data to verify the results are as intended.\n\n"
      ]
    },
    {
      "cell_type": "code",
      "execution_count": null,
      "metadata": {
        "collapsed": false
      },
      "outputs": [],
      "source": [
        "data_RD = FileData(\"uniaxial_material_point_data/true_engineering_stress_strain_compression_C-RD-01.csv\")\ndata_RD['time'] = data_RD['time'] - data_RD['time'][0]\nlen_data_RD = len(data_RD[\"time\"])\ndata_RD = data_RD[[\"time\", \"true_stress\", \"true_strain\"]][1:len_data_RD+1:int(len_data_RD/200)]\ndata_RD_offset_scaling = Scaling(\"time\", offset = -8)\ndata_RD = data_RD_offset_scaling.apply_to_data(data_RD)\n\ndata_ST = FileData(\"uniaxial_material_point_data/true_engineering_stress_strain_compression_C-ST-01.csv\")\ndata_ST['time'] = data_ST['time'] - data_ST['time'][0]\nlen_data_ST = len(data_ST[\"time\"])\ndata_ST = data_ST[[\"time\", \"true_stress\", \"true_strain\"]][:len_data_ST+1:int(len_data_ST/200)]\n\ndata_collection = DataCollection(\"compression data\", data_RD, data_ST)\ndata_collection = scale_data_collection(data_collection, \"true_strain\", 1)\ndata_collection = scale_data_collection(data_collection, \"true_stress\", 1000)\n\ndata_collection.plot(\"time\", \"true_strain\")"
      ]
    },
    {
      "cell_type": "markdown",
      "metadata": {},
      "source": [
        "With the data appropriately modified we can re-run the \ncalibration study and review the results. We re-initialize\nthe model and study with the updated data collection and\nthen launch the updated calibration.\n\n"
      ]
    },
    {
      "cell_type": "code",
      "execution_count": null,
      "metadata": {
        "collapsed": false
      },
      "outputs": [],
      "source": [
        "mat_point_model = UniaxialLoadingMaterialPointModel(j2_voce)\nmat_point_model.add_boundary_condition_data(data_collection)\nmat_point_model.set_name(\"compression_mat_point\")\n\nY = Parameter('Y', 30, 60, 51, units='ksi')\nA = Parameter('A', 1, 500, 100, units='ksi')\nb = Parameter('b', 5, 30, 20, units='ksi')\nE = Parameter('E', 5000, 120000, 10000, units='ksi')"
      ]
    },
    {
      "cell_type": "markdown",
      "metadata": {},
      "source": [
        ".. include:: ../../multiple_dakota_studies_in_python_instance_warning.rst\n\n\n"
      ]
    },
    {
      "cell_type": "code",
      "execution_count": null,
      "metadata": {
        "collapsed": false
      },
      "outputs": [],
      "source": [
        "calibration = GradientCalibrationStudy(Y, A, b, E)\ncalibration.set_results_storage_options(results_save_frequency=5)\ncalibration.add_evaluation_set(mat_point_model, objective, data_collection)\ncalibration.set_core_limit(5)\nresults = calibration.launch()\nprint(results.best)\nmake_standard_plots(\"time\")\nimport matplotlib.pyplot as plt\nfig = plt.gcf()\nfig.set_size_inches(8,8)"
      ]
    },
    {
      "cell_type": "markdown",
      "metadata": {},
      "source": [
        "The calibration completes and indicates success with the following output::\n\n  ***** RELATIVE FUNCTION CONVERGENCE *****\n\nThe result plots show good agreement between the simulation and experiments. Additionally,  \nthe calibrated parameter values match the stresses observed in the data with a yield stress \nof ~42 ksi and a saturation stress of ~55 ksi. Note that the elastic modulus seems low at 8,177 ksi versus the \nexpected ~10,000 ksi for aluminum.\nAs mentioned earlier, the elastic modulus should generally not be calibrated to tension or \ncompression data since it is well known and documented in the literature. \n\n"
      ]
    }
  ],
  "metadata": {
    "kernelspec": {
      "display_name": "Python 3",
      "language": "python",
      "name": "python3"
    },
    "language_info": {
      "codemirror_mode": {
        "name": "ipython",
        "version": 3
      },
      "file_extension": ".py",
      "mimetype": "text/x-python",
      "name": "python",
      "nbconvert_exporter": "python",
      "pygments_lexer": "ipython3",
      "version": "3.11.5"
    }
  },
  "nbformat": 4,
  "nbformat_minor": 0
}