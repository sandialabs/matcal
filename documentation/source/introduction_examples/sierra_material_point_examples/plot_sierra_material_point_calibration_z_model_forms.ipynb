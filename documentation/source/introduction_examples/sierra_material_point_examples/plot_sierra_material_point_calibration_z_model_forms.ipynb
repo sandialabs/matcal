{
  "cells": [
    {
      "cell_type": "markdown",
      "metadata": {},
      "source": [
        "\n# Exploring Different Model Forms: For Better and Worse...\n\nThis last section will explore calibrating different model forms to the Ductile Failure \n6061-T6 aluminum compression data. We will show how the final objective function values \nfor a set of calibrated models can be used to help decide which is the best model form \nfor the data. However, we will also show how overfitting a model could provide a better \nobjective value over another model form but be a poor model for the material. We do this \nwith three additional calibrations for the following three model forms:\n\n#. Double Voce hardening \n#. Power law hardening without Luders strain \n#. Power law hardening with Luders strain.\n\nThe flow rule for Double Voce hardening is defined by:\n\n\\begin{align}\\sigma_f = Y + A_1\\left[1-\\exp\\left(-b_1\\varepsilon_p\\right)\\right] + A_2\\left[1-\\exp\\left(-b_2\\varepsilon\\right)\\right]\\end{align}\n\nwhere $Y$ is the yield, $\\varepsilon_p$ is the material equivalent plastic strain\nand $A_1$, $b_1$, $A_2$, $b_2$ are the parameters for the two Voce hardening model components that \nwe are using for this calibration. \nThis hardening model allows for a little more flexibility when fitting material data. Generally, it results in a lower yield stress\nand one of the Voce components is used to model the low strain portion of the curve just before yield while the other Voce component \nis used to model the high strain portion of the curve. \n\nThe flow rule for \npower law hardening is \n\n\\begin{align}\\sigma_f = Y + A\\left<\\varepsilon_p-\\varepsilon_L\\right>^n\\end{align}\n\nwhere $Y$ is once again the material yield, $A$ is the hardening modulus,  \n$n$ is the hardening exponent and $\\varepsilon_L$ is the Luders strain.\nPower law hardening is a commonly used engineering material model\nthat cannot simulate materials with a clear saturation stress such as the aluminum being studied\nhere. We will look at two forms of this model, one where the Luders strain is set to zero and \nanother where we allow it to calibrate the Luders strain to the data even though Luders strain \nis clearly not present in this material data set.\n\nWe begin this example as we have the others by first importing the calibration tools and the data \nbefore setting up the models.\n"
      ]
    },
    {
      "cell_type": "code",
      "execution_count": null,
      "metadata": {
        "collapsed": false
      },
      "outputs": [],
      "source": [
        "# sphinx_gallery_thumbnail_number = 5\n\nfrom matcal import *\nimport matplotlib.pyplot as plt\n\nplt.rc('text', usetex=True)\nplt.rc('font', family='serif')\nplt.rc('font', size=12)\nfigsize = (4,3)\n\ndata_collection = BatchDataImporter(\"uniaxial_material_point_data/*.csv\").batch"
      ]
    },
    {
      "cell_type": "markdown",
      "metadata": {},
      "source": [
        "For these calibrations, we will follow the \n`sphx_glr_introduction_examples_sierra_material_point_examples_plot_sierra_material_point_calibration.py`\nexample for data manipulation and overall objective setup since we know that setup works well.\nOur goal here is only to observe the effect of model form on the calibration results. The data and \nobjective preparation\nfrom that example is shown again here.\n\n\n"
      ]
    },
    {
      "cell_type": "code",
      "execution_count": null,
      "metadata": {
        "collapsed": false
      },
      "outputs": [],
      "source": [
        "for state_data_list in data_collection.values():\n  for data in state_data_list:\n    data['time'] = data['time'] - data['time'][0]\n\nboundary_data = data_collection[\"matcal_default_state\"][1]\nboundary_data = boundary_data[[\"engineering_strain\"]]\nboundary_data.set_name(\"dataset 1 derived BC data\")\nboundary_data_collection = DataCollection('boundary_data', boundary_data)\nboundary_data_collection = scale_data_collection(boundary_data_collection, \"engineering_strain\", -1)\n\ndata_collection = scale_data_collection(data_collection, \"true_strain\", -1)\ndata_collection = scale_data_collection(data_collection, \"true_stress\", -1000)\n\nobjective = CurveBasedInterpolatedObjective('true_strain','true_stress')\n\ndef remove_high_and_low_strain_from_residual(true_strains, true_stresses, residuals):\n    import numpy as np\n    weights = np.ones(len(residuals))\n    weights[(-true_strains > 0.5) | (-true_strains < 0.0035)] = 0\n    return weights*residuals\n\nresidual_weights = UserFunctionWeighting(\"true_strain\", \"true_stress\", remove_high_and_low_strain_from_residual)\n\nobjective.set_field_weights(residual_weights)"
      ]
    },
    {
      "cell_type": "markdown",
      "metadata": {},
      "source": [
        "Now we can create a couple :class:`~matcal.sierra.material.Material` classes \nand the corresponding material file for the calibrations to follow. \nThe input deck for the SIERRA/SM material models of \ninterest for is shown below::\n\n    begin function double_voce\n        type is analytic\n        evaluate expression = \"{Y*1e3}+{A1*1e3}*(1-exp(-{b1}*x))+{A2*1e3}*(1-exp(-{b2}*x))\"\n        differentiate expression = \"{A1*b1*1e3}*(exp(-{b1}*x))+{A2*b2*1e3}*(exp(-{b2}*x))\"\n    end\n\n    begin material j2_double_voce\n        density = 0.000254\n        begin parameters for model j2_plasticity\n        youngs modulus                = 9.9e6\n        poissons ratio                =   0.33\n        yield stress                  = {Y*1e3}\n\n        hardening model = user_defined\n        hardening function = double_voce\n        end\n    end\n\n    begin material j2_power_law\n        density = 0.000254\n        begin parameters for model j2_plasticity\n        youngs modulus                = 9.9e6\n        poissons ratio                =   0.33\n        yield stress                  = {Y*1e3}\n\n        hardening model = power_law\n        hardening constant = {A*1e3}\n        hardening exponent = {n}\n        luders strain = {epsilon_l}\n        end\n    end\n\nAs was done in the \n`sphx_glr_introduction_examples_sierra_material_point_examples_plot_sierra_material_point_calibration.py`\nexample, the elastic\nproperties and density are pulled from MMPDS :cite:p:`MMPDS10`. \nWith this SIERRA/SM input saved in the current directory as \"sierra_sm_multiple_hardening_forms.inc\", \nwe can create the two :class:`~matcal.sierra.material.Material` objects and the \ntwo :class:`~matcal.sierra.models.UniaxialLoadingMaterialPointModel` objects we will be using \nfor the calibrations. \n\n\n"
      ]
    },
    {
      "cell_type": "code",
      "execution_count": null,
      "metadata": {
        "collapsed": false
      },
      "outputs": [],
      "source": [
        "j2_double_voce = Material(\"j2_double_voce\", \"sierra_sm_multiple_hardening_forms.inc\", \"j2_plasticity\")\nj2_power_law = Material(\"j2_power_law\", \"sierra_sm_multiple_hardening_forms.inc\", \"j2_plasticity\")\n\nmat_point_model_DV = UniaxialLoadingMaterialPointModel(j2_double_voce)\nmat_point_model_DV.add_boundary_condition_data(boundary_data_collection)\nmat_point_model_DV.set_name(\"compression_mat_point_DV\")\n\nmat_point_model_PL = UniaxialLoadingMaterialPointModel(j2_power_law)\nmat_point_model_PL.add_boundary_condition_data(boundary_data_collection)\nmat_point_model_PL.set_name(\"compression_mat_point_PL\")\nmat_point_model_PL.add_constants(epsilon_l=0.0)"
      ]
    },
    {
      "cell_type": "markdown",
      "metadata": {},
      "source": [
        "<div class=\"alert alert-info\"><h4>Note</h4><p>We use :meth:`~matcal.sierra.models.UniaxialLoadingMaterialPointModel.add_constants` to set the \"epsilon_l\" parameter to zero\n     for the first round of the calibration. Since it is not included in the parameters for this first study, it will\n     be set to the constant value zero as a model constant. When we use it as a study parameter for the second calibration study, \n     the model constant value will be overridden by the values specified during the study as described in the \n     method's documentation linked above.</p></div>\n\n\n"
      ]
    },
    {
      "cell_type": "markdown",
      "metadata": {},
      "source": [
        "Next, we setup the parameters and two of the calibration \nstudies we will be performing. Once again, we will \nuse a :class:`~matcal.dakota.local_calibration_studies.GradientCalibrationStudy`\nto perform the calibrations. We setup the \ndouble Voce calibration followed by the power law \nmodel calibration without Luders strain. Then we run the calibrations and \nreview the results.\n\n"
      ]
    },
    {
      "cell_type": "code",
      "execution_count": null,
      "metadata": {
        "collapsed": false
      },
      "outputs": [],
      "source": [
        "Y = Parameter('Y', 20, 60, 40)\nA1 = Parameter('A1', 0, 25, 12)\nb1 = Parameter('b1', 5, 30, 20)\nA2 = Parameter('A2', 0, 10, 5)\nb2 = Parameter('b2', 30, 5000, 600)\n\ncalibration_DV = GradientCalibrationStudy(Y, A1, b1, A2, b2)\ncalibration_DV.set_results_storage_options(results_save_frequency=6)\n\nY = Parameter('Y', 30, 60, 50)\nA = Parameter('A', 1, 5000, 1000)\nn = Parameter('n', 0, 1, 0.5)\n\ncalibration_PL = GradientCalibrationStudy(Y, A, n)\ncalibration_PL.set_results_storage_options(results_save_frequency=4)\ncalibration_DV.add_evaluation_set(mat_point_model_DV, objective, data_collection)\ncalibration_PL.add_evaluation_set(mat_point_model_PL, objective, data_collection)\n\ncalibration_DV.set_core_limit(6)\ncalibration_PL.set_core_limit(4)\n\nresults_DV = calibration_DV.launch()\nmake_standard_plots(\"true_strain\")\nprint(results_DV.best)"
      ]
    },
    {
      "cell_type": "markdown",
      "metadata": {},
      "source": [
        "The double Voce calibration completes with the Dakota output::\n\n  ***** RELATIVE FUNCTION CONVERGENCE *****\n\nindicating that the algorithm completed successfully. Once again, from \nthe plots it is clear that the model matches the experimental \ndata well, and the final objective function value of around 0.005542 \nindicates an improved fit over the \n`sphx_glr_introduction_examples_sierra_material_point_examples_plot_sierra_material_point_calibration.py`\nexample.\nThe objective function has decreased by 19.9% with the double Voce model over the single Voce model.\nAlso, the calibrated parameter values, show that the saturation stress is still approximately 55 ksi while\nthe yield has decreased as expected to 35.9 ksi. \nAll of these indicate that the double Voce model is an improved model form over the single Voce form. \nHowever, this would be further supported with validation data where the double Voce model was shown to \nbe more predictive than the single Voce model.\n\n"
      ]
    },
    {
      "cell_type": "code",
      "execution_count": null,
      "metadata": {
        "collapsed": false
      },
      "outputs": [],
      "source": [
        "results_PL = calibration_PL.launch()\nmake_standard_plots(\"true_strain\")\nprint(results_PL.best)"
      ]
    },
    {
      "cell_type": "markdown",
      "metadata": {},
      "source": [
        "Similarly, the power law calibration completes with the Dakota output::\n\n  ***** X- AND RELATIVE FUNCTION CONVERGENCE *****\n\nindicating a successful calibration.\nAs expected, the plots show that the model form does not match the data well.\nAdditionally, the final objective function value of around 0.01492\nindicates the model form is noticeably worse than the single and double Voce model forms\ninvestigated previously. Finally, the calibration is forcing the yield to be much below the expected\nvalue of near 40 ksi. In fact, it would drive the yield lower, but the algorithm\nis hitting the specified lower bound. This is showing that the model is being \"over-fit\" to the data.\nOverfitting occurs when a model is matches the calibration data as well as possible but does not perform \nwell when predicting behavior in validation cases for the model. By dropping the yield so low, \nthis model would not do well in applications where the model was loaded near yield and \nwould likely over predict plastic strains.\n\n"
      ]
    },
    {
      "cell_type": "code",
      "execution_count": null,
      "metadata": {
        "collapsed": false
      },
      "outputs": [],
      "source": [
        "mat_point_model_PL.set_name(\"compression_mat_point_PL_var\")\nepsilon_l = Parameter('epsilon_l', 0, 0.1, 0)\ncalibration_PL = GradientCalibrationStudy(Y, A, n, epsilon_l)\ncalibration_PL.set_results_storage_options(results_save_frequency=5)\ncalibration_PL.add_evaluation_set(mat_point_model_PL, objective, data_collection)\ncalibration_PL.set_core_limit(5)\n\nresults_PL_2 = calibration_PL.launch()\nmake_standard_plots(\"true_strain\")\nprint(results_PL_2.best)"
      ]
    },
    {
      "cell_type": "markdown",
      "metadata": {},
      "source": [
        "Lastly, the power law calibration with Luders strain completes with the Dakota output::\n\n  ***** RELATIVE FUNCTION CONVERGENCE *****\n\nagain, indicating a successful calibration.\nAs expected, the plots once again show that the model does not match the data well.\nThe final objective function value of around 0.01374\nindicates the model form is noticeably worse than the single and double Voce model forms\ninvestigated previously, but better than the power law calibration without luders strain.\nHowever, from the QoI plots it is clear that this is not the case. This is a clear example of \noverfitting the data. The Luders strain parameter should be set to zero as it is not \na mechanism apparent in the data. However, the calibration determined that by using Luders strain \nthe overall objective could be reduced. In this case, overfitting is glaringly obvious, but in actual applications\nthat may not be so.\n\nIn closing, we demonstrated how the objective function value of a calibrated model is a metric of material model form \nquality for a given set of data. We also showed that more information is needed to appropriately\nselect the best model form for a simulation or suite of simulations.\nIn general, once a model has been calibrated use your knowledge of the material, its application,\nand hopefully some validation experiments and simulations to choose a final material model form.\n"
      ]
    }
  ],
  "metadata": {
    "kernelspec": {
      "display_name": "Python 3",
      "language": "python",
      "name": "python3"
    },
    "language_info": {
      "codemirror_mode": {
        "name": "ipython",
        "version": 3
      },
      "file_extension": ".py",
      "mimetype": "text/x-python",
      "name": "python",
      "nbconvert_exporter": "python",
      "pygments_lexer": "ipython3",
      "version": "3.11.5"
    }
  },
  "nbformat": 4,
  "nbformat_minor": 0
}