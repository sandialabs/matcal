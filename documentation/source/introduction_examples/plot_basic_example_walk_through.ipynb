{
  "cells": [
    {
      "cell_type": "markdown",
      "metadata": {},
      "source": [
        "\n# Linear Python Model Example\n\nThis section applies many of the topics introduced in the previous chapter \nto a simple calibration of \nthe equation of a line ($y=\\text{m}x+\\text{b}$) to data.\nWhile the example is simple it contains all of the fundamental topics necessary \nfor more advanced calibrations. \n\nAt the top of all Python files is typically the location where all of the\nmodules are imported. Here \nwe import all of MatCal's tools. \n"
      ]
    },
    {
      "cell_type": "code",
      "execution_count": null,
      "metadata": {
        "collapsed": false
      },
      "outputs": [],
      "source": [
        "from matcal import *"
      ]
    },
    {
      "cell_type": "markdown",
      "metadata": {},
      "source": [
        "We use the ``from <> import *`` format to import all of the user facing \nobjects and functions into Python from MatCal. \nThe first thing to do in a MatCal study is to define what are our \nparameters of interest. \nFor this example, a line is being optimized to fit a set of data; therefore, \nthere are two parameters of interest: the slope and the y intercept.\n\n"
      ]
    },
    {
      "cell_type": "code",
      "execution_count": null,
      "metadata": {
        "collapsed": false
      },
      "outputs": [],
      "source": [
        "slope = Parameter('slope', 0, 10, 9.9)"
      ]
    },
    {
      "cell_type": "markdown",
      "metadata": {},
      "source": [
        "In the previous line, a :class:`~matcal.core.parameters.Parameter` object \nis created and assigned to ``slope``.\nThe :class:`~matcal.core.parameters.Parameter` class is used by MatCal to \ndesignate and characterize the parameters of interest. \nThe parameter  class has three mandatory ordered arguments: the parameter \nname, a lower bound, and an upper bound. \nThe parameter name is the name that the model will use to look up the \nparameter value. \nThe lower and upper bounds bracket the parameter investigation range. \n\n"
      ]
    },
    {
      "cell_type": "code",
      "execution_count": null,
      "metadata": {
        "collapsed": false
      },
      "outputs": [],
      "source": [
        "y_int = Parameter('y0', -10, 10)"
      ]
    },
    {
      "cell_type": "markdown",
      "metadata": {},
      "source": [
        "Here another :class:`~matcal.core.parameters.Parameter` object is \ncreated for the y-intercept. \nThere are a couple differences in this object instantiation versus \nthe previous.\nFirst, the parameter name and the name of the variable storing the \nparameter object do not have the same name. \nIn practice, it is useful to make sure that those names are similar, \nbecause it makes the code more readable. \nSecond, the parameter object is taking in four inputs instead of three. \nThe fourth input is optional and will dictate the current parameter value. \nIf no current value is passed as an argument, the current value is assigned \nto be the midpoint between the lower and upper bound.\n\nNext the parameters are bundled together into\na :class:`~matcal.core.parameters.ParameterCollection`.\n\n"
      ]
    },
    {
      "cell_type": "code",
      "execution_count": null,
      "metadata": {
        "collapsed": false
      },
      "outputs": [],
      "source": [
        "my_parameters = ParameterCollection('line parameters', slope, y_int)"
      ]
    },
    {
      "cell_type": "markdown",
      "metadata": {},
      "source": [
        "This is an object that holds the parameters and makes it easier to \nmove the related set of parameters around. There are other types of \nCollections in MatCal that behave in a similar manner. \nTo create the collection a collection name is passed into the constructor \nfollowed by all items to become part of the collection separated by commas.\n\nNow that the parameters of interest have been defined, we can create a \nMatCal study to act on these parameters. \n\n"
      ]
    },
    {
      "cell_type": "code",
      "execution_count": null,
      "metadata": {
        "collapsed": false
      },
      "outputs": [],
      "source": [
        "my_calibration = GradientCalibrationStudy(my_parameters)\nmy_calibration.set_results_storage_options(results_save_frequency=len(my_parameters)+1)"
      ]
    },
    {
      "cell_type": "markdown",
      "metadata": {},
      "source": [
        "The central MatCal tool is a study. As discussed in `MatCal Studies`, \na study will assess how the parameters \naffect a model's response when compared to a set of data using an objective. \nIn this case, the goal is to calibrate the slope and y-intercept of a line \nto match a set of data. Therefore, \na :class:`~matcal.dakota.local_calibration_studies.GradientCalibrationStudy`\nis created. The :class:`~matcal.dakota.local_calibration_studies.GradientCalibrationStudy`\nwill use gradient descent to calibrate the parameters it is given to a set of \ndata when a model and objective is provided. \n\nA MatCal study evaluates the effects of its parameters on evaluation sets that \nhave been added to the study. \nAn evaluation set is a collection of three concepts: a model, instructions on how \nto compare the model results to some reference data, \nand the reference data. \nTo add an evaluation set first each of these components need to be defined.\n\nThe first of this triad that will be defined is the reference data:\n\n"
      ]
    },
    {
      "cell_type": "code",
      "execution_count": null,
      "metadata": {
        "collapsed": false
      },
      "outputs": [],
      "source": [
        "my_data = FileData('my_data_file.csv')"
      ]
    },
    {
      "cell_type": "markdown",
      "metadata": {},
      "source": [
        "MatCal typically expects reference data to be contained in external data files. \nMatCal can read several common types of data files using the \n:func:`~matcal.core.data_importer.FileData`, such as csv and npy.\nIn the above line, MatCal reads in 'my_data_file.csv' and converts it \ninto an object it can use.  \nIn this case there is only one set of data of interest located in the \nfile 'my_data_file.csv'.\n\nThe next component to create is the model. \n\n"
      ]
    },
    {
      "cell_type": "code",
      "execution_count": null,
      "metadata": {
        "collapsed": false
      },
      "outputs": [],
      "source": [
        "def my_function(**parameters):\n  import numpy as np\n  time = np.linspace(0,100)\n  slope = parameters['slope']\n  y0 = parameters['y0']\n  values = y0 + slope * time\n  results = {'time':time, 'Y': values}\n  return results\n\nmy_model = PythonModel(my_function)"
      ]
    },
    {
      "cell_type": "markdown",
      "metadata": {},
      "source": [
        "Above we define a simple Python function that takes in a dictionary of the \nparameters of interest and returns a dictionary containing processed values.\nThis function will be the model used by MatCal to calibrate the line \nparameters to the data. \nThe function ``my_function`` unpacks the parameter dictionary using \nPython's unpacking feature ``**``.\nThe keywords that MatCal assigns the different parameters are the same as the \nname supplied by the user in the creation of the parameters. \nMatCal can use this function as a model using the \n:class:`~matcal.core.models.PythonModel` class, where the \nonly input is our ``my_function`` Python function. \n\nThe last of the evaluation set triad is the instructions on how to \ncompare the model results to the reference data. \nIn MatCal, these instructions are conveyed to the study by creating an \nobjective. \n\n"
      ]
    },
    {
      "cell_type": "code",
      "execution_count": null,
      "metadata": {
        "collapsed": false
      },
      "outputs": [],
      "source": [
        "my_objective = CurveBasedInterpolatedObjective('time','Y')"
      ]
    },
    {
      "cell_type": "markdown",
      "metadata": {},
      "source": [
        "In the above line, a \n:class:`~matcal.core.objective.CurveBasedInterpolatedObjective` is created. \nThis objective is an l2-norm of the differences between two curves in two dimensions \nand is the most commonly used objective in MatCal studies. \n:class:`~matcal.core.objective.CurveBasedInterpolatedObjective` takes \nin at least two string inputs. \nThe first input string is the independent variable that will be used \nto parameterize the comparison of the dependent variables (the X-Axis). \nThe second input string, and beyond, are the dependent variables that will \nbe compared. In this example we use 'time' as our independent variable \nand 'Y' as our dependent variable. \nFor our objective to work correctly, the data that we read in from \n'my_data_file.csv' needs to have 'time' and 'Y' fields. In addition, \nour model needs to also produce \n'time' and 'Y' value results. \n\nTo add the evaluation set to the study the line below is called.\n\n"
      ]
    },
    {
      "cell_type": "code",
      "execution_count": null,
      "metadata": {
        "collapsed": false
      },
      "outputs": [],
      "source": [
        "my_calibration.add_evaluation_set(my_model, my_objective, my_data)"
      ]
    },
    {
      "cell_type": "markdown",
      "metadata": {},
      "source": [
        "Now the study has the means to calibrate the parameters. It is possible for a \nstudy to have more than one evaluation set if applicable, but that will \nbe discussed in a later example. \nTo run the study the following line is used. \n\n"
      ]
    },
    {
      "cell_type": "code",
      "execution_count": null,
      "metadata": {
        "collapsed": false
      },
      "outputs": [],
      "source": [
        "results = my_calibration.launch()"
      ]
    },
    {
      "cell_type": "markdown",
      "metadata": {},
      "source": [
        "The :meth:`~matcal.dakota.local_calibration_studies.GradientCalibrationStudy.launch` \nmethod begins the study, and will run until either the calibration completes, \nor it encounters an error. \nIf the study completes successfully, it will return a dictionary of results \nincluding the calibrated parameters, and it will also create a file \nsaving the best parameter values.\nMatCal's progress is recorded in \"matcal.log\", and, if the study encounters \nan error, details of the error will be stored there. More information \non MatCal's output and results \ncan be found at `Results and Plotting`.\n\n"
      ]
    },
    {
      "cell_type": "code",
      "execution_count": null,
      "metadata": {
        "collapsed": false
      },
      "outputs": [],
      "source": [
        "make_standard_plots('time')\nprint(f\"Print best as results attribute:\\n{results.best}\")\nprint(f\"\\nAccess and print y0 as attribute from best:\\n{results.best.y0}\")\nprint(f\"\\nAccess and print best as dict:\\n{results.best.to_dict()}\")\nprint(f\"\\nAccess and print best as list:\\n{results.best.to_list()}\")"
      ]
    }
  ],
  "metadata": {
    "kernelspec": {
      "display_name": "Python 3",
      "language": "python",
      "name": "python3"
    },
    "language_info": {
      "codemirror_mode": {
        "name": "ipython",
        "version": 3
      },
      "file_extension": ".py",
      "mimetype": "text/x-python",
      "name": "python",
      "nbconvert_exporter": "python",
      "pygments_lexer": "ipython3",
      "version": "3.11.5"
    }
  },
  "nbformat": 4,
  "nbformat_minor": 0
}