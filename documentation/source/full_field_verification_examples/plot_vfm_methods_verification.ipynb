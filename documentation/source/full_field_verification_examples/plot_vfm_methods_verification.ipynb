{
  "cells": [
    {
      "cell_type": "markdown",
      "metadata": {},
      "source": [
        "# Virtual Fields Method Verification\nIn this example, we verify the virtual \npower residual calculation for a \nboundary value problem (BVP) with an \nanalytical solution. To conform \nto our VFM implementation constraints, \nwe chose a thin plate of length $H$\nloaded in uniaxial tension in the Y \ndirection with a distributed load with \nan over all magnitude of\n$L$. \nAssuming linear elasticity and \nsmall deformation, the stress\nin the Y direction in the plate is \n\n\\begin{align}\\sigma_{yy} =\\frac{L}{W T}\\end{align}\n\nwhere $W$ is the plate \nwidth and $T$ is the \nplate thickness. All other \nstresses are zero. \nThe in-plane displacements in the plate \nare given by \n\n\\begin{align}u=-\\nu\\frac{\\sigma_{yy}}{E}x\\end{align}\n\nand \n\n\\begin{align}v=\\frac{\\sigma_{yy}}{E}y\\end{align}\n\nwhere $E$ is the material elastic modulus, \n$\\nu$ is the material Poisson's ratio, and\n$x$ and $y$ are the locations on the plate. \n\nThe internal virtual power becomes\n\n\\begin{align}P_{int}=\\frac{L}{Wt}\\int_{z=-T/2}^{T/2}\\int_{y=-H/2}^{H/2}\\int_{x=-W/2}^{W/2}\\dot{\\mathbf{F}}^*_{yy}dxdydz\\end{align}\n\nwhere $\\dot{\\mathbf{F}}^*_{yy}$ is the $\\frac{\\partial\\mathbf{v}^*}{\\partial y}$. \nThe virtual velocity function used is\n\n\\begin{align}\\mathbf{v}^*_y=\\frac{2y+H}{2H}\\end{align}\n\n\nWith this virtual velocity function, the virtual \nvelocity gradient component of interest is \n\n\\begin{align}\\frac{\\partial\\mathbf{v}^*}{\\partial y} = 1/h.\\end{align}\n\nAs a result, the internal virtual power is given as \n\n\n\\begin{align}P_{int}=L\\end{align}\n\nThe external virtual power, as expected, \nresults an equivalent value. \n\n\\begin{align}P_{ext} = L\\mathbf{v}^*_y = L\\frac{2H/2+H}{2H} = L\\end{align}\n\nWith an analytical solution for the \nvirtual internal and external powers \navailable for the BVP\nof interest, we will create MatCal VFM \nobjects with the proper input and verify \nthat they return the expect values. \n\nWe will begin by creating synthetic data \nthat represents the experimental data \nfor this BVP. To do so, we import \nMatCal's tools and create the variables needed\nfor the analytical solutions above. \nWe will need:\n\n#.  The materials elastics constants $E$\n    and $\\nu$. We choose values that \n    are similar to steel with $E=200$ GPa\n    and $\\nu=0.25$.\n#.  The plate dimensions $H=15.2$ mm, $W=7.6$, \n    and $T=0.1$ mm with a discretization in Y and Y.\n#.  The load magnitude \n    as a function of time $L(t)$. \n    We will choose $L(t)$ such that \n    the maximum stress in the plate is 100 MPa.\n#.  The number of time steps and the time values.\n"
      ]
    },
    {
      "cell_type": "code",
      "execution_count": null,
      "metadata": {
        "collapsed": false
      },
      "outputs": [],
      "source": [
        "from matcal import *\nimport numpy as np\n\nE = 200e9\nnu = 0.25\n\nH = 15.2e-3\nW = 7.6e-3\nT = 0.1e-3\n\nmeasured_num_points = 10\nmeasured_xs = np.linspace(0, W, measured_num_points)\nmeasured_ys = np.linspace(0, H, measured_num_points)\nmeasured_x_grid, measured_y_grid = np.meshgrid(measured_xs, measured_ys)\n\n\nn_time_steps = 10\nL = np.linspace(0, 100e6*W*T,n_time_steps).reshape(n_time_steps,1)\ntime = np.linspace(0,1,n_time_steps)"
      ]
    },
    {
      "cell_type": "markdown",
      "metadata": {},
      "source": [
        "With all the required inputs initialized, we can \ncreate the :class:`~matcal.full_field.data.FieldData` objects\nthat are need to have MatCal evaluate the virtual powers\nfor the problem. The :class:`~matcal.full_field.data.FieldData`\nobject requires several fields:\n\n#. time\n#. load\n#. The X locations of the field data\n#. The Y locations of the data\n#. The X displacements for each point (U)\n#. The Y displacements for each point (V)\n\n"
      ]
    },
    {
      "cell_type": "code",
      "execution_count": null,
      "metadata": {
        "collapsed": false
      },
      "outputs": [],
      "source": [
        "sigma_yy = L/(W*T)\n\ndef displacements(x,y):\n    return  -nu*sigma_yy/E*x, sigma_yy/E*y\n\nall_x_1D = measured_x_grid.reshape(measured_num_points**2)\nall_y_1D = measured_y_grid.reshape(measured_num_points**2)\nu,v = displacements(all_x_1D, all_y_1D)"
      ]
    },
    {
      "cell_type": "markdown",
      "metadata": {},
      "source": [
        "After creating the values for the \nfields that we need, they can be combined\ninto a dictionary and converted into \na MatCal :class:`~matcal.full_field.data.FieldData`\nobject using the \n:func:`~matcal.full_field.data.convert_dictionary_to_field_data`\nfunction.\n\n"
      ]
    },
    {
      "cell_type": "code",
      "execution_count": null,
      "metadata": {
        "collapsed": false
      },
      "outputs": [],
      "source": [
        "data_dict = {'time':time, 'load':L, \n             \"X\":all_x_1D, \n             \"Y\":all_y_1D, \n             \"U\":u, \n             \"V\":v}\n\nfield_data = convert_dictionary_to_field_data(data_dict, \n                                              coordinate_names=[\"X\", \"Y\"])"
      ]
    },
    {
      "cell_type": "markdown",
      "metadata": {},
      "source": [
        "Next, a discretization for \nthe VFM models must be created. \nMatCal has a simple tool\nfor creating rectangular volumes\nthat we will use, the \n:func:`~matcal.full_field.TwoDimensionalFieldGrid.auto_generate_two_dimensional_field_grid`\nfunction. It requires the number of X and Y discretization points and the field data \nthat the mesh is intended to encapsulate as inputs. \nIt will return MatCal's two dimensional mesh class that can be\nused as a mesh input to MatCal's VFM model. It currently \ncan only be used for rectangular shapes without holes.\n\n"
      ]
    },
    {
      "cell_type": "code",
      "execution_count": null,
      "metadata": {
        "collapsed": false
      },
      "outputs": [],
      "source": [
        "from matcal.full_field.TwoDimensionalFieldGrid import auto_generate_two_dimensional_field_grid\nauto_mesh = auto_generate_two_dimensional_field_grid(measured_num_points*5, \n                                                     measured_num_points*5, field_data)"
      ]
    },
    {
      "cell_type": "markdown",
      "metadata": {},
      "source": [
        "The next item needed for the creation of the \nMatCal VFM models is a SierraSM material file. \nWe will create a simple elastic material model file\nusing Python file tools and then create a \nMatCal :class:`~matcal.sierra.material.Material`\nobject so the VFM models can use that material.\n\n"
      ]
    },
    {
      "cell_type": "code",
      "execution_count": null,
      "metadata": {
        "collapsed": false
      },
      "outputs": [],
      "source": [
        "material_file_string = \\\n\"\"\"\n  begin material steel\n    begin parameters for model elastic\n      youngs modulus                =  {E}\n      poissons ratio                =   {nu}\n    end\n  end\n\"\"\"\n\nwith open(\"elastic_material.inc\", \"w\") as mf:\n    mf.write(material_file_string)\n\nmaterial = Material(\"steel\", \"elastic_material.inc\", \"elastic\")"
      ]
    },
    {
      "cell_type": "markdown",
      "metadata": {},
      "source": [
        "We can now create the VFM models that we want \nto evaluate. We will look at two VFM models,\nThe :class:`~matcal.sierra.models.VFMUniaxialTensionHexModel`\nand the :class:`~matcal.sierra.models.VFMUniaxialTensionConnectedHexModel`\nwill both be evaluated in this verification example. \nThe models require a material, a mesh and thickness \nto be initialized and field data with a two-dimensional displacement field \nto be added as the boundary condition data. We optionally set the names\nso their results can be more easily pulled from the results \ndata object returned from our study.\n\n"
      ]
    },
    {
      "cell_type": "code",
      "execution_count": null,
      "metadata": {
        "collapsed": false
      },
      "outputs": [],
      "source": [
        "default_hex_model = VFMUniaxialTensionHexModel(material, auto_mesh, T)\ndefault_hex_model.set_name(\"default_VFM_hex_model\")\ndefault_hex_model.add_boundary_condition_data(field_data)\ndefault_hex_model.set_number_of_time_steps(20)\n\nconnected_hex_model = VFMUniaxialTensionConnectedHexModel(material, auto_mesh, T)\nconnected_hex_model.set_name(\"VFM_connected_hex_model\")\nconnected_hex_model.add_boundary_condition_data(field_data)\nconnected_hex_model.set_number_of_time_steps(20)"
      ]
    },
    {
      "cell_type": "markdown",
      "metadata": {},
      "source": [
        "The final step is to create the parameters for the study, \nthe objective to be evaluated \nand the study itself. For our elastic model, the \nonly parameters we need are the elastic modulus and \nthe Poisson's ratio. The study we will use to evaluate\nthe models is the :class:`~matcal.core.parameter_studies.ParameterStudy`\nsince just need the model results at our predetermined \nsteel-like parameter values. Since this study is \nevaluating a VFM model, we create a VFM model \nwith no inputs because our global data fields \nof \"time\" and \"load\" match the default ones \nexpected by the objective.\n\n"
      ]
    },
    {
      "cell_type": "code",
      "execution_count": null,
      "metadata": {
        "collapsed": false
      },
      "outputs": [],
      "source": [
        "E_param = Parameter('E', 100e9, 300e9)\nnu_param = Parameter('nu', 0.1, 0.5)\n\nvfm_objective = MechanicalVFMObjective()\nvfm_objective.set_name('vfm_objective')"
      ]
    },
    {
      "cell_type": "markdown",
      "metadata": {},
      "source": [
        "After creating the parameters, objectives, synthetic data\nand models, we can create the study and add the evaluation \nsets and parameter values that we want to evaluate. \nThe study is then launched and the results are stored in \nan object that we can analyze when the study completes.\n\n"
      ]
    },
    {
      "cell_type": "code",
      "execution_count": null,
      "metadata": {
        "collapsed": false
      },
      "outputs": [],
      "source": [
        "study = ParameterStudy(E_param, nu_param)\nstudy.add_parameter_evaluation(E=E, nu=nu)\nstudy.add_evaluation_set(default_hex_model, vfm_objective, field_data)\nstudy.add_evaluation_set(connected_hex_model, vfm_objective, field_data)\nstudy.set_core_limit(3)\nresults = study.launch()"
      ]
    },
    {
      "cell_type": "markdown",
      "metadata": {},
      "source": [
        "In this verification problem, our \ngoal is to verify that our MatCal \nVFM objective is accurately evaluating \nthe internal and external virtual powers. \nAs a result, we extract these virtual powers \nfrom the study results and compare them to \nthe analytically determined value for the internal power \n$L\\left(t\\right)$. We compare them by \nevaluating their percent error with the following equation\n\n\\begin{align}Pe =  100\\frac{P_{eval} - L}{\\max\\left(L\\right)}\\end{align}\n\nwhere $P_{eval}$ is the evaluated virtual power \n(either the internal or external from either model).\nSince we will evaluate this percent error several times,\nwe make a function to perform the calculation.\n\n"
      ]
    },
    {
      "cell_type": "code",
      "execution_count": null,
      "metadata": {
        "collapsed": false
      },
      "outputs": [],
      "source": [
        "def percent_error(prediction, actual):\n    return (prediction - actual)/np.max(actual)*100"
      ]
    },
    {
      "cell_type": "markdown",
      "metadata": {},
      "source": [
        "We then extract the results from each of the models\nand print or plot their errors.\n\n"
      ]
    },
    {
      "cell_type": "code",
      "execution_count": null,
      "metadata": {
        "collapsed": false
      },
      "outputs": [],
      "source": [
        "matcal_internal_power_default = results.best_simulation_qois(default_hex_model, \n                                                             vfm_objective, \n                                                             field_data.state, \n                                                             0)[\"virtual_power\"]\nmatcal_external_power_default = results.get_experiment_qois(default_hex_model, \n                                                             vfm_objective, \n                                                             field_data.state, \n                                                             0)[\"virtual_power\"]\n\nmatcal_internal_power_connected = results.best_simulation_qois(connected_hex_model, \n                                                             vfm_objective, \n                                                             field_data.state, \n                                                             0)[\"virtual_power\"]\nmatcal_external_power_connected = results.get_experiment_qois(connected_hex_model, \n                                                             vfm_objective, \n                                                             field_data.state, \n                                                             0)[\"virtual_power\"]\n\nprint(percent_error(matcal_external_power_default, L))\nprint(percent_error(matcal_external_power_connected, L))"
      ]
    },
    {
      "cell_type": "markdown",
      "metadata": {},
      "source": [
        "Both of the external powers have\nno error. This is expected as our \nexperimental data for this study was \nexact. This result demonstrates in part that \nall of the MatCal's VFM objective calculations and virtual \nfields are correctly implemented. We have unit tests\nthat test each of the components to contribute to \nthis individually. \nThe next evaluation compares the internal \nvirtual power to the expected virtual power. \nThis is significantly more involved as it requires \nthe simulation of the VFM model using SierraSM. \n\n"
      ]
    },
    {
      "cell_type": "code",
      "execution_count": null,
      "metadata": {
        "collapsed": false
      },
      "outputs": [],
      "source": [
        "internal_power_error_default = percent_error(matcal_internal_power_default.reshape(10,1), L)\ninternal_power_error_connected = percent_error(matcal_internal_power_connected.reshape(10,1), L)\nprint(internal_power_error_default)\nprint(internal_power_error_connected)"
      ]
    },
    {
      "cell_type": "markdown",
      "metadata": {},
      "source": [
        "When we print the percent errors, it is clear that the \nsome part of the process has introduced errors. The \nmagnitude of the maximum error is 0.05%. To\nfurther investigate, we plot the internal \npower errors as a function time. \n\n"
      ]
    },
    {
      "cell_type": "code",
      "execution_count": null,
      "metadata": {
        "collapsed": false
      },
      "outputs": [],
      "source": [
        "import matplotlib.pyplot as plt\n\nplt.plot(time, internal_power_error_default, label=\"default VFM model\", marker='o')\nplt.plot(time, internal_power_error_connected, label=\"connected hex VFM model\")\n\nplt.xlabel(\"time (s)\")\nplt.ylabel(\"Internal Power Error (%)\")\nplt.legend()\nplt.show()"
      ]
    },
    {
      "cell_type": "markdown",
      "metadata": {},
      "source": [
        "The error is increasing quadratically as\nthe load is increased and the model \nbecomes more deformed. This error is due to \nour initial assumption of small deformation. \nSierraSM is formulated as a large deformation code. \nAs a result, our small deformation assumption results \nin this small, but noticeable error. In later verification \nexamples, we evaluate our methods with synthetic data \nusing large deformation solutions and are able to \nobtain results with much smaller errors.\n\n"
      ]
    }
  ],
  "metadata": {
    "kernelspec": {
      "display_name": "Python 3",
      "language": "python",
      "name": "python3"
    },
    "language_info": {
      "codemirror_mode": {
        "name": "ipython",
        "version": 3
      },
      "file_extension": ".py",
      "mimetype": "text/x-python",
      "name": "python",
      "nbconvert_exporter": "python",
      "pygments_lexer": "ipython3",
      "version": "3.11.5"
    }
  },
  "nbformat": 4,
  "nbformat_minor": 0
}